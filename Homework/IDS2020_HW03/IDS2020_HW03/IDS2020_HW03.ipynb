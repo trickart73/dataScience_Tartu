{
 "cells": [
  {
   "cell_type": "markdown",
   "metadata": {
    "id": "Ev4ykkjUPCBg"
   },
   "source": [
    "# Homework 3 - Frequent pattern mining\n",
    "\n",
    "## Deadline: October 5th, at noon (12:00)"
   ]
  },
  {
   "cell_type": "markdown",
   "metadata": {
    "id": "1rGM7ToMPCBi"
   },
   "source": [
    "#### General instructions\n",
    "\n",
    "Please look up the general instructions about homeworks in the first homework.\n",
    "\n",
    "#### Tracking your time\n",
    "\n",
    "We will appreciate if you track your time spent on solving the homework and report it in the dedicated cells at the end of the homework. This is not compulsory and does not affect your grade in any way. The collected information will be used to improve future homeworks.\n",
    "\n",
    "#### About this homework\n",
    "\n",
    "In this homework, we will get familiar with mining frequent itemsets, using apriori algorithm, and calculating metrics for association rules. Titanic dataset is included in the IDS2020_HW03.zip container. Before solving these tasks please make sure that you have looked through the slides of Lecture 04, in particular about support, support count, and association rules and their metrics."
   ]
  },
  {
   "cell_type": "markdown",
   "metadata": {
    "id": "qXcci_aTPCBl"
   },
   "source": [
    "# 1.  Basics (1 point)"
   ]
  },
  {
   "cell_type": "markdown",
   "metadata": {
    "id": "2e6naU8cPCBn"
   },
   "source": [
    "Searching for frequent patterns in the data is one of the most basic procedures used in descriptive data analysis (data mining). The goal of this exercise is to study the frequencies of itemsets in a dataset with 15 transactions covering 8 items (A,B,C,D,E,F,G,H). By performing all counting manually (without programming), please answer the following questions:"
   ]
  },
  {
   "cell_type": "code",
   "execution_count": 1,
   "metadata": {
    "id": "mdu3xG8cPCBp"
   },
   "outputs": [],
   "source": [
    "transactions = [\n",
    "  ['B','D','F','H'],\n",
    "  ['C','D','F','G'],\n",
    "  ['A','D','F','G'],\n",
    "  ['A','B','C','D','H'],\n",
    "  ['A','C','F','G'],\n",
    "  ['D','H'],\n",
    "  ['A','B','E','F'],\n",
    "  ['A','C','D','F','H'], \n",
    "  ['A','C','D','F','G'],\n",
    "  ['D','F','G','H'],\n",
    "  ['A','C','D','E'],\n",
    "  ['B','E','D','F','H'],\n",
    "  ['D','F','G'],\n",
    "  ['C','F','G','H'],\n",
    "  ['A','C','D','F','H']\n",
    "]"
   ]
  },
  {
   "cell_type": "markdown",
   "metadata": {
    "id": "81u4PtdNPCB6"
   },
   "source": [
    "**a. Calculate the support count and the support of patterns {D} and {D,F}**\n",
    "\n",
    "As a reminder: $$\\text{support} = \\frac{\\text{support count }}{\\text{ number of transactions}}$$"
   ]
  },
  {
   "cell_type": "markdown",
   "metadata": {
    "id": "ZpFI8RP9PCB7"
   },
   "source": [
    "**<font color='red'>Support count ({D}) = </font>**12"
   ]
  },
  {
   "cell_type": "markdown",
   "metadata": {
    "id": "usv76gwSPCB8"
   },
   "source": [
    "**<font color='red'>Support ({D}) = </font>** 12/15 = 4/5 = 0.8"
   ]
  },
  {
   "cell_type": "markdown",
   "metadata": {
    "id": "_S_iN9D3PCB9"
   },
   "source": [
    "**<font color='red'>Support count ({D,F}) = </font>** 9"
   ]
  },
  {
   "cell_type": "markdown",
   "metadata": {
    "id": "XoWlMpJlPCB-"
   },
   "source": [
    "**<font color='red'>Support ({D,F}) = </font>** 9/15 = 3/5"
   ]
  },
  {
   "cell_type": "markdown",
   "metadata": {
    "id": "Aw8G89KbPCCA"
   },
   "source": [
    "**b. Report the row indices of transactions which include the pattern {D,F,G}. Start counting from 1, meaning that the first row has index 1.**"
   ]
  },
  {
   "cell_type": "markdown",
   "metadata": {
    "id": "-J3VwrK2PCCB"
   },
   "source": [
    "**<font color='red'>Answer:</font>** row indices of transactions which include the pattern {D,F,G} :\n",
    "- 2\n",
    "- 3\n",
    "- 9\n",
    "- 10\n",
    "- 13"
   ]
  },
  {
   "cell_type": "markdown",
   "metadata": {
    "id": "qECPovJ3PCCC"
   },
   "source": [
    "**c. Explain what anti-monotonicity of support means, in the example of these patterns {D} and {D,F}**"
   ]
  },
  {
   "cell_type": "markdown",
   "metadata": {
    "id": "65eqpSWrPCCD"
   },
   "source": [
    "**<font color='red'>Answer:</font>** Anti-monotonicity is if X ⊆ Y ⇒ support(X) ≥ support(Y). Here, {D} ⊆ {D,F} so we have support({D}) ≥ support({D,F}). It  will be illogical if support({D,F}) ≥ support({D}) because it will means that there is more {D,F} than {D}, and that's impossible"
   ]
  },
  {
   "cell_type": "markdown",
   "metadata": {
    "id": "Z7hEvsSqPCCE"
   },
   "source": [
    "**d. A set with $n$ elements has in total $2^n$ different subsets (including the empty set). Out from all those subsets, the number of subsets with $k$ elements is: \n",
    "\\begin{equation*}\n",
    "{n \\choose k} = \\frac{n!}{k!(n-k)!}\n",
    "\\end{equation*}\n",
    "This quantity is also known as the binomial coefficient and $n \\choose k$ is read out as \"n choose k\". In Python, you can calculate $n \\choose k$ using the command `comb(n,k)` from the library `scipy.special`. If not already installed, you can install `scipy` with `conda install scipy`. The function `comb` can be used for example like this:**"
   ]
  },
  {
   "cell_type": "code",
   "execution_count": 2,
   "metadata": {
    "id": "yDirOdaqPCCF"
   },
   "outputs": [
    {
     "name": "stdout",
     "output_type": "stream",
     "text": [
      "1.0\n"
     ]
    }
   ],
   "source": [
    "from scipy.special import comb\n",
    "print(comb(3,0))"
   ]
  },
  {
   "cell_type": "markdown",
   "metadata": {
    "id": "OKfwpqxGPCCM"
   },
   "source": [
    "**How many itemsets could be generated in total from 8 items? Please exclude the empty itemset while counting.**"
   ]
  },
  {
   "cell_type": "code",
   "execution_count": 3,
   "metadata": {
    "id": "Ld0lOYipPCCM"
   },
   "outputs": [
    {
     "name": "stdout",
     "output_type": "stream",
     "text": [
      "255.0\n",
      "255\n"
     ]
    }
   ],
   "source": [
    "# Perform the computation here\n",
    "items = 8\n",
    "itemsets = 0\n",
    "for i in range(1,items+1): #Starting from one because no empty\n",
    "    itemsets = itemsets + comb(items,i)\n",
    "print(itemsets)\n",
    "\n",
    "#OR\n",
    "\n",
    "itemsets_2 = 2**8 - 1 #Minus one because no empty\n",
    "print(itemsets_2)"
   ]
  },
  {
   "cell_type": "markdown",
   "metadata": {
    "id": "fFYl7udOPCCT"
   },
   "source": [
    "**<font color='red'>Answer:</font>** 255 itemsets could be generated in total from 8 items"
   ]
  },
  {
   "cell_type": "markdown",
   "metadata": {
    "id": "fx9yZ02KPCCU"
   },
   "source": [
    "**e. How many different 2-element itemsets can be generated from the items A,B,C,D,E,F,G,H?**"
   ]
  },
  {
   "cell_type": "code",
   "execution_count": 4,
   "metadata": {
    "id": "76YHwjKyPCCV"
   },
   "outputs": [
    {
     "name": "stdout",
     "output_type": "stream",
     "text": [
      "36\n"
     ]
    }
   ],
   "source": [
    "# Perform the computation here\n",
    "number_items = 8\n",
    "two_element_itemsets = 0\n",
    "#If the order doesn't matter, we have :\n",
    "for i in range(0,number_items):\n",
    "    two_element_itemsets = two_element_itemsets + number_items-i\n",
    "print(two_element_itemsets)"
   ]
  },
  {
   "cell_type": "markdown",
   "metadata": {
    "id": "AG7VhD6SPCCa"
   },
   "source": [
    "**<font color='red'>Answer:</font>** We can have 36 2-element itemsets , because we have first a number of 8 combination with 'A' and then all the other leters, and after 'B' with all the other letter but without 'A' give us 7 combination. Finally, 8+7+6+5+4+3+2+1 = 36."
   ]
  },
  {
   "cell_type": "markdown",
   "metadata": {
    "id": "uF4x9suFPCCb"
   },
   "source": [
    "### Apriori algorithm\n",
    "\n",
    "In the following subtasks we will use the tools for frequent itemset mining as implemented in the `mlxtend` library. For example, we will use the function <code>apriori()</code> from ```mlxtend.frequent_patterns``` to find the frequent itemsets in the toy dataset above. \n",
    "\n",
    "Use <code>pip3 install mlxtend</code> or <code>pip install mlxtend</code> if needed. The documentation is available __[here](http://rasbt.github.io/mlxtend/api_subpackages/mlxtend.frequent_patterns/)__.<br> \n",
    "\n",
    "<details>\n",
    "<summary>Issues with installing</summary> \n",
    "    It might occur because the python environment variable is set to another python version than the one used for Jupyter Notebook. If Anaconda is installed, there should be also Anaconda Prompt available (similar to cmd), where the pip command can be used. If there are still problems let us know in Piazza.\n",
    "</details>\n",
    "\n",
    "First, we will rearrange the given dataset of transactions into a pandas DataFrame with boolean (true/false) values to denote which items belong to the transactions."
   ]
  },
  {
   "cell_type": "code",
   "execution_count": 5,
   "metadata": {
    "id": "8NWAHiTePCCb"
   },
   "outputs": [
    {
     "data": {
      "text/html": [
       "<div>\n",
       "<style scoped>\n",
       "    .dataframe tbody tr th:only-of-type {\n",
       "        vertical-align: middle;\n",
       "    }\n",
       "\n",
       "    .dataframe tbody tr th {\n",
       "        vertical-align: top;\n",
       "    }\n",
       "\n",
       "    .dataframe thead th {\n",
       "        text-align: right;\n",
       "    }\n",
       "</style>\n",
       "<table border=\"1\" class=\"dataframe\">\n",
       "  <thead>\n",
       "    <tr style=\"text-align: right;\">\n",
       "      <th></th>\n",
       "      <th>A</th>\n",
       "      <th>B</th>\n",
       "      <th>C</th>\n",
       "      <th>D</th>\n",
       "      <th>E</th>\n",
       "      <th>F</th>\n",
       "      <th>G</th>\n",
       "      <th>H</th>\n",
       "    </tr>\n",
       "  </thead>\n",
       "  <tbody>\n",
       "    <tr>\n",
       "      <th>0</th>\n",
       "      <td>False</td>\n",
       "      <td>True</td>\n",
       "      <td>False</td>\n",
       "      <td>True</td>\n",
       "      <td>False</td>\n",
       "      <td>True</td>\n",
       "      <td>False</td>\n",
       "      <td>True</td>\n",
       "    </tr>\n",
       "    <tr>\n",
       "      <th>1</th>\n",
       "      <td>False</td>\n",
       "      <td>False</td>\n",
       "      <td>True</td>\n",
       "      <td>True</td>\n",
       "      <td>False</td>\n",
       "      <td>True</td>\n",
       "      <td>True</td>\n",
       "      <td>False</td>\n",
       "    </tr>\n",
       "    <tr>\n",
       "      <th>2</th>\n",
       "      <td>True</td>\n",
       "      <td>False</td>\n",
       "      <td>False</td>\n",
       "      <td>True</td>\n",
       "      <td>False</td>\n",
       "      <td>True</td>\n",
       "      <td>True</td>\n",
       "      <td>False</td>\n",
       "    </tr>\n",
       "    <tr>\n",
       "      <th>3</th>\n",
       "      <td>True</td>\n",
       "      <td>True</td>\n",
       "      <td>True</td>\n",
       "      <td>True</td>\n",
       "      <td>False</td>\n",
       "      <td>False</td>\n",
       "      <td>False</td>\n",
       "      <td>True</td>\n",
       "    </tr>\n",
       "    <tr>\n",
       "      <th>4</th>\n",
       "      <td>True</td>\n",
       "      <td>False</td>\n",
       "      <td>True</td>\n",
       "      <td>False</td>\n",
       "      <td>False</td>\n",
       "      <td>True</td>\n",
       "      <td>True</td>\n",
       "      <td>False</td>\n",
       "    </tr>\n",
       "    <tr>\n",
       "      <th>5</th>\n",
       "      <td>False</td>\n",
       "      <td>False</td>\n",
       "      <td>False</td>\n",
       "      <td>True</td>\n",
       "      <td>False</td>\n",
       "      <td>False</td>\n",
       "      <td>False</td>\n",
       "      <td>True</td>\n",
       "    </tr>\n",
       "    <tr>\n",
       "      <th>6</th>\n",
       "      <td>True</td>\n",
       "      <td>True</td>\n",
       "      <td>False</td>\n",
       "      <td>False</td>\n",
       "      <td>True</td>\n",
       "      <td>True</td>\n",
       "      <td>False</td>\n",
       "      <td>False</td>\n",
       "    </tr>\n",
       "    <tr>\n",
       "      <th>7</th>\n",
       "      <td>True</td>\n",
       "      <td>False</td>\n",
       "      <td>True</td>\n",
       "      <td>True</td>\n",
       "      <td>False</td>\n",
       "      <td>True</td>\n",
       "      <td>False</td>\n",
       "      <td>True</td>\n",
       "    </tr>\n",
       "    <tr>\n",
       "      <th>8</th>\n",
       "      <td>True</td>\n",
       "      <td>False</td>\n",
       "      <td>True</td>\n",
       "      <td>True</td>\n",
       "      <td>False</td>\n",
       "      <td>True</td>\n",
       "      <td>True</td>\n",
       "      <td>False</td>\n",
       "    </tr>\n",
       "    <tr>\n",
       "      <th>9</th>\n",
       "      <td>False</td>\n",
       "      <td>False</td>\n",
       "      <td>False</td>\n",
       "      <td>True</td>\n",
       "      <td>False</td>\n",
       "      <td>True</td>\n",
       "      <td>True</td>\n",
       "      <td>True</td>\n",
       "    </tr>\n",
       "    <tr>\n",
       "      <th>10</th>\n",
       "      <td>True</td>\n",
       "      <td>False</td>\n",
       "      <td>True</td>\n",
       "      <td>True</td>\n",
       "      <td>True</td>\n",
       "      <td>False</td>\n",
       "      <td>False</td>\n",
       "      <td>False</td>\n",
       "    </tr>\n",
       "    <tr>\n",
       "      <th>11</th>\n",
       "      <td>False</td>\n",
       "      <td>True</td>\n",
       "      <td>False</td>\n",
       "      <td>True</td>\n",
       "      <td>True</td>\n",
       "      <td>True</td>\n",
       "      <td>False</td>\n",
       "      <td>True</td>\n",
       "    </tr>\n",
       "    <tr>\n",
       "      <th>12</th>\n",
       "      <td>False</td>\n",
       "      <td>False</td>\n",
       "      <td>False</td>\n",
       "      <td>True</td>\n",
       "      <td>False</td>\n",
       "      <td>True</td>\n",
       "      <td>True</td>\n",
       "      <td>False</td>\n",
       "    </tr>\n",
       "    <tr>\n",
       "      <th>13</th>\n",
       "      <td>False</td>\n",
       "      <td>False</td>\n",
       "      <td>True</td>\n",
       "      <td>False</td>\n",
       "      <td>False</td>\n",
       "      <td>True</td>\n",
       "      <td>True</td>\n",
       "      <td>True</td>\n",
       "    </tr>\n",
       "    <tr>\n",
       "      <th>14</th>\n",
       "      <td>True</td>\n",
       "      <td>False</td>\n",
       "      <td>True</td>\n",
       "      <td>True</td>\n",
       "      <td>False</td>\n",
       "      <td>True</td>\n",
       "      <td>False</td>\n",
       "      <td>True</td>\n",
       "    </tr>\n",
       "  </tbody>\n",
       "</table>\n",
       "</div>"
      ],
      "text/plain": [
       "        A      B      C      D      E      F      G      H\n",
       "0   False   True  False   True  False   True  False   True\n",
       "1   False  False   True   True  False   True   True  False\n",
       "2    True  False  False   True  False   True   True  False\n",
       "3    True   True   True   True  False  False  False   True\n",
       "4    True  False   True  False  False   True   True  False\n",
       "5   False  False  False   True  False  False  False   True\n",
       "6    True   True  False  False   True   True  False  False\n",
       "7    True  False   True   True  False   True  False   True\n",
       "8    True  False   True   True  False   True   True  False\n",
       "9   False  False  False   True  False   True   True   True\n",
       "10   True  False   True   True   True  False  False  False\n",
       "11  False   True  False   True   True   True  False   True\n",
       "12  False  False  False   True  False   True   True  False\n",
       "13  False  False   True  False  False   True   True   True\n",
       "14   True  False   True   True  False   True  False   True"
      ]
     },
     "execution_count": 5,
     "metadata": {},
     "output_type": "execute_result"
    }
   ],
   "source": [
    "import pandas as pd\n",
    "from mlxtend.preprocessing import TransactionEncoder\n",
    "\n",
    "te = TransactionEncoder()\n",
    "te_ary = te.fit(transactions).transform(transactions)\n",
    "df = pd.DataFrame(te_ary, columns=te.columns_)\n",
    "df"
   ]
  },
  {
   "cell_type": "markdown",
   "metadata": {
    "id": "byWX76bxPCCy"
   },
   "source": [
    "**f. Run the code below to find frequent itemsets with threshold <code>min_support=5/len(df)</code> for support. This means that it returns all non-empty itemsets with support count at least 5.**"
   ]
  },
  {
   "cell_type": "code",
   "execution_count": 6,
   "metadata": {
    "id": "VW5Y72jjPCC0"
   },
   "outputs": [
    {
     "data": {
      "text/html": [
       "<div>\n",
       "<style scoped>\n",
       "    .dataframe tbody tr th:only-of-type {\n",
       "        vertical-align: middle;\n",
       "    }\n",
       "\n",
       "    .dataframe tbody tr th {\n",
       "        vertical-align: top;\n",
       "    }\n",
       "\n",
       "    .dataframe thead th {\n",
       "        text-align: right;\n",
       "    }\n",
       "</style>\n",
       "<table border=\"1\" class=\"dataframe\">\n",
       "  <thead>\n",
       "    <tr style=\"text-align: right;\">\n",
       "      <th></th>\n",
       "      <th>support</th>\n",
       "      <th>itemsets</th>\n",
       "    </tr>\n",
       "  </thead>\n",
       "  <tbody>\n",
       "    <tr>\n",
       "      <th>0</th>\n",
       "      <td>0.533333</td>\n",
       "      <td>(A)</td>\n",
       "    </tr>\n",
       "    <tr>\n",
       "      <th>1</th>\n",
       "      <td>0.533333</td>\n",
       "      <td>(C)</td>\n",
       "    </tr>\n",
       "    <tr>\n",
       "      <th>2</th>\n",
       "      <td>0.800000</td>\n",
       "      <td>(D)</td>\n",
       "    </tr>\n",
       "    <tr>\n",
       "      <th>3</th>\n",
       "      <td>0.800000</td>\n",
       "      <td>(F)</td>\n",
       "    </tr>\n",
       "    <tr>\n",
       "      <th>4</th>\n",
       "      <td>0.466667</td>\n",
       "      <td>(G)</td>\n",
       "    </tr>\n",
       "    <tr>\n",
       "      <th>5</th>\n",
       "      <td>0.533333</td>\n",
       "      <td>(H)</td>\n",
       "    </tr>\n",
       "    <tr>\n",
       "      <th>6</th>\n",
       "      <td>0.400000</td>\n",
       "      <td>(A, C)</td>\n",
       "    </tr>\n",
       "    <tr>\n",
       "      <th>7</th>\n",
       "      <td>0.400000</td>\n",
       "      <td>(A, D)</td>\n",
       "    </tr>\n",
       "    <tr>\n",
       "      <th>8</th>\n",
       "      <td>0.400000</td>\n",
       "      <td>(A, F)</td>\n",
       "    </tr>\n",
       "    <tr>\n",
       "      <th>9</th>\n",
       "      <td>0.400000</td>\n",
       "      <td>(D, C)</td>\n",
       "    </tr>\n",
       "    <tr>\n",
       "      <th>10</th>\n",
       "      <td>0.400000</td>\n",
       "      <td>(F, C)</td>\n",
       "    </tr>\n",
       "    <tr>\n",
       "      <th>11</th>\n",
       "      <td>0.600000</td>\n",
       "      <td>(D, F)</td>\n",
       "    </tr>\n",
       "    <tr>\n",
       "      <th>12</th>\n",
       "      <td>0.333333</td>\n",
       "      <td>(D, G)</td>\n",
       "    </tr>\n",
       "    <tr>\n",
       "      <th>13</th>\n",
       "      <td>0.466667</td>\n",
       "      <td>(D, H)</td>\n",
       "    </tr>\n",
       "    <tr>\n",
       "      <th>14</th>\n",
       "      <td>0.466667</td>\n",
       "      <td>(G, F)</td>\n",
       "    </tr>\n",
       "    <tr>\n",
       "      <th>15</th>\n",
       "      <td>0.400000</td>\n",
       "      <td>(H, F)</td>\n",
       "    </tr>\n",
       "    <tr>\n",
       "      <th>16</th>\n",
       "      <td>0.333333</td>\n",
       "      <td>(A, D, C)</td>\n",
       "    </tr>\n",
       "    <tr>\n",
       "      <th>17</th>\n",
       "      <td>0.333333</td>\n",
       "      <td>(D, G, F)</td>\n",
       "    </tr>\n",
       "    <tr>\n",
       "      <th>18</th>\n",
       "      <td>0.333333</td>\n",
       "      <td>(D, H, F)</td>\n",
       "    </tr>\n",
       "  </tbody>\n",
       "</table>\n",
       "</div>"
      ],
      "text/plain": [
       "     support   itemsets\n",
       "0   0.533333        (A)\n",
       "1   0.533333        (C)\n",
       "2   0.800000        (D)\n",
       "3   0.800000        (F)\n",
       "4   0.466667        (G)\n",
       "5   0.533333        (H)\n",
       "6   0.400000     (A, C)\n",
       "7   0.400000     (A, D)\n",
       "8   0.400000     (A, F)\n",
       "9   0.400000     (D, C)\n",
       "10  0.400000     (F, C)\n",
       "11  0.600000     (D, F)\n",
       "12  0.333333     (D, G)\n",
       "13  0.466667     (D, H)\n",
       "14  0.466667     (G, F)\n",
       "15  0.400000     (H, F)\n",
       "16  0.333333  (A, D, C)\n",
       "17  0.333333  (D, G, F)\n",
       "18  0.333333  (D, H, F)"
      ]
     },
     "execution_count": 6,
     "metadata": {},
     "output_type": "execute_result"
    }
   ],
   "source": [
    "from mlxtend.frequent_patterns import apriori\n",
    "\n",
    "freq_itemsets = apriori(df, min_support=5/len(df), use_colnames=True)  #use_colnames shows the names of items\n",
    "freq_itemsets"
   ]
  },
  {
   "cell_type": "markdown",
   "metadata": {
    "id": "RQl1uxIGPCC9"
   },
   "source": [
    "**By looking at the output of the previous code, please report all frequent 2-sets.**"
   ]
  },
  {
   "cell_type": "markdown",
   "metadata": {
    "id": "1tQkGO9ZPCDA"
   },
   "source": [
    "**<font color='red'>Answer:</font>** The frequent 2-sets are those who have a support of minimum 5 ; here, following the code above, we have these following frequent 2-sets :\n",
    "- (A,C)\n",
    "- (A,D)\n",
    "- (A,F)\n",
    "- (C,D)\n",
    "- (C,F)\n",
    "- (D,F)\n",
    "- (D,G)\n",
    "- (D,H)\n",
    "- (F,G)\n",
    "- (F,H)"
   ]
  },
  {
   "cell_type": "markdown",
   "metadata": {
    "id": "VOjbvEigPCDD"
   },
   "source": [
    "**g. Please see the lecture slides regarding how the apriori algorithm works. Instead of reading out the frequent 3-sets from the above results, we will find these manually using the apriori algorithm. For this, create all possible candidate 3-sets by adding an item to the frequent 2-sets in all possible ways and keeping as candidates only those 3-sets for which all subsets of size 2 are frequent (that is, discarding all the 3-sets for which some subset of size 2 is not frequent). Report the remaining candidate 3-sets.**  (For many of you, it is probably easier to solve this task manually, without programming)."
   ]
  },
  {
   "cell_type": "markdown",
   "metadata": {
    "id": "vXetWZRYPCDF"
   },
   "source": [
    "**<font color='red'>Answer:</font>** By following the apriori algorithm, we have these remaining candidate 3-sets :\n",
    "- (A,C,D)\n",
    "- (A,C,F)\n",
    "- (A,D,F)\n",
    "- (C,D,F)\n",
    "- (C,D,G)\n",
    "- (C,D,H)\n",
    "- (D,F,G)\n",
    "- (D,F,H)"
   ]
  },
  {
   "cell_type": "markdown",
   "metadata": {
    "id": "dPNS1C_4PCDG"
   },
   "source": [
    "**h. Explain why the number of candidate 3-sets is greater than the number of frequent 3-sets as reported by <code>apriori(df, min_support=5/len(df), use_colnames=True)</code>.**"
   ]
  },
  {
   "cell_type": "markdown",
   "metadata": {
    "id": "0zXaUyR9PCDH"
   },
   "source": [
    "**<font color='red'>Answer:</font>** We have more candidates thant the number reported by the function because the function doesn't each candidate but only those who are frequent (min_support=5/len(df)). For example, support{(A,C,D)} = 5 so it's reported but support({A,C,F}) = 4 < 5 so it's not reported."
   ]
  },
  {
   "cell_type": "markdown",
   "metadata": {
    "id": "A6t7YP6fPCDI"
   },
   "source": [
    "**i. Do you think that on this dataset the apriori algorithm would be faster than the brute force approach which counts the frequencies of all possible itemsets? (No need for writing code here, please just express your opinion and explain why you think so) Would your opinion be different if the dataset would be bigger or smaller?**"
   ]
  },
  {
   "cell_type": "markdown",
   "metadata": {
    "id": "zGK-WU2sPCDI"
   },
   "source": [
    "**<font color='red'>Answer:</font>** I think the apriri algorithm is really helpfull when we have a large amount of data. With 8 items, it maybe the limit but we can treat data by hands, even if it's harder and we made mistake sometimes. But with more data, like just 20 is sufficient to prove my point, I think we can't treat by hand anymore and we need the apriori algorithm."
   ]
  },
  {
   "cell_type": "markdown",
   "metadata": {
    "id": "yyQsDSf_PCDJ"
   },
   "source": [
    "# 2.  Association rules (1 point)"
   ]
  },
  {
   "cell_type": "markdown",
   "metadata": {
    "id": "ggJjf5J8PCDL"
   },
   "source": [
    "The goal in this exercise is to study the association rules in the same dataset as in Task 1. Look at the output of <code>freq_itemsets = apriori(df, min_support=5/len(df), use_colnames=True)</code> and manually (without programming) answer the following questions:"
   ]
  },
  {
   "cell_type": "code",
   "execution_count": 7,
   "metadata": {
    "id": "wqAdZ7TePCDM"
   },
   "outputs": [
    {
     "data": {
      "text/html": [
       "<div>\n",
       "<style scoped>\n",
       "    .dataframe tbody tr th:only-of-type {\n",
       "        vertical-align: middle;\n",
       "    }\n",
       "\n",
       "    .dataframe tbody tr th {\n",
       "        vertical-align: top;\n",
       "    }\n",
       "\n",
       "    .dataframe thead th {\n",
       "        text-align: right;\n",
       "    }\n",
       "</style>\n",
       "<table border=\"1\" class=\"dataframe\">\n",
       "  <thead>\n",
       "    <tr style=\"text-align: right;\">\n",
       "      <th></th>\n",
       "      <th>support</th>\n",
       "      <th>itemsets</th>\n",
       "    </tr>\n",
       "  </thead>\n",
       "  <tbody>\n",
       "    <tr>\n",
       "      <th>0</th>\n",
       "      <td>0.533333</td>\n",
       "      <td>(A)</td>\n",
       "    </tr>\n",
       "    <tr>\n",
       "      <th>1</th>\n",
       "      <td>0.533333</td>\n",
       "      <td>(C)</td>\n",
       "    </tr>\n",
       "    <tr>\n",
       "      <th>2</th>\n",
       "      <td>0.800000</td>\n",
       "      <td>(D)</td>\n",
       "    </tr>\n",
       "    <tr>\n",
       "      <th>3</th>\n",
       "      <td>0.800000</td>\n",
       "      <td>(F)</td>\n",
       "    </tr>\n",
       "    <tr>\n",
       "      <th>4</th>\n",
       "      <td>0.466667</td>\n",
       "      <td>(G)</td>\n",
       "    </tr>\n",
       "    <tr>\n",
       "      <th>5</th>\n",
       "      <td>0.533333</td>\n",
       "      <td>(H)</td>\n",
       "    </tr>\n",
       "    <tr>\n",
       "      <th>6</th>\n",
       "      <td>0.400000</td>\n",
       "      <td>(A, C)</td>\n",
       "    </tr>\n",
       "    <tr>\n",
       "      <th>7</th>\n",
       "      <td>0.400000</td>\n",
       "      <td>(A, D)</td>\n",
       "    </tr>\n",
       "    <tr>\n",
       "      <th>8</th>\n",
       "      <td>0.400000</td>\n",
       "      <td>(A, F)</td>\n",
       "    </tr>\n",
       "    <tr>\n",
       "      <th>9</th>\n",
       "      <td>0.400000</td>\n",
       "      <td>(D, C)</td>\n",
       "    </tr>\n",
       "    <tr>\n",
       "      <th>10</th>\n",
       "      <td>0.400000</td>\n",
       "      <td>(F, C)</td>\n",
       "    </tr>\n",
       "    <tr>\n",
       "      <th>11</th>\n",
       "      <td>0.600000</td>\n",
       "      <td>(D, F)</td>\n",
       "    </tr>\n",
       "    <tr>\n",
       "      <th>12</th>\n",
       "      <td>0.333333</td>\n",
       "      <td>(D, G)</td>\n",
       "    </tr>\n",
       "    <tr>\n",
       "      <th>13</th>\n",
       "      <td>0.466667</td>\n",
       "      <td>(D, H)</td>\n",
       "    </tr>\n",
       "    <tr>\n",
       "      <th>14</th>\n",
       "      <td>0.466667</td>\n",
       "      <td>(G, F)</td>\n",
       "    </tr>\n",
       "    <tr>\n",
       "      <th>15</th>\n",
       "      <td>0.400000</td>\n",
       "      <td>(H, F)</td>\n",
       "    </tr>\n",
       "    <tr>\n",
       "      <th>16</th>\n",
       "      <td>0.333333</td>\n",
       "      <td>(A, D, C)</td>\n",
       "    </tr>\n",
       "    <tr>\n",
       "      <th>17</th>\n",
       "      <td>0.333333</td>\n",
       "      <td>(D, G, F)</td>\n",
       "    </tr>\n",
       "    <tr>\n",
       "      <th>18</th>\n",
       "      <td>0.333333</td>\n",
       "      <td>(D, H, F)</td>\n",
       "    </tr>\n",
       "  </tbody>\n",
       "</table>\n",
       "</div>"
      ],
      "text/plain": [
       "     support   itemsets\n",
       "0   0.533333        (A)\n",
       "1   0.533333        (C)\n",
       "2   0.800000        (D)\n",
       "3   0.800000        (F)\n",
       "4   0.466667        (G)\n",
       "5   0.533333        (H)\n",
       "6   0.400000     (A, C)\n",
       "7   0.400000     (A, D)\n",
       "8   0.400000     (A, F)\n",
       "9   0.400000     (D, C)\n",
       "10  0.400000     (F, C)\n",
       "11  0.600000     (D, F)\n",
       "12  0.333333     (D, G)\n",
       "13  0.466667     (D, H)\n",
       "14  0.466667     (G, F)\n",
       "15  0.400000     (H, F)\n",
       "16  0.333333  (A, D, C)\n",
       "17  0.333333  (D, G, F)\n",
       "18  0.333333  (D, H, F)"
      ]
     },
     "execution_count": 7,
     "metadata": {},
     "output_type": "execute_result"
    }
   ],
   "source": [
    "freq_itemsets = apriori(df, min_support=5/len(df), use_colnames=True)\n",
    "freq_itemsets"
   ]
  },
  {
   "cell_type": "markdown",
   "metadata": {
    "id": "7KbHyCJwPCDS"
   },
   "source": [
    "**a. Report all possible association rules where the union of the antecedent (left-hand-side) and the consequent (right-hand-side) is equal to the set {D,F,G}. Please do not report the cases where either the antecedent or the consequent is empty.**"
   ]
  },
  {
   "cell_type": "markdown",
   "metadata": {
    "id": "scx9knfjPCDT"
   },
   "source": [
    "**<font color='red'>Answer:</font>** All possible association rules where the union of the antecedent (left-hand-side) and the consequent (right-hand-side) is equal to the set {D,F,G} are :\n",
    "- (D) -> (F,G)\n",
    "- (F) -> (G,D)\n",
    "- (G) -> (D,F)\n",
    "- (D,F) -> (G)\n",
    "- (D,G) -> (F)\n",
    "- (F,G) -> (D)"
   ]
  },
  {
   "cell_type": "markdown",
   "metadata": {
    "id": "BiOKc5n8PCDV"
   },
   "source": [
    "**b. From the previous subtask (2a) find the association rule that has two items as the antecedent and {F} as the consequent. For that association rule, calculate the confidence and lift (for most of you it is probably easiest to do it manually)**"
   ]
  },
  {
   "cell_type": "markdown",
   "metadata": {
    "id": "xcwUdWCSPCDV"
   },
   "source": [
    "\\begin{equation*}\n",
    "\\text{lift}(X\\rightarrow Y) = \\frac{\\text{confidence}(X\\rightarrow Y)}{\\text{confidence}(\\{\\}\\rightarrow Y)}\n",
    "\\end{equation*}"
   ]
  },
  {
   "cell_type": "code",
   "execution_count": 8,
   "metadata": {
    "id": "yO2lhwy4PCDX"
   },
   "outputs": [],
   "source": [
    "# please perform your calculations here\n",
    "# (D,G) -> (F)\n",
    "\n",
    "#Confidence((D,G) -> (F)) = support((D,F,G) / support((D,G) = (1/3) / (1/3) = 1\n",
    "\n",
    "#Lift((D,G) -> (F)) = confidence((D,G) -> (F)) / confidence({} -> (F)) = support((D,F,G) / ( support((D,G) * support((F) °\n",
    "#So, Lift((D,G) -> (F)) = (1/3) / ( (1/3) * (4/5) ) = 5/4\n"
   ]
  },
  {
   "cell_type": "markdown",
   "metadata": {
    "id": "C8_tOj0SPCDa"
   },
   "source": [
    "**<font color='red'>Answer: Confidence = </font>** 1"
   ]
  },
  {
   "cell_type": "markdown",
   "metadata": {
    "id": "yeI_DjqqPCDb"
   },
   "source": [
    "**<font color='red'>Answer: Lift = </font>** 5/4 = 1.25. We know that if lift > 1, (D,G) and (F) are positively correlated."
   ]
  },
  {
   "cell_type": "markdown",
   "metadata": {
    "id": "eD4qY3eKPCDd"
   },
   "source": [
    "**Next, we will find all rules on this dataset with minimum support count 5 and confidence at least 0.5. For this we will use two methods using different libraries and analyse their differences. The first method is to use the function <code>association_rules()</code> from the mlxtend.frequent_patterns package. __[Documentation](https://www.pydoc.io/pypi/mlxtend-0.7.0/autoapi/frequent_patterns/association_rules/index.html)__).**"
   ]
  },
  {
   "cell_type": "code",
   "execution_count": 9,
   "metadata": {
    "id": "S3Kc3jbUPCDd"
   },
   "outputs": [
    {
     "data": {
      "text/html": [
       "<div>\n",
       "<style scoped>\n",
       "    .dataframe tbody tr th:only-of-type {\n",
       "        vertical-align: middle;\n",
       "    }\n",
       "\n",
       "    .dataframe tbody tr th {\n",
       "        vertical-align: top;\n",
       "    }\n",
       "\n",
       "    .dataframe thead th {\n",
       "        text-align: right;\n",
       "    }\n",
       "</style>\n",
       "<table border=\"1\" class=\"dataframe\">\n",
       "  <thead>\n",
       "    <tr style=\"text-align: right;\">\n",
       "      <th></th>\n",
       "      <th>antecedents</th>\n",
       "      <th>consequents</th>\n",
       "      <th>antecedent support</th>\n",
       "      <th>consequent support</th>\n",
       "      <th>support</th>\n",
       "      <th>confidence</th>\n",
       "      <th>lift</th>\n",
       "      <th>leverage</th>\n",
       "      <th>conviction</th>\n",
       "    </tr>\n",
       "  </thead>\n",
       "  <tbody>\n",
       "    <tr>\n",
       "      <th>0</th>\n",
       "      <td>(A)</td>\n",
       "      <td>(C)</td>\n",
       "      <td>0.533333</td>\n",
       "      <td>0.533333</td>\n",
       "      <td>0.400000</td>\n",
       "      <td>0.750000</td>\n",
       "      <td>1.406250</td>\n",
       "      <td>0.115556</td>\n",
       "      <td>1.866667</td>\n",
       "    </tr>\n",
       "    <tr>\n",
       "      <th>1</th>\n",
       "      <td>(C)</td>\n",
       "      <td>(A)</td>\n",
       "      <td>0.533333</td>\n",
       "      <td>0.533333</td>\n",
       "      <td>0.400000</td>\n",
       "      <td>0.750000</td>\n",
       "      <td>1.406250</td>\n",
       "      <td>0.115556</td>\n",
       "      <td>1.866667</td>\n",
       "    </tr>\n",
       "    <tr>\n",
       "      <th>2</th>\n",
       "      <td>(A)</td>\n",
       "      <td>(D)</td>\n",
       "      <td>0.533333</td>\n",
       "      <td>0.800000</td>\n",
       "      <td>0.400000</td>\n",
       "      <td>0.750000</td>\n",
       "      <td>0.937500</td>\n",
       "      <td>-0.026667</td>\n",
       "      <td>0.800000</td>\n",
       "    </tr>\n",
       "    <tr>\n",
       "      <th>3</th>\n",
       "      <td>(D)</td>\n",
       "      <td>(A)</td>\n",
       "      <td>0.800000</td>\n",
       "      <td>0.533333</td>\n",
       "      <td>0.400000</td>\n",
       "      <td>0.500000</td>\n",
       "      <td>0.937500</td>\n",
       "      <td>-0.026667</td>\n",
       "      <td>0.933333</td>\n",
       "    </tr>\n",
       "    <tr>\n",
       "      <th>4</th>\n",
       "      <td>(A)</td>\n",
       "      <td>(F)</td>\n",
       "      <td>0.533333</td>\n",
       "      <td>0.800000</td>\n",
       "      <td>0.400000</td>\n",
       "      <td>0.750000</td>\n",
       "      <td>0.937500</td>\n",
       "      <td>-0.026667</td>\n",
       "      <td>0.800000</td>\n",
       "    </tr>\n",
       "    <tr>\n",
       "      <th>5</th>\n",
       "      <td>(F)</td>\n",
       "      <td>(A)</td>\n",
       "      <td>0.800000</td>\n",
       "      <td>0.533333</td>\n",
       "      <td>0.400000</td>\n",
       "      <td>0.500000</td>\n",
       "      <td>0.937500</td>\n",
       "      <td>-0.026667</td>\n",
       "      <td>0.933333</td>\n",
       "    </tr>\n",
       "    <tr>\n",
       "      <th>6</th>\n",
       "      <td>(D)</td>\n",
       "      <td>(C)</td>\n",
       "      <td>0.800000</td>\n",
       "      <td>0.533333</td>\n",
       "      <td>0.400000</td>\n",
       "      <td>0.500000</td>\n",
       "      <td>0.937500</td>\n",
       "      <td>-0.026667</td>\n",
       "      <td>0.933333</td>\n",
       "    </tr>\n",
       "    <tr>\n",
       "      <th>7</th>\n",
       "      <td>(C)</td>\n",
       "      <td>(D)</td>\n",
       "      <td>0.533333</td>\n",
       "      <td>0.800000</td>\n",
       "      <td>0.400000</td>\n",
       "      <td>0.750000</td>\n",
       "      <td>0.937500</td>\n",
       "      <td>-0.026667</td>\n",
       "      <td>0.800000</td>\n",
       "    </tr>\n",
       "    <tr>\n",
       "      <th>8</th>\n",
       "      <td>(F)</td>\n",
       "      <td>(C)</td>\n",
       "      <td>0.800000</td>\n",
       "      <td>0.533333</td>\n",
       "      <td>0.400000</td>\n",
       "      <td>0.500000</td>\n",
       "      <td>0.937500</td>\n",
       "      <td>-0.026667</td>\n",
       "      <td>0.933333</td>\n",
       "    </tr>\n",
       "    <tr>\n",
       "      <th>9</th>\n",
       "      <td>(C)</td>\n",
       "      <td>(F)</td>\n",
       "      <td>0.533333</td>\n",
       "      <td>0.800000</td>\n",
       "      <td>0.400000</td>\n",
       "      <td>0.750000</td>\n",
       "      <td>0.937500</td>\n",
       "      <td>-0.026667</td>\n",
       "      <td>0.800000</td>\n",
       "    </tr>\n",
       "    <tr>\n",
       "      <th>10</th>\n",
       "      <td>(D)</td>\n",
       "      <td>(F)</td>\n",
       "      <td>0.800000</td>\n",
       "      <td>0.800000</td>\n",
       "      <td>0.600000</td>\n",
       "      <td>0.750000</td>\n",
       "      <td>0.937500</td>\n",
       "      <td>-0.040000</td>\n",
       "      <td>0.800000</td>\n",
       "    </tr>\n",
       "    <tr>\n",
       "      <th>11</th>\n",
       "      <td>(F)</td>\n",
       "      <td>(D)</td>\n",
       "      <td>0.800000</td>\n",
       "      <td>0.800000</td>\n",
       "      <td>0.600000</td>\n",
       "      <td>0.750000</td>\n",
       "      <td>0.937500</td>\n",
       "      <td>-0.040000</td>\n",
       "      <td>0.800000</td>\n",
       "    </tr>\n",
       "    <tr>\n",
       "      <th>12</th>\n",
       "      <td>(G)</td>\n",
       "      <td>(D)</td>\n",
       "      <td>0.466667</td>\n",
       "      <td>0.800000</td>\n",
       "      <td>0.333333</td>\n",
       "      <td>0.714286</td>\n",
       "      <td>0.892857</td>\n",
       "      <td>-0.040000</td>\n",
       "      <td>0.700000</td>\n",
       "    </tr>\n",
       "    <tr>\n",
       "      <th>13</th>\n",
       "      <td>(D)</td>\n",
       "      <td>(H)</td>\n",
       "      <td>0.800000</td>\n",
       "      <td>0.533333</td>\n",
       "      <td>0.466667</td>\n",
       "      <td>0.583333</td>\n",
       "      <td>1.093750</td>\n",
       "      <td>0.040000</td>\n",
       "      <td>1.120000</td>\n",
       "    </tr>\n",
       "    <tr>\n",
       "      <th>14</th>\n",
       "      <td>(H)</td>\n",
       "      <td>(D)</td>\n",
       "      <td>0.533333</td>\n",
       "      <td>0.800000</td>\n",
       "      <td>0.466667</td>\n",
       "      <td>0.875000</td>\n",
       "      <td>1.093750</td>\n",
       "      <td>0.040000</td>\n",
       "      <td>1.600000</td>\n",
       "    </tr>\n",
       "    <tr>\n",
       "      <th>15</th>\n",
       "      <td>(G)</td>\n",
       "      <td>(F)</td>\n",
       "      <td>0.466667</td>\n",
       "      <td>0.800000</td>\n",
       "      <td>0.466667</td>\n",
       "      <td>1.000000</td>\n",
       "      <td>1.250000</td>\n",
       "      <td>0.093333</td>\n",
       "      <td>inf</td>\n",
       "    </tr>\n",
       "    <tr>\n",
       "      <th>16</th>\n",
       "      <td>(F)</td>\n",
       "      <td>(G)</td>\n",
       "      <td>0.800000</td>\n",
       "      <td>0.466667</td>\n",
       "      <td>0.466667</td>\n",
       "      <td>0.583333</td>\n",
       "      <td>1.250000</td>\n",
       "      <td>0.093333</td>\n",
       "      <td>1.280000</td>\n",
       "    </tr>\n",
       "    <tr>\n",
       "      <th>17</th>\n",
       "      <td>(H)</td>\n",
       "      <td>(F)</td>\n",
       "      <td>0.533333</td>\n",
       "      <td>0.800000</td>\n",
       "      <td>0.400000</td>\n",
       "      <td>0.750000</td>\n",
       "      <td>0.937500</td>\n",
       "      <td>-0.026667</td>\n",
       "      <td>0.800000</td>\n",
       "    </tr>\n",
       "    <tr>\n",
       "      <th>18</th>\n",
       "      <td>(F)</td>\n",
       "      <td>(H)</td>\n",
       "      <td>0.800000</td>\n",
       "      <td>0.533333</td>\n",
       "      <td>0.400000</td>\n",
       "      <td>0.500000</td>\n",
       "      <td>0.937500</td>\n",
       "      <td>-0.026667</td>\n",
       "      <td>0.933333</td>\n",
       "    </tr>\n",
       "    <tr>\n",
       "      <th>19</th>\n",
       "      <td>(A, D)</td>\n",
       "      <td>(C)</td>\n",
       "      <td>0.400000</td>\n",
       "      <td>0.533333</td>\n",
       "      <td>0.333333</td>\n",
       "      <td>0.833333</td>\n",
       "      <td>1.562500</td>\n",
       "      <td>0.120000</td>\n",
       "      <td>2.800000</td>\n",
       "    </tr>\n",
       "    <tr>\n",
       "      <th>20</th>\n",
       "      <td>(A, C)</td>\n",
       "      <td>(D)</td>\n",
       "      <td>0.400000</td>\n",
       "      <td>0.800000</td>\n",
       "      <td>0.333333</td>\n",
       "      <td>0.833333</td>\n",
       "      <td>1.041667</td>\n",
       "      <td>0.013333</td>\n",
       "      <td>1.200000</td>\n",
       "    </tr>\n",
       "    <tr>\n",
       "      <th>21</th>\n",
       "      <td>(D, C)</td>\n",
       "      <td>(A)</td>\n",
       "      <td>0.400000</td>\n",
       "      <td>0.533333</td>\n",
       "      <td>0.333333</td>\n",
       "      <td>0.833333</td>\n",
       "      <td>1.562500</td>\n",
       "      <td>0.120000</td>\n",
       "      <td>2.800000</td>\n",
       "    </tr>\n",
       "    <tr>\n",
       "      <th>22</th>\n",
       "      <td>(A)</td>\n",
       "      <td>(D, C)</td>\n",
       "      <td>0.533333</td>\n",
       "      <td>0.400000</td>\n",
       "      <td>0.333333</td>\n",
       "      <td>0.625000</td>\n",
       "      <td>1.562500</td>\n",
       "      <td>0.120000</td>\n",
       "      <td>1.600000</td>\n",
       "    </tr>\n",
       "    <tr>\n",
       "      <th>23</th>\n",
       "      <td>(C)</td>\n",
       "      <td>(A, D)</td>\n",
       "      <td>0.533333</td>\n",
       "      <td>0.400000</td>\n",
       "      <td>0.333333</td>\n",
       "      <td>0.625000</td>\n",
       "      <td>1.562500</td>\n",
       "      <td>0.120000</td>\n",
       "      <td>1.600000</td>\n",
       "    </tr>\n",
       "    <tr>\n",
       "      <th>24</th>\n",
       "      <td>(D, G)</td>\n",
       "      <td>(F)</td>\n",
       "      <td>0.333333</td>\n",
       "      <td>0.800000</td>\n",
       "      <td>0.333333</td>\n",
       "      <td>1.000000</td>\n",
       "      <td>1.250000</td>\n",
       "      <td>0.066667</td>\n",
       "      <td>inf</td>\n",
       "    </tr>\n",
       "    <tr>\n",
       "      <th>25</th>\n",
       "      <td>(D, F)</td>\n",
       "      <td>(G)</td>\n",
       "      <td>0.600000</td>\n",
       "      <td>0.466667</td>\n",
       "      <td>0.333333</td>\n",
       "      <td>0.555556</td>\n",
       "      <td>1.190476</td>\n",
       "      <td>0.053333</td>\n",
       "      <td>1.200000</td>\n",
       "    </tr>\n",
       "    <tr>\n",
       "      <th>26</th>\n",
       "      <td>(F, G)</td>\n",
       "      <td>(D)</td>\n",
       "      <td>0.466667</td>\n",
       "      <td>0.800000</td>\n",
       "      <td>0.333333</td>\n",
       "      <td>0.714286</td>\n",
       "      <td>0.892857</td>\n",
       "      <td>-0.040000</td>\n",
       "      <td>0.700000</td>\n",
       "    </tr>\n",
       "    <tr>\n",
       "      <th>27</th>\n",
       "      <td>(G)</td>\n",
       "      <td>(D, F)</td>\n",
       "      <td>0.466667</td>\n",
       "      <td>0.600000</td>\n",
       "      <td>0.333333</td>\n",
       "      <td>0.714286</td>\n",
       "      <td>1.190476</td>\n",
       "      <td>0.053333</td>\n",
       "      <td>1.400000</td>\n",
       "    </tr>\n",
       "    <tr>\n",
       "      <th>28</th>\n",
       "      <td>(D, H)</td>\n",
       "      <td>(F)</td>\n",
       "      <td>0.466667</td>\n",
       "      <td>0.800000</td>\n",
       "      <td>0.333333</td>\n",
       "      <td>0.714286</td>\n",
       "      <td>0.892857</td>\n",
       "      <td>-0.040000</td>\n",
       "      <td>0.700000</td>\n",
       "    </tr>\n",
       "    <tr>\n",
       "      <th>29</th>\n",
       "      <td>(D, F)</td>\n",
       "      <td>(H)</td>\n",
       "      <td>0.600000</td>\n",
       "      <td>0.533333</td>\n",
       "      <td>0.333333</td>\n",
       "      <td>0.555556</td>\n",
       "      <td>1.041667</td>\n",
       "      <td>0.013333</td>\n",
       "      <td>1.050000</td>\n",
       "    </tr>\n",
       "    <tr>\n",
       "      <th>30</th>\n",
       "      <td>(H, F)</td>\n",
       "      <td>(D)</td>\n",
       "      <td>0.400000</td>\n",
       "      <td>0.800000</td>\n",
       "      <td>0.333333</td>\n",
       "      <td>0.833333</td>\n",
       "      <td>1.041667</td>\n",
       "      <td>0.013333</td>\n",
       "      <td>1.200000</td>\n",
       "    </tr>\n",
       "    <tr>\n",
       "      <th>31</th>\n",
       "      <td>(H)</td>\n",
       "      <td>(D, F)</td>\n",
       "      <td>0.533333</td>\n",
       "      <td>0.600000</td>\n",
       "      <td>0.333333</td>\n",
       "      <td>0.625000</td>\n",
       "      <td>1.041667</td>\n",
       "      <td>0.013333</td>\n",
       "      <td>1.066667</td>\n",
       "    </tr>\n",
       "  </tbody>\n",
       "</table>\n",
       "</div>"
      ],
      "text/plain": [
       "   antecedents consequents  antecedent support  consequent support   support  \\\n",
       "0          (A)         (C)            0.533333            0.533333  0.400000   \n",
       "1          (C)         (A)            0.533333            0.533333  0.400000   \n",
       "2          (A)         (D)            0.533333            0.800000  0.400000   \n",
       "3          (D)         (A)            0.800000            0.533333  0.400000   \n",
       "4          (A)         (F)            0.533333            0.800000  0.400000   \n",
       "5          (F)         (A)            0.800000            0.533333  0.400000   \n",
       "6          (D)         (C)            0.800000            0.533333  0.400000   \n",
       "7          (C)         (D)            0.533333            0.800000  0.400000   \n",
       "8          (F)         (C)            0.800000            0.533333  0.400000   \n",
       "9          (C)         (F)            0.533333            0.800000  0.400000   \n",
       "10         (D)         (F)            0.800000            0.800000  0.600000   \n",
       "11         (F)         (D)            0.800000            0.800000  0.600000   \n",
       "12         (G)         (D)            0.466667            0.800000  0.333333   \n",
       "13         (D)         (H)            0.800000            0.533333  0.466667   \n",
       "14         (H)         (D)            0.533333            0.800000  0.466667   \n",
       "15         (G)         (F)            0.466667            0.800000  0.466667   \n",
       "16         (F)         (G)            0.800000            0.466667  0.466667   \n",
       "17         (H)         (F)            0.533333            0.800000  0.400000   \n",
       "18         (F)         (H)            0.800000            0.533333  0.400000   \n",
       "19      (A, D)         (C)            0.400000            0.533333  0.333333   \n",
       "20      (A, C)         (D)            0.400000            0.800000  0.333333   \n",
       "21      (D, C)         (A)            0.400000            0.533333  0.333333   \n",
       "22         (A)      (D, C)            0.533333            0.400000  0.333333   \n",
       "23         (C)      (A, D)            0.533333            0.400000  0.333333   \n",
       "24      (D, G)         (F)            0.333333            0.800000  0.333333   \n",
       "25      (D, F)         (G)            0.600000            0.466667  0.333333   \n",
       "26      (F, G)         (D)            0.466667            0.800000  0.333333   \n",
       "27         (G)      (D, F)            0.466667            0.600000  0.333333   \n",
       "28      (D, H)         (F)            0.466667            0.800000  0.333333   \n",
       "29      (D, F)         (H)            0.600000            0.533333  0.333333   \n",
       "30      (H, F)         (D)            0.400000            0.800000  0.333333   \n",
       "31         (H)      (D, F)            0.533333            0.600000  0.333333   \n",
       "\n",
       "    confidence      lift  leverage  conviction  \n",
       "0     0.750000  1.406250  0.115556    1.866667  \n",
       "1     0.750000  1.406250  0.115556    1.866667  \n",
       "2     0.750000  0.937500 -0.026667    0.800000  \n",
       "3     0.500000  0.937500 -0.026667    0.933333  \n",
       "4     0.750000  0.937500 -0.026667    0.800000  \n",
       "5     0.500000  0.937500 -0.026667    0.933333  \n",
       "6     0.500000  0.937500 -0.026667    0.933333  \n",
       "7     0.750000  0.937500 -0.026667    0.800000  \n",
       "8     0.500000  0.937500 -0.026667    0.933333  \n",
       "9     0.750000  0.937500 -0.026667    0.800000  \n",
       "10    0.750000  0.937500 -0.040000    0.800000  \n",
       "11    0.750000  0.937500 -0.040000    0.800000  \n",
       "12    0.714286  0.892857 -0.040000    0.700000  \n",
       "13    0.583333  1.093750  0.040000    1.120000  \n",
       "14    0.875000  1.093750  0.040000    1.600000  \n",
       "15    1.000000  1.250000  0.093333         inf  \n",
       "16    0.583333  1.250000  0.093333    1.280000  \n",
       "17    0.750000  0.937500 -0.026667    0.800000  \n",
       "18    0.500000  0.937500 -0.026667    0.933333  \n",
       "19    0.833333  1.562500  0.120000    2.800000  \n",
       "20    0.833333  1.041667  0.013333    1.200000  \n",
       "21    0.833333  1.562500  0.120000    2.800000  \n",
       "22    0.625000  1.562500  0.120000    1.600000  \n",
       "23    0.625000  1.562500  0.120000    1.600000  \n",
       "24    1.000000  1.250000  0.066667         inf  \n",
       "25    0.555556  1.190476  0.053333    1.200000  \n",
       "26    0.714286  0.892857 -0.040000    0.700000  \n",
       "27    0.714286  1.190476  0.053333    1.400000  \n",
       "28    0.714286  0.892857 -0.040000    0.700000  \n",
       "29    0.555556  1.041667  0.013333    1.050000  \n",
       "30    0.833333  1.041667  0.013333    1.200000  \n",
       "31    0.625000  1.041667  0.013333    1.066667  "
      ]
     },
     "execution_count": 9,
     "metadata": {},
     "output_type": "execute_result"
    }
   ],
   "source": [
    "from mlxtend.frequent_patterns import association_rules\n",
    "\n",
    "freq_itemsets = apriori(df, min_support=5/len(df), use_colnames=True)\n",
    "association_rules(freq_itemsets,metric='confidence',min_threshold=0.5)"
   ]
  },
  {
   "cell_type": "markdown",
   "metadata": {
    "id": "wNV3fHPSPCDj"
   },
   "source": [
    "**The second method is to use the `apriori()` method from the `apyori` package. This allows us to additionally set minimum threshold for values of confidence and lift. Use <code>pip3 install apyori</code> or <code>pip install apyori</code> to install apyori package. __[Unofficial documentation](http://zaxrosenberg.com/unofficial-apyori-documentation/).__ This method returns a generator that yields RelationRecord instances. Here we provide code for you that you can use to transform these RelationRecord instances into a single dataframe in a similar format as the method above.**"
   ]
  },
  {
   "cell_type": "code",
   "execution_count": 10,
   "metadata": {
    "id": "EuN_Zo0ZPCDl"
   },
   "outputs": [
    {
     "data": {
      "text/html": [
       "<div>\n",
       "<style scoped>\n",
       "    .dataframe tbody tr th:only-of-type {\n",
       "        vertical-align: middle;\n",
       "    }\n",
       "\n",
       "    .dataframe tbody tr th {\n",
       "        vertical-align: top;\n",
       "    }\n",
       "\n",
       "    .dataframe thead th {\n",
       "        text-align: right;\n",
       "    }\n",
       "</style>\n",
       "<table border=\"1\" class=\"dataframe\">\n",
       "  <thead>\n",
       "    <tr style=\"text-align: right;\">\n",
       "      <th></th>\n",
       "      <th>Items</th>\n",
       "      <th>Antecedent</th>\n",
       "      <th>Consequent</th>\n",
       "      <th>Support</th>\n",
       "      <th>Confidence</th>\n",
       "      <th>Lift</th>\n",
       "    </tr>\n",
       "  </thead>\n",
       "  <tbody>\n",
       "    <tr>\n",
       "      <th>0</th>\n",
       "      <td>{A}</td>\n",
       "      <td>{}</td>\n",
       "      <td>{A}</td>\n",
       "      <td>0.533333</td>\n",
       "      <td>0.533333</td>\n",
       "      <td>1.000000</td>\n",
       "    </tr>\n",
       "    <tr>\n",
       "      <th>1</th>\n",
       "      <td>{C}</td>\n",
       "      <td>{}</td>\n",
       "      <td>{C}</td>\n",
       "      <td>0.533333</td>\n",
       "      <td>0.533333</td>\n",
       "      <td>1.000000</td>\n",
       "    </tr>\n",
       "    <tr>\n",
       "      <th>2</th>\n",
       "      <td>{D}</td>\n",
       "      <td>{}</td>\n",
       "      <td>{D}</td>\n",
       "      <td>0.800000</td>\n",
       "      <td>0.800000</td>\n",
       "      <td>1.000000</td>\n",
       "    </tr>\n",
       "    <tr>\n",
       "      <th>3</th>\n",
       "      <td>{F}</td>\n",
       "      <td>{}</td>\n",
       "      <td>{F}</td>\n",
       "      <td>0.800000</td>\n",
       "      <td>0.800000</td>\n",
       "      <td>1.000000</td>\n",
       "    </tr>\n",
       "    <tr>\n",
       "      <th>4</th>\n",
       "      <td>{H}</td>\n",
       "      <td>{}</td>\n",
       "      <td>{H}</td>\n",
       "      <td>0.533333</td>\n",
       "      <td>0.533333</td>\n",
       "      <td>1.000000</td>\n",
       "    </tr>\n",
       "    <tr>\n",
       "      <th>5</th>\n",
       "      <td>{A, C}</td>\n",
       "      <td>{A}</td>\n",
       "      <td>{C}</td>\n",
       "      <td>0.400000</td>\n",
       "      <td>0.750000</td>\n",
       "      <td>1.406250</td>\n",
       "    </tr>\n",
       "    <tr>\n",
       "      <th>6</th>\n",
       "      <td>{A, C}</td>\n",
       "      <td>{C}</td>\n",
       "      <td>{A}</td>\n",
       "      <td>0.400000</td>\n",
       "      <td>0.750000</td>\n",
       "      <td>1.406250</td>\n",
       "    </tr>\n",
       "    <tr>\n",
       "      <th>7</th>\n",
       "      <td>{A, D}</td>\n",
       "      <td>{A}</td>\n",
       "      <td>{D}</td>\n",
       "      <td>0.400000</td>\n",
       "      <td>0.750000</td>\n",
       "      <td>0.937500</td>\n",
       "    </tr>\n",
       "    <tr>\n",
       "      <th>8</th>\n",
       "      <td>{A, D}</td>\n",
       "      <td>{D}</td>\n",
       "      <td>{A}</td>\n",
       "      <td>0.400000</td>\n",
       "      <td>0.500000</td>\n",
       "      <td>0.937500</td>\n",
       "    </tr>\n",
       "    <tr>\n",
       "      <th>9</th>\n",
       "      <td>{A, F}</td>\n",
       "      <td>{A}</td>\n",
       "      <td>{F}</td>\n",
       "      <td>0.400000</td>\n",
       "      <td>0.750000</td>\n",
       "      <td>0.937500</td>\n",
       "    </tr>\n",
       "    <tr>\n",
       "      <th>10</th>\n",
       "      <td>{A, F}</td>\n",
       "      <td>{F}</td>\n",
       "      <td>{A}</td>\n",
       "      <td>0.400000</td>\n",
       "      <td>0.500000</td>\n",
       "      <td>0.937500</td>\n",
       "    </tr>\n",
       "    <tr>\n",
       "      <th>11</th>\n",
       "      <td>{D, C}</td>\n",
       "      <td>{C}</td>\n",
       "      <td>{D}</td>\n",
       "      <td>0.400000</td>\n",
       "      <td>0.750000</td>\n",
       "      <td>0.937500</td>\n",
       "    </tr>\n",
       "    <tr>\n",
       "      <th>12</th>\n",
       "      <td>{D, C}</td>\n",
       "      <td>{D}</td>\n",
       "      <td>{C}</td>\n",
       "      <td>0.400000</td>\n",
       "      <td>0.500000</td>\n",
       "      <td>0.937500</td>\n",
       "    </tr>\n",
       "    <tr>\n",
       "      <th>13</th>\n",
       "      <td>{F, C}</td>\n",
       "      <td>{C}</td>\n",
       "      <td>{F}</td>\n",
       "      <td>0.400000</td>\n",
       "      <td>0.750000</td>\n",
       "      <td>0.937500</td>\n",
       "    </tr>\n",
       "    <tr>\n",
       "      <th>14</th>\n",
       "      <td>{F, C}</td>\n",
       "      <td>{F}</td>\n",
       "      <td>{C}</td>\n",
       "      <td>0.400000</td>\n",
       "      <td>0.500000</td>\n",
       "      <td>0.937500</td>\n",
       "    </tr>\n",
       "    <tr>\n",
       "      <th>15</th>\n",
       "      <td>{D, F}</td>\n",
       "      <td>{}</td>\n",
       "      <td>{D, F}</td>\n",
       "      <td>0.600000</td>\n",
       "      <td>0.600000</td>\n",
       "      <td>1.000000</td>\n",
       "    </tr>\n",
       "    <tr>\n",
       "      <th>16</th>\n",
       "      <td>{D, F}</td>\n",
       "      <td>{D}</td>\n",
       "      <td>{F}</td>\n",
       "      <td>0.600000</td>\n",
       "      <td>0.750000</td>\n",
       "      <td>0.937500</td>\n",
       "    </tr>\n",
       "    <tr>\n",
       "      <th>17</th>\n",
       "      <td>{D, F}</td>\n",
       "      <td>{F}</td>\n",
       "      <td>{D}</td>\n",
       "      <td>0.600000</td>\n",
       "      <td>0.750000</td>\n",
       "      <td>0.937500</td>\n",
       "    </tr>\n",
       "    <tr>\n",
       "      <th>18</th>\n",
       "      <td>{D, G}</td>\n",
       "      <td>{G}</td>\n",
       "      <td>{D}</td>\n",
       "      <td>0.333333</td>\n",
       "      <td>0.714286</td>\n",
       "      <td>0.892857</td>\n",
       "    </tr>\n",
       "    <tr>\n",
       "      <th>19</th>\n",
       "      <td>{D, H}</td>\n",
       "      <td>{D}</td>\n",
       "      <td>{H}</td>\n",
       "      <td>0.466667</td>\n",
       "      <td>0.583333</td>\n",
       "      <td>1.093750</td>\n",
       "    </tr>\n",
       "    <tr>\n",
       "      <th>20</th>\n",
       "      <td>{D, H}</td>\n",
       "      <td>{H}</td>\n",
       "      <td>{D}</td>\n",
       "      <td>0.466667</td>\n",
       "      <td>0.875000</td>\n",
       "      <td>1.093750</td>\n",
       "    </tr>\n",
       "    <tr>\n",
       "      <th>21</th>\n",
       "      <td>{G, F}</td>\n",
       "      <td>{F}</td>\n",
       "      <td>{G}</td>\n",
       "      <td>0.466667</td>\n",
       "      <td>0.583333</td>\n",
       "      <td>1.250000</td>\n",
       "    </tr>\n",
       "    <tr>\n",
       "      <th>22</th>\n",
       "      <td>{G, F}</td>\n",
       "      <td>{G}</td>\n",
       "      <td>{F}</td>\n",
       "      <td>0.466667</td>\n",
       "      <td>1.000000</td>\n",
       "      <td>1.250000</td>\n",
       "    </tr>\n",
       "    <tr>\n",
       "      <th>23</th>\n",
       "      <td>{H, F}</td>\n",
       "      <td>{F}</td>\n",
       "      <td>{H}</td>\n",
       "      <td>0.400000</td>\n",
       "      <td>0.500000</td>\n",
       "      <td>0.937500</td>\n",
       "    </tr>\n",
       "    <tr>\n",
       "      <th>24</th>\n",
       "      <td>{H, F}</td>\n",
       "      <td>{H}</td>\n",
       "      <td>{F}</td>\n",
       "      <td>0.400000</td>\n",
       "      <td>0.750000</td>\n",
       "      <td>0.937500</td>\n",
       "    </tr>\n",
       "    <tr>\n",
       "      <th>25</th>\n",
       "      <td>{A, D, C}</td>\n",
       "      <td>{A}</td>\n",
       "      <td>{D, C}</td>\n",
       "      <td>0.333333</td>\n",
       "      <td>0.625000</td>\n",
       "      <td>1.562500</td>\n",
       "    </tr>\n",
       "    <tr>\n",
       "      <th>26</th>\n",
       "      <td>{A, D, C}</td>\n",
       "      <td>{C}</td>\n",
       "      <td>{A, D}</td>\n",
       "      <td>0.333333</td>\n",
       "      <td>0.625000</td>\n",
       "      <td>1.562500</td>\n",
       "    </tr>\n",
       "    <tr>\n",
       "      <th>27</th>\n",
       "      <td>{A, D, C}</td>\n",
       "      <td>{A, C}</td>\n",
       "      <td>{D}</td>\n",
       "      <td>0.333333</td>\n",
       "      <td>0.833333</td>\n",
       "      <td>1.041667</td>\n",
       "    </tr>\n",
       "    <tr>\n",
       "      <th>28</th>\n",
       "      <td>{A, D, C}</td>\n",
       "      <td>{A, D}</td>\n",
       "      <td>{C}</td>\n",
       "      <td>0.333333</td>\n",
       "      <td>0.833333</td>\n",
       "      <td>1.562500</td>\n",
       "    </tr>\n",
       "    <tr>\n",
       "      <th>29</th>\n",
       "      <td>{A, D, C}</td>\n",
       "      <td>{D, C}</td>\n",
       "      <td>{A}</td>\n",
       "      <td>0.333333</td>\n",
       "      <td>0.833333</td>\n",
       "      <td>1.562500</td>\n",
       "    </tr>\n",
       "    <tr>\n",
       "      <th>30</th>\n",
       "      <td>{D, G, F}</td>\n",
       "      <td>{G}</td>\n",
       "      <td>{D, F}</td>\n",
       "      <td>0.333333</td>\n",
       "      <td>0.714286</td>\n",
       "      <td>1.190476</td>\n",
       "    </tr>\n",
       "    <tr>\n",
       "      <th>31</th>\n",
       "      <td>{D, G, F}</td>\n",
       "      <td>{D, F}</td>\n",
       "      <td>{G}</td>\n",
       "      <td>0.333333</td>\n",
       "      <td>0.555556</td>\n",
       "      <td>1.190476</td>\n",
       "    </tr>\n",
       "    <tr>\n",
       "      <th>32</th>\n",
       "      <td>{D, G, F}</td>\n",
       "      <td>{D, G}</td>\n",
       "      <td>{F}</td>\n",
       "      <td>0.333333</td>\n",
       "      <td>1.000000</td>\n",
       "      <td>1.250000</td>\n",
       "    </tr>\n",
       "    <tr>\n",
       "      <th>33</th>\n",
       "      <td>{D, G, F}</td>\n",
       "      <td>{G, F}</td>\n",
       "      <td>{D}</td>\n",
       "      <td>0.333333</td>\n",
       "      <td>0.714286</td>\n",
       "      <td>0.892857</td>\n",
       "    </tr>\n",
       "    <tr>\n",
       "      <th>34</th>\n",
       "      <td>{D, H, F}</td>\n",
       "      <td>{H}</td>\n",
       "      <td>{D, F}</td>\n",
       "      <td>0.333333</td>\n",
       "      <td>0.625000</td>\n",
       "      <td>1.041667</td>\n",
       "    </tr>\n",
       "    <tr>\n",
       "      <th>35</th>\n",
       "      <td>{D, H, F}</td>\n",
       "      <td>{D, F}</td>\n",
       "      <td>{H}</td>\n",
       "      <td>0.333333</td>\n",
       "      <td>0.555556</td>\n",
       "      <td>1.041667</td>\n",
       "    </tr>\n",
       "    <tr>\n",
       "      <th>36</th>\n",
       "      <td>{D, H, F}</td>\n",
       "      <td>{D, H}</td>\n",
       "      <td>{F}</td>\n",
       "      <td>0.333333</td>\n",
       "      <td>0.714286</td>\n",
       "      <td>0.892857</td>\n",
       "    </tr>\n",
       "    <tr>\n",
       "      <th>37</th>\n",
       "      <td>{D, H, F}</td>\n",
       "      <td>{H, F}</td>\n",
       "      <td>{D}</td>\n",
       "      <td>0.333333</td>\n",
       "      <td>0.833333</td>\n",
       "      <td>1.041667</td>\n",
       "    </tr>\n",
       "  </tbody>\n",
       "</table>\n",
       "</div>"
      ],
      "text/plain": [
       "        Items Antecedent Consequent   Support  Confidence      Lift\n",
       "0         {A}         {}        {A}  0.533333    0.533333  1.000000\n",
       "1         {C}         {}        {C}  0.533333    0.533333  1.000000\n",
       "2         {D}         {}        {D}  0.800000    0.800000  1.000000\n",
       "3         {F}         {}        {F}  0.800000    0.800000  1.000000\n",
       "4         {H}         {}        {H}  0.533333    0.533333  1.000000\n",
       "5      {A, C}        {A}        {C}  0.400000    0.750000  1.406250\n",
       "6      {A, C}        {C}        {A}  0.400000    0.750000  1.406250\n",
       "7      {A, D}        {A}        {D}  0.400000    0.750000  0.937500\n",
       "8      {A, D}        {D}        {A}  0.400000    0.500000  0.937500\n",
       "9      {A, F}        {A}        {F}  0.400000    0.750000  0.937500\n",
       "10     {A, F}        {F}        {A}  0.400000    0.500000  0.937500\n",
       "11     {D, C}        {C}        {D}  0.400000    0.750000  0.937500\n",
       "12     {D, C}        {D}        {C}  0.400000    0.500000  0.937500\n",
       "13     {F, C}        {C}        {F}  0.400000    0.750000  0.937500\n",
       "14     {F, C}        {F}        {C}  0.400000    0.500000  0.937500\n",
       "15     {D, F}         {}     {D, F}  0.600000    0.600000  1.000000\n",
       "16     {D, F}        {D}        {F}  0.600000    0.750000  0.937500\n",
       "17     {D, F}        {F}        {D}  0.600000    0.750000  0.937500\n",
       "18     {D, G}        {G}        {D}  0.333333    0.714286  0.892857\n",
       "19     {D, H}        {D}        {H}  0.466667    0.583333  1.093750\n",
       "20     {D, H}        {H}        {D}  0.466667    0.875000  1.093750\n",
       "21     {G, F}        {F}        {G}  0.466667    0.583333  1.250000\n",
       "22     {G, F}        {G}        {F}  0.466667    1.000000  1.250000\n",
       "23     {H, F}        {F}        {H}  0.400000    0.500000  0.937500\n",
       "24     {H, F}        {H}        {F}  0.400000    0.750000  0.937500\n",
       "25  {A, D, C}        {A}     {D, C}  0.333333    0.625000  1.562500\n",
       "26  {A, D, C}        {C}     {A, D}  0.333333    0.625000  1.562500\n",
       "27  {A, D, C}     {A, C}        {D}  0.333333    0.833333  1.041667\n",
       "28  {A, D, C}     {A, D}        {C}  0.333333    0.833333  1.562500\n",
       "29  {A, D, C}     {D, C}        {A}  0.333333    0.833333  1.562500\n",
       "30  {D, G, F}        {G}     {D, F}  0.333333    0.714286  1.190476\n",
       "31  {D, G, F}     {D, F}        {G}  0.333333    0.555556  1.190476\n",
       "32  {D, G, F}     {D, G}        {F}  0.333333    1.000000  1.250000\n",
       "33  {D, G, F}     {G, F}        {D}  0.333333    0.714286  0.892857\n",
       "34  {D, H, F}        {H}     {D, F}  0.333333    0.625000  1.041667\n",
       "35  {D, H, F}     {D, F}        {H}  0.333333    0.555556  1.041667\n",
       "36  {D, H, F}     {D, H}        {F}  0.333333    0.714286  0.892857\n",
       "37  {D, H, F}     {H, F}        {D}  0.333333    0.833333  1.041667"
      ]
     },
     "execution_count": 10,
     "metadata": {},
     "output_type": "execute_result"
    }
   ],
   "source": [
    "import apyori\n",
    "\n",
    "def rules_to_df(rules):\n",
    "    results = list(rules)\n",
    "    apriori_df = pd.DataFrame(columns=('Items','Antecedent','Consequent','Support','Confidence','Lift'))\n",
    "\n",
    "    Support =[]\n",
    "    Confidence = []\n",
    "    Lift = []\n",
    "    Items = []\n",
    "    Antecedent = []\n",
    "    Consequent=[]\n",
    "\n",
    "    for RelationRecord in results:\n",
    "        for ordered_stat in RelationRecord.ordered_statistics:\n",
    "            Support.append(RelationRecord.support)\n",
    "            Items.append(RelationRecord.items)\n",
    "            Antecedent.append(ordered_stat.items_base)\n",
    "            Consequent.append(ordered_stat.items_add)\n",
    "            Confidence.append(ordered_stat.confidence)\n",
    "            Lift.append(ordered_stat.lift)\n",
    "\n",
    "    apriori_df['Items'] = list(map(set, Items))                                   \n",
    "    apriori_df['Antecedent'] = list(map(set, Antecedent))\n",
    "    apriori_df['Consequent'] = list(map(set, Consequent))\n",
    "    apriori_df['Support'] = Support\n",
    "    apriori_df['Confidence'] = Confidence\n",
    "    apriori_df['Lift']= Lift\n",
    "    return apriori_df\n",
    "\n",
    "rules = apyori.apriori(transactions, min_support = 5/len(transactions), min_confidence = 0.5)\n",
    "ap_df = rules_to_df(rules)\n",
    "ap_df"
   ]
  },
  {
   "cell_type": "markdown",
   "metadata": {
    "id": "li85T0F_PCDo"
   },
   "source": [
    "**c. Compare the results of these two methods. List all rules that are reported by `mlxtend` and not by `apyori`.**"
   ]
  },
  {
   "cell_type": "markdown",
   "metadata": {
    "id": "69yY2kkrPCDp"
   },
   "source": [
    "**<font color='red'>Answer:</font>** mlxtend rules :\n"
   ]
  },
  {
   "cell_type": "markdown",
   "metadata": {
    "id": "vHixr9yXPCDq"
   },
   "source": [
    "**d. List all rules that are reported by `apyori` and not by `mlxtend`.**"
   ]
  },
  {
   "cell_type": "markdown",
   "metadata": {
    "id": "MHZxg67CPCDs"
   },
   "source": [
    "**<font color='red'>Answer:</font>** apyori rules not reported by mlxtend:\n",
    "- {}->{A}\n",
    "- {}->{C}\n",
    "- {}->{D}\n",
    "- {}->{F}\n",
    "- {}->{H}\n",
    "- {}->{F, D}\n"
   ]
  },
  {
   "cell_type": "markdown",
   "metadata": {
    "id": "JnGFPYFwPCDs"
   },
   "source": [
    "**e. Are there any other differences in the results? Explain why these differences have occurred (look at what the differences were, think why these might have happened, you might also want to consult the documentation of these libraries following the links above).**"
   ]
  },
  {
   "cell_type": "markdown",
   "metadata": {
    "id": "MgwMe6-rPCDu"
   },
   "source": [
    "**<font color='red'>Answer:</font>** Maybe I misunterstood rules but for I think the 2 dataframe are really the same, expect for what i said above with {}. Even the numbers are always the same ; I think I'm missing something."
   ]
  },
  {
   "cell_type": "markdown",
   "metadata": {
    "id": "K2WKxSySPCDu"
   },
   "source": [
    "# 3. Titanic survival (1 point)"
   ]
  },
  {
   "cell_type": "markdown",
   "metadata": {
    "id": "jf083u3WPCDv"
   },
   "source": [
    "Here we analyse the famous Titanic survival dataset which is also included in the zip container. The Titanic survival dataset is also available __[here as CSV](https://courses.cs.ut.ee/2017/DM/fall/uploads/Main/titanic.csv)__. Read in the file and explore the data using the following code."
   ]
  },
  {
   "cell_type": "code",
   "execution_count": 11,
   "metadata": {
    "id": "S1fdhi1ZPCDv"
   },
   "outputs": [
    {
     "name": "stdout",
     "output_type": "stream",
     "text": [
      "  Class   Sex    Age Survived\n",
      "1   3rd  Male  Child       No\n",
      "2   3rd  Male  Child       No\n",
      "3   3rd  Male  Child       No\n",
      "4   3rd  Male  Child       No\n",
      "5   3rd  Male  Child       No\n",
      "Class\n",
      "Crew    885\n",
      "3rd     706\n",
      "1st     325\n",
      "2nd     285\n",
      "Name: Class, dtype: int64\n",
      "Sex\n",
      "Male      1731\n",
      "Female     470\n",
      "Name: Sex, dtype: int64\n",
      "Age\n",
      "Adult    2092\n",
      "Child     109\n",
      "Name: Age, dtype: int64\n",
      "Survived\n",
      "No     1490\n",
      "Yes     711\n",
      "Name: Survived, dtype: int64\n"
     ]
    }
   ],
   "source": [
    "import pandas as pd\n",
    "\n",
    "titanic_df = pd.read_csv(\"titanic.csv\")\n",
    "titanic = titanic_df.values # Convert dataFrame into Array\n",
    "print(titanic_df.head(5))\n",
    "print('Class')\n",
    "print(titanic_df.Class.value_counts())\n",
    "print('Sex')\n",
    "print(titanic_df.Sex.value_counts())\n",
    "print('Age')\n",
    "print(titanic_df.Age.value_counts())\n",
    "print('Survived')\n",
    "print(titanic_df.Survived.value_counts())"
   ]
  },
  {
   "cell_type": "markdown",
   "metadata": {
    "id": "pcGzYDCUPCD0"
   },
   "source": [
    "Next, study the output of the following method on this dataset:"
   ]
  },
  {
   "cell_type": "code",
   "execution_count": 12,
   "metadata": {
    "id": "-jAiAlxzPCD1",
    "scrolled": true
   },
   "outputs": [
    {
     "name": "stdout",
     "output_type": "stream",
     "text": [
      "                      Items          Antecedent     Consequent   Support  \\\n",
      "0                   {Adult}                  {}        {Adult}  0.950477   \n",
      "1              {1st, Adult}               {1st}        {Adult}  0.144934   \n",
      "2              {Adult, 2nd}               {2nd}        {Adult}  0.118582   \n",
      "3              {Adult, 3rd}               {3rd}        {Adult}  0.284871   \n",
      "4             {Adult, Crew}              {Crew}        {Adult}  0.402090   \n",
      "5           {Female, Adult}            {Female}        {Adult}  0.193094   \n",
      "6             {Adult, Male}              {Male}        {Adult}  0.757383   \n",
      "7               {No, Adult}                {No}        {Adult}  0.653339   \n",
      "8              {Adult, Yes}               {Yes}        {Adult}  0.297138   \n",
      "9              {Crew, Male}              {Crew}         {Male}  0.391640   \n",
      "10               {No, Male}                {No}         {Male}  0.619718   \n",
      "11       {Adult, Male, 3rd}         {Male, 3rd}        {Adult}  0.209905   \n",
      "12         {No, Adult, 3rd}           {No, 3rd}        {Adult}  0.216265   \n",
      "13          {No, Male, 3rd}         {Male, 3rd}           {No}  0.191731   \n",
      "14      {Adult, Male, Crew}              {Crew}  {Adult, Male}  0.391640   \n",
      "15      {Adult, Male, Crew}       {Adult, Crew}         {Male}  0.391640   \n",
      "16      {Adult, Male, Crew}        {Crew, Male}        {Adult}  0.391640   \n",
      "17        {No, Adult, Crew}          {No, Crew}        {Adult}  0.305770   \n",
      "18     {Female, Adult, Yes}       {Female, Yes}        {Adult}  0.143571   \n",
      "19        {No, Adult, Male}                {No}  {Adult, Male}  0.603816   \n",
      "20        {No, Adult, Male}         {No, Adult}         {Male}  0.603816   \n",
      "21        {No, Adult, Male}          {No, Male}        {Adult}  0.603816   \n",
      "22       {Adult, Male, Yes}         {Male, Yes}        {Adult}  0.153567   \n",
      "23         {No, Crew, Male}          {No, Crew}         {Male}  0.304407   \n",
      "24   {No, Adult, Male, 3rd}  {Adult, Male, 3rd}           {No}  0.175829   \n",
      "25   {No, Adult, Male, 3rd}    {No, Adult, 3rd}         {Male}  0.175829   \n",
      "26   {No, Adult, Male, 3rd}     {No, Male, 3rd}        {Adult}  0.175829   \n",
      "27  {No, Adult, Male, Crew}          {No, Crew}  {Adult, Male}  0.304407   \n",
      "28  {No, Adult, Male, Crew}   {No, Adult, Crew}         {Male}  0.304407   \n",
      "29  {No, Adult, Male, Crew}    {No, Crew, Male}        {Adult}  0.304407   \n",
      "\n",
      "    Confidence      Lift  \n",
      "0     0.950477  1.000000  \n",
      "1     0.981538  1.032680  \n",
      "2     0.915789  0.963505  \n",
      "3     0.888102  0.934375  \n",
      "4     1.000000  1.052103  \n",
      "5     0.904255  0.951370  \n",
      "6     0.963027  1.013204  \n",
      "7     0.965101  1.015386  \n",
      "8     0.919831  0.967757  \n",
      "9     0.974011  1.238474  \n",
      "10    0.915436  1.163995  \n",
      "11    0.905882  0.953082  \n",
      "12    0.901515  0.948487  \n",
      "13    0.827451  1.222295  \n",
      "14    0.974011  1.286022  \n",
      "15    0.974011  1.238474  \n",
      "16    1.000000  1.052103  \n",
      "17    1.000000  1.052103  \n",
      "18    0.918605  0.966467  \n",
      "19    0.891946  1.177669  \n",
      "20    0.924200  1.175139  \n",
      "21    0.974340  1.025106  \n",
      "22    0.920981  0.968967  \n",
      "23    0.995542  1.265851  \n",
      "24    0.837662  1.237379  \n",
      "25    0.813025  1.033777  \n",
      "26    0.917062  0.964844  \n",
      "27    0.995542  1.314450  \n",
      "28    0.995542  1.265851  \n",
      "29    1.000000  1.052103  \n"
     ]
    }
   ],
   "source": [
    "rules = apyori.apriori(titanic, min_support = 0.1, min_confidence = 0.8)\n",
    "rules_df = rules_to_df(rules)\n",
    "print(rules_df)"
   ]
  },
  {
   "cell_type": "markdown",
   "metadata": {
    "id": "3Exs8ZFcPCD4"
   },
   "source": [
    "Note that the items have been denoted by the values of features and you need to guess yourself what feature the value is about. This is possible to do, since different features have different values in this dataset. For example, the item `1st` means that the instance has `Class=1st`, and `Adult` means `Age=Adult`, and `No` means `Survived=No`. Please now answer the following questions:"
   ]
  },
  {
   "cell_type": "markdown",
   "metadata": {
    "id": "TLu6sQVmPCD5"
   },
   "source": [
    "**a. How many rules did the apriori algorithm find?**"
   ]
  },
  {
   "cell_type": "code",
   "execution_count": 13,
   "metadata": {
    "id": "mrYtMm_4PCD5"
   },
   "outputs": [],
   "source": [
    "# You can use code if you like to"
   ]
  },
  {
   "cell_type": "markdown",
   "metadata": {
    "id": "Eup6YcJrPCD-"
   },
   "source": [
    "**<font color='red'>Number of rules:</font>** 30"
   ]
  },
  {
   "cell_type": "markdown",
   "metadata": {
    "id": "6y1ev6IFPCD-"
   },
   "source": [
    "**b. Consider all rules with confidence equal to 1.0 (set the min_confidence). Which of these is the most interesting? One rule among them can explain all others, which one? (since this particular rule has confidence 1.0, all other rules considered here have also confidence 1.0). How would you explain these rules?** Hint: some of you might find it useful to use some code to filter `rules_df`, others might find it easier to answer the questions by manually inspecting `rules_df`."
   ]
  },
  {
   "cell_type": "code",
   "execution_count": 14,
   "metadata": {
    "id": "yHrcvYcDPCD_"
   },
   "outputs": [],
   "source": [
    "# You can use code if you like to"
   ]
  },
  {
   "cell_type": "markdown",
   "metadata": {
    "id": "xBKDm7jcPCEC"
   },
   "source": [
    "**<font color='red'>Answer:</font>** The one with these 4 items {No, Adult, Crew, Male} is the most interesting and can explain all other. If there is a rule between this 4 items, by the logic of apriori algorithm, we know about the 3 other rules. And if the \"largest\" one have a confidence equals to 1, it's also logic that the \"smallest\" ones have also this confidence."
   ]
  },
  {
   "cell_type": "markdown",
   "metadata": {
    "id": "27PR258mPCED"
   },
   "source": [
    "**c. Consider the two rules with the highest lift value (find them manually or sort the rules by lift). These two rules have the same lift, the same support, and the same confidence. Why?** <br> Hint: the reason is related to what you discovered in (3b). <br> Note: you should check rules with min_confidence of 0.8, not with min_confidence of 1 anymore."
   ]
  },
  {
   "cell_type": "code",
   "execution_count": 15,
   "metadata": {
    "id": "Nocvflq2PCEE"
   },
   "outputs": [],
   "source": [
    "# You can use code if you like to"
   ]
  },
  {
   "cell_type": "markdown",
   "metadata": {
    "id": "X4_WrzBgPCEI"
   },
   "source": [
    "**<font color='red'>Answer:</font>** The 2 highest lift is these rules :\n",
    "- 27  {No, Adult, Crew, Male} ; {No, Crew} ;{Adult, Male} ; Lift = 1.31\n",
    "- 14  {Adult, Crew, Male} ; {Crew} ; {Adult, Male} ; Lift = 1.28\n",
    "\n",
    "The reason why these two rules does'nt have the same lift, the same support, and the same confidence so maybe I'm mistaken somewhere.\n",
    "\n",
    "But there is two rules with the same lift, the same support, and the same confidence, line 23 ({No, Crew, Male}) and line 28 ({No, Crew, Male,Adult}). I think it's because the link between these 3 items is often with a confidence of 1. "
   ]
  },
  {
   "cell_type": "markdown",
   "metadata": {
    "id": "7BvK9WBDPCEJ"
   },
   "source": [
    "**d. What is the most interesting rule in these results, other than the ones discussed in (3b) and (3c)? Please explain why you find it the most interesting.**"
   ]
  },
  {
   "cell_type": "markdown",
   "metadata": {
    "id": "B39Ud3K3PCEJ"
   },
   "source": [
    "**<font color='red'>Answer:</font>** I think the rules with these 4 items {Adult, No, Male, 3rd} show us which person are more dead, and it confirmed what we heard :\n",
    "- Adult more dead than child because child saved first\n",
    "- Male more dead for the same reason than above with women\n",
    "- 3rd class more dead than other class because poor\n",
    "\n",
    "So, data patterns can really be relevant."
   ]
  },
  {
   "cell_type": "markdown",
   "metadata": {
    "id": "My3X9vYTPCEK"
   },
   "source": [
    "# 4. Titanic continued (1 point)"
   ]
  },
  {
   "cell_type": "markdown",
   "metadata": {
    "id": "TYh-AEHMPCEL"
   },
   "source": [
    "Consider the same Titanic dataset as in task 3."
   ]
  },
  {
   "cell_type": "markdown",
   "metadata": {
    "id": "x1F63rSPPCEO"
   },
   "source": [
    "**a. Please run the apriori algorithm again, but this time with very low min support and min confidence. Sort the results by lift and report 3 rules with the highest lift.** Hint: DataFrames have built-in methods for sorting."
   ]
  },
  {
   "cell_type": "code",
   "execution_count": 16,
   "metadata": {
    "id": "6aa_jaSyPCEO",
    "scrolled": false
   },
   "outputs": [
    {
     "data": {
      "text/html": [
       "<div>\n",
       "<style scoped>\n",
       "    .dataframe tbody tr th:only-of-type {\n",
       "        vertical-align: middle;\n",
       "    }\n",
       "\n",
       "    .dataframe tbody tr th {\n",
       "        vertical-align: top;\n",
       "    }\n",
       "\n",
       "    .dataframe thead th {\n",
       "        text-align: right;\n",
       "    }\n",
       "</style>\n",
       "<table border=\"1\" class=\"dataframe\">\n",
       "  <thead>\n",
       "    <tr style=\"text-align: right;\">\n",
       "      <th></th>\n",
       "      <th>Items</th>\n",
       "      <th>Antecedent</th>\n",
       "      <th>Consequent</th>\n",
       "      <th>Support</th>\n",
       "      <th>Confidence</th>\n",
       "      <th>Lift</th>\n",
       "    </tr>\n",
       "  </thead>\n",
       "  <tbody>\n",
       "    <tr>\n",
       "      <th>550</th>\n",
       "      <td>{1st, Male, Child, Yes}</td>\n",
       "      <td>{Male, Yes}</td>\n",
       "      <td>{1st, Child}</td>\n",
       "      <td>0.002272</td>\n",
       "      <td>0.013624</td>\n",
       "      <td>4.997729</td>\n",
       "    </tr>\n",
       "    <tr>\n",
       "      <th>545</th>\n",
       "      <td>{1st, Male, Child, Yes}</td>\n",
       "      <td>{1st, Child}</td>\n",
       "      <td>{Male, Yes}</td>\n",
       "      <td>0.002272</td>\n",
       "      <td>0.833333</td>\n",
       "      <td>4.997729</td>\n",
       "    </tr>\n",
       "    <tr>\n",
       "      <th>622</th>\n",
       "      <td>{Female, 2nd, Child, Yes}</td>\n",
       "      <td>{2nd, Yes}</td>\n",
       "      <td>{Female, Child}</td>\n",
       "      <td>0.005906</td>\n",
       "      <td>0.110169</td>\n",
       "      <td>5.388512</td>\n",
       "    </tr>\n",
       "    <tr>\n",
       "      <th>623</th>\n",
       "      <td>{Female, 2nd, Child, Yes}</td>\n",
       "      <td>{Female, Child}</td>\n",
       "      <td>{2nd, Yes}</td>\n",
       "      <td>0.005906</td>\n",
       "      <td>0.288889</td>\n",
       "      <td>5.388512</td>\n",
       "    </tr>\n",
       "    <tr>\n",
       "      <th>643</th>\n",
       "      <td>{2nd, Child, Male, Yes}</td>\n",
       "      <td>{2nd, Male, Yes}</td>\n",
       "      <td>{Child}</td>\n",
       "      <td>0.004998</td>\n",
       "      <td>0.440000</td>\n",
       "      <td>8.884771</td>\n",
       "    </tr>\n",
       "    <tr>\n",
       "      <th>632</th>\n",
       "      <td>{2nd, Child, Male, Yes}</td>\n",
       "      <td>{Child}</td>\n",
       "      <td>{2nd, Male, Yes}</td>\n",
       "      <td>0.004998</td>\n",
       "      <td>0.100917</td>\n",
       "      <td>8.884771</td>\n",
       "    </tr>\n",
       "  </tbody>\n",
       "</table>\n",
       "</div>"
      ],
      "text/plain": [
       "                         Items        Antecedent        Consequent   Support  \\\n",
       "550    {1st, Male, Child, Yes}       {Male, Yes}      {1st, Child}  0.002272   \n",
       "545    {1st, Male, Child, Yes}      {1st, Child}       {Male, Yes}  0.002272   \n",
       "622  {Female, 2nd, Child, Yes}        {2nd, Yes}   {Female, Child}  0.005906   \n",
       "623  {Female, 2nd, Child, Yes}   {Female, Child}        {2nd, Yes}  0.005906   \n",
       "643    {2nd, Child, Male, Yes}  {2nd, Male, Yes}           {Child}  0.004998   \n",
       "632    {2nd, Child, Male, Yes}           {Child}  {2nd, Male, Yes}  0.004998   \n",
       "\n",
       "     Confidence      Lift  \n",
       "550    0.013624  4.997729  \n",
       "545    0.833333  4.997729  \n",
       "622    0.110169  5.388512  \n",
       "623    0.288889  5.388512  \n",
       "643    0.440000  8.884771  \n",
       "632    0.100917  8.884771  "
      ]
     },
     "execution_count": 16,
     "metadata": {},
     "output_type": "execute_result"
    }
   ],
   "source": [
    "rules = apyori.apriori(titanic, min_support = 0.000001, min_confidence = 0.000001)\n",
    "rules_df = rules_to_df(rules)\n",
    "\n",
    "\n",
    "rules_df = rules_df.sort_values(by='Lift',ascending=True)\n",
    "rules_df.tail(6)\n",
    "\n",
    "# TODO REPORT 3 rules with the highest lift\n",
    "#1st - Lift = 8.88 => {Child, Yes, 2nd, Male}\n",
    "#2nd - Lift = 5.38 => {Child, Yes, 2nd, Female}\n",
    "#3rd - Lift = 4.99 => {Child, Yes, Male, 1st}"
   ]
  },
  {
   "cell_type": "markdown",
   "metadata": {
    "id": "TrdNcgLEPCES"
   },
   "source": [
    "**b. Discuss what you can learn from the 3 rules with the highest lift.**"
   ]
  },
  {
   "cell_type": "markdown",
   "metadata": {
    "id": "3CFaEFBPPCET"
   },
   "source": [
    "**<font color='red'>Answer:</font>** We can learn from this 3 rules :\n",
    "- Child from 2nd class were saved, regardless of the gender\n",
    "- More 2nd class child were saved than 1st class child"
   ]
  },
  {
   "cell_type": "markdown",
   "metadata": {
    "id": "4X0ktapgPCET"
   },
   "source": [
    "**c. Sort all rules by confidence. What can you learn from the 9 rules with confidence 1.0 and lift greater than 3?**"
   ]
  },
  {
   "cell_type": "code",
   "execution_count": 17,
   "metadata": {
    "id": "ojBunC5QPCEU"
   },
   "outputs": [
    {
     "data": {
      "text/html": [
       "<div>\n",
       "<style scoped>\n",
       "    .dataframe tbody tr th:only-of-type {\n",
       "        vertical-align: middle;\n",
       "    }\n",
       "\n",
       "    .dataframe tbody tr th {\n",
       "        vertical-align: top;\n",
       "    }\n",
       "\n",
       "    .dataframe thead th {\n",
       "        text-align: right;\n",
       "    }\n",
       "</style>\n",
       "<table border=\"1\" class=\"dataframe\">\n",
       "  <thead>\n",
       "    <tr style=\"text-align: right;\">\n",
       "      <th></th>\n",
       "      <th>Items</th>\n",
       "      <th>Antecedent</th>\n",
       "      <th>Consequent</th>\n",
       "      <th>Support</th>\n",
       "      <th>Confidence</th>\n",
       "      <th>Lift</th>\n",
       "    </tr>\n",
       "  </thead>\n",
       "  <tbody>\n",
       "    <tr>\n",
       "      <th>641</th>\n",
       "      <td>{2nd, Child, Male, Yes}</td>\n",
       "      <td>{2nd, Child, Male}</td>\n",
       "      <td>{Yes}</td>\n",
       "      <td>0.004998</td>\n",
       "      <td>1.0</td>\n",
       "      <td>3.095640</td>\n",
       "    </tr>\n",
       "    <tr>\n",
       "      <th>161</th>\n",
       "      <td>{1st, Yes, Child}</td>\n",
       "      <td>{1st, Child}</td>\n",
       "      <td>{Yes}</td>\n",
       "      <td>0.002726</td>\n",
       "      <td>1.0</td>\n",
       "      <td>3.095640</td>\n",
       "    </tr>\n",
       "    <tr>\n",
       "      <th>551</th>\n",
       "      <td>{1st, Male, Child, Yes}</td>\n",
       "      <td>{1st, Male, Child}</td>\n",
       "      <td>{Yes}</td>\n",
       "      <td>0.002272</td>\n",
       "      <td>1.0</td>\n",
       "      <td>3.095640</td>\n",
       "    </tr>\n",
       "    <tr>\n",
       "      <th>536</th>\n",
       "      <td>{Female, 1st, Yes, Child}</td>\n",
       "      <td>{Female, 1st, Child}</td>\n",
       "      <td>{Yes}</td>\n",
       "      <td>0.000454</td>\n",
       "      <td>1.0</td>\n",
       "      <td>3.095640</td>\n",
       "    </tr>\n",
       "    <tr>\n",
       "      <th>238</th>\n",
       "      <td>{2nd, Child, Yes}</td>\n",
       "      <td>{2nd, Child}</td>\n",
       "      <td>{Yes}</td>\n",
       "      <td>0.010904</td>\n",
       "      <td>1.0</td>\n",
       "      <td>3.095640</td>\n",
       "    </tr>\n",
       "    <tr>\n",
       "      <th>317</th>\n",
       "      <td>{No, Child, 3rd}</td>\n",
       "      <td>{No, Child}</td>\n",
       "      <td>{3rd}</td>\n",
       "      <td>0.023626</td>\n",
       "      <td>1.0</td>\n",
       "      <td>3.117564</td>\n",
       "    </tr>\n",
       "    <tr>\n",
       "      <th>719</th>\n",
       "      <td>{Female, Child, No, 3rd}</td>\n",
       "      <td>{Female, Child, No}</td>\n",
       "      <td>{3rd}</td>\n",
       "      <td>0.007724</td>\n",
       "      <td>1.0</td>\n",
       "      <td>3.117564</td>\n",
       "    </tr>\n",
       "    <tr>\n",
       "      <th>626</th>\n",
       "      <td>{Female, 2nd, Child, Yes}</td>\n",
       "      <td>{Female, 2nd, Child}</td>\n",
       "      <td>{Yes}</td>\n",
       "      <td>0.005906</td>\n",
       "      <td>1.0</td>\n",
       "      <td>3.095640</td>\n",
       "    </tr>\n",
       "    <tr>\n",
       "      <th>749</th>\n",
       "      <td>{No, Male, Child, 3rd}</td>\n",
       "      <td>{No, Male, Child}</td>\n",
       "      <td>{3rd}</td>\n",
       "      <td>0.015902</td>\n",
       "      <td>1.0</td>\n",
       "      <td>3.117564</td>\n",
       "    </tr>\n",
       "  </tbody>\n",
       "</table>\n",
       "</div>"
      ],
      "text/plain": [
       "                         Items            Antecedent Consequent   Support  \\\n",
       "641    {2nd, Child, Male, Yes}    {2nd, Child, Male}      {Yes}  0.004998   \n",
       "161          {1st, Yes, Child}          {1st, Child}      {Yes}  0.002726   \n",
       "551    {1st, Male, Child, Yes}    {1st, Male, Child}      {Yes}  0.002272   \n",
       "536  {Female, 1st, Yes, Child}  {Female, 1st, Child}      {Yes}  0.000454   \n",
       "238          {2nd, Child, Yes}          {2nd, Child}      {Yes}  0.010904   \n",
       "317           {No, Child, 3rd}           {No, Child}      {3rd}  0.023626   \n",
       "719   {Female, Child, No, 3rd}   {Female, Child, No}      {3rd}  0.007724   \n",
       "626  {Female, 2nd, Child, Yes}  {Female, 2nd, Child}      {Yes}  0.005906   \n",
       "749     {No, Male, Child, 3rd}     {No, Male, Child}      {3rd}  0.015902   \n",
       "\n",
       "     Confidence      Lift  \n",
       "641         1.0  3.095640  \n",
       "161         1.0  3.095640  \n",
       "551         1.0  3.095640  \n",
       "536         1.0  3.095640  \n",
       "238         1.0  3.095640  \n",
       "317         1.0  3.117564  \n",
       "719         1.0  3.117564  \n",
       "626         1.0  3.095640  \n",
       "749         1.0  3.117564  "
      ]
     },
     "execution_count": 17,
     "metadata": {},
     "output_type": "execute_result"
    }
   ],
   "source": [
    "# TODO \n",
    "rules_df = rules_df.sort_values(by='Confidence',ascending=False)\n",
    "rules_df[(rules_df[\"Lift\"] > 3)].head(9)\n"
   ]
  },
  {
   "cell_type": "markdown",
   "metadata": {
    "id": "sJgZjwLQPCEW"
   },
   "source": [
    "**<font color='red'>Answer:</font>** The 9 rules are :\n",
    "- {Child, Yes, 2nd, Male} \t\n",
    "- {Child, Yes, 1st} \t\n",
    "- {Child, Yes, Male, 1st} \t\n",
    "- {Child, Yes, Female, 1st}\n",
    "- {Child, Yes, 2nd} \t\n",
    "- {Child, No, 3rd} \t\n",
    "- {Child, Female, No, 3rd}\n",
    "- {Child, Yes, 2nd, Female}\n",
    "- {Child, No, Male, 3rd}\n",
    "\n",
    "We can learn that :\n",
    "- Child from 1st and 2nd class were much more save than child that child from 3rd class\n",
    "- Child from 3rd class were not saved"
   ]
  },
  {
   "cell_type": "markdown",
   "metadata": {
    "id": "8b8P6Qd-PCEW"
   },
   "source": [
    "**d. Sort all rules by support. What can you learn from the 4 rules with support greater than 0.7?**"
   ]
  },
  {
   "cell_type": "code",
   "execution_count": 18,
   "metadata": {
    "id": "PPa-aevYPCEX"
   },
   "outputs": [
    {
     "data": {
      "text/html": [
       "<div>\n",
       "<style scoped>\n",
       "    .dataframe tbody tr th:only-of-type {\n",
       "        vertical-align: middle;\n",
       "    }\n",
       "\n",
       "    .dataframe tbody tr th {\n",
       "        vertical-align: top;\n",
       "    }\n",
       "\n",
       "    .dataframe thead th {\n",
       "        text-align: right;\n",
       "    }\n",
       "</style>\n",
       "<table border=\"1\" class=\"dataframe\">\n",
       "  <thead>\n",
       "    <tr style=\"text-align: right;\">\n",
       "      <th></th>\n",
       "      <th>Items</th>\n",
       "      <th>Antecedent</th>\n",
       "      <th>Consequent</th>\n",
       "      <th>Support</th>\n",
       "      <th>Confidence</th>\n",
       "      <th>Lift</th>\n",
       "    </tr>\n",
       "  </thead>\n",
       "  <tbody>\n",
       "    <tr>\n",
       "      <th>3</th>\n",
       "      <td>{Adult}</td>\n",
       "      <td>{}</td>\n",
       "      <td>{Adult}</td>\n",
       "      <td>0.950477</td>\n",
       "      <td>0.950477</td>\n",
       "      <td>1.000000</td>\n",
       "    </tr>\n",
       "    <tr>\n",
       "      <th>7</th>\n",
       "      <td>{Male}</td>\n",
       "      <td>{}</td>\n",
       "      <td>{Male}</td>\n",
       "      <td>0.786461</td>\n",
       "      <td>0.786461</td>\n",
       "      <td>1.000000</td>\n",
       "    </tr>\n",
       "    <tr>\n",
       "      <th>70</th>\n",
       "      <td>{Adult, Male}</td>\n",
       "      <td>{}</td>\n",
       "      <td>{Adult, Male}</td>\n",
       "      <td>0.757383</td>\n",
       "      <td>0.757383</td>\n",
       "      <td>1.000000</td>\n",
       "    </tr>\n",
       "    <tr>\n",
       "      <th>71</th>\n",
       "      <td>{Adult, Male}</td>\n",
       "      <td>{Adult}</td>\n",
       "      <td>{Male}</td>\n",
       "      <td>0.757383</td>\n",
       "      <td>0.796845</td>\n",
       "      <td>1.013204</td>\n",
       "    </tr>\n",
       "    <tr>\n",
       "      <th>72</th>\n",
       "      <td>{Adult, Male}</td>\n",
       "      <td>{Male}</td>\n",
       "      <td>{Adult}</td>\n",
       "      <td>0.757383</td>\n",
       "      <td>0.963027</td>\n",
       "      <td>1.013204</td>\n",
       "    </tr>\n",
       "    <tr>\n",
       "      <th>8</th>\n",
       "      <td>{No}</td>\n",
       "      <td>{}</td>\n",
       "      <td>{No}</td>\n",
       "      <td>0.676965</td>\n",
       "      <td>0.676965</td>\n",
       "      <td>1.000000</td>\n",
       "    </tr>\n",
       "    <tr>\n",
       "      <th>75</th>\n",
       "      <td>{No, Adult}</td>\n",
       "      <td>{No}</td>\n",
       "      <td>{Adult}</td>\n",
       "      <td>0.653339</td>\n",
       "      <td>0.965101</td>\n",
       "      <td>1.015386</td>\n",
       "    </tr>\n",
       "  </tbody>\n",
       "</table>\n",
       "</div>"
      ],
      "text/plain": [
       "            Items Antecedent     Consequent   Support  Confidence      Lift\n",
       "3         {Adult}         {}        {Adult}  0.950477    0.950477  1.000000\n",
       "7          {Male}         {}         {Male}  0.786461    0.786461  1.000000\n",
       "70  {Adult, Male}         {}  {Adult, Male}  0.757383    0.757383  1.000000\n",
       "71  {Adult, Male}    {Adult}         {Male}  0.757383    0.796845  1.013204\n",
       "72  {Adult, Male}     {Male}        {Adult}  0.757383    0.963027  1.013204\n",
       "8            {No}         {}           {No}  0.676965    0.676965  1.000000\n",
       "75    {No, Adult}       {No}        {Adult}  0.653339    0.965101  1.015386"
      ]
     },
     "execution_count": 18,
     "metadata": {},
     "output_type": "execute_result"
    }
   ],
   "source": [
    "# TODO\n",
    "rules_df = rules_df.sort_values(by='Support',ascending=False)\n",
    "rules_df.head(7)"
   ]
  },
  {
   "cell_type": "markdown",
   "metadata": {
    "id": "po4RMUpjPCEZ"
   },
   "source": [
    "**<font color='red'>Answer:</font>** The 4 rules with support greater than 0.7 are :\n",
    "- {}->Adult\n",
    "- {}->Male\n",
    "- {}->{Adult,Male}\n",
    "- {Adult}->{Male}\n",
    "\n",
    "We can learn :\n",
    "- There is a high probability to be an adult on the boat\n",
    "- There is a high probability to be a male on the boat\n",
    "- There is a high probability to be an adult and a male on the boat"
   ]
  },
  {
   "cell_type": "markdown",
   "metadata": {
    "id": "Hlbc2sX_kajK"
   },
   "source": [
    "# B1 (OPTIONAL BONUS TASK).  The real Titanic dataset (1 bonus point)\n",
    "\n",
    "This task is a bonus task, meaning that you can earn bonus points that will be added to your homework, project and exam points. For example, if you get 89 points in total from homework, project and exam, but you have earned 2 bonus points from your homeworks, then you get the grade `A` because your final score will be 89+2=91."
   ]
  },
  {
   "cell_type": "markdown",
   "metadata": {
    "id": "zTtd8R5bkajL"
   },
   "source": [
    "In the current bonus task you will earn 1 bonus point for doing all that you have been asked to do. **If you do not solve all subtasks fully as instructed, then you do not get any bonus points at all (no points will be given for partial answers)**."
   ]
  },
  {
   "cell_type": "markdown",
   "metadata": {
    "id": "XIGBOcsfkajL"
   },
   "source": [
    "So far you have been dealing in tasks 3 and 4 with a simplified version of the Titanic dataset. For this bonus task, you are required to download the full dataset at the __[Titanic kaggle competition page](https://www.kaggle.com/c/titanic/overview)__. You will have to register to kaggle, then navigate to \"data\" tab inside the competition page and download the \"train.csv\" file, either with kaggle's API command or through the webpage itself. This is the only part of the dataset you will need."
   ]
  },
  {
   "cell_type": "markdown",
   "metadata": {
    "id": "fBPc66AlSL3W"
   },
   "source": [
    "Now, do some __[feature engineering](https://en.wikipedia.org/wiki/Feature_engineering)__ to the dataset by adding the \"family size, age class and fare per person\" columns to it as described __[here](https://triangleinequality.wordpress.com/2013/09/08/basic-feature-engineering-with-the-titanic-data/)__. Finally, print the modified dataset and calculate and answer what is the support of family size = 1."
   ]
  },
  {
   "cell_type": "code",
   "execution_count": 19,
   "metadata": {
    "id": "3jXxO60NTTtD"
   },
   "outputs": [],
   "source": [
    "# TODO"
   ]
  },
  {
   "cell_type": "markdown",
   "metadata": {
    "id": "lcdLG7xpTX3C"
   },
   "source": [
    "**<font color='red'>Answer:</font>** Answer goes here."
   ]
  },
  {
   "cell_type": "markdown",
   "metadata": {
    "id": "uBpfDPBjPCEZ"
   },
   "source": [
    "## <font color='red'>This was the last task! Please restart the kernel and run all before submission! (`Kernel -> Restart and Run All`)</font>"
   ]
  },
  {
   "cell_type": "markdown",
   "metadata": {
    "id": "63Y-epTJPCEb"
   },
   "source": [
    "## How long did it take you to solve the homework?"
   ]
  },
  {
   "cell_type": "markdown",
   "metadata": {
    "id": "XisejYxTPCEb"
   },
   "source": [
    "Please answer as precisely as you can. It does not affect your points or grade in any way. It is okey, if it took 0.5 hours or 24 hours. Please count in astronomical hours (1 hour = 60 minutes) and not academic hours (1 hour = 45 minutes). The collected information will be used to improve future homeworks."
   ]
  },
  {
   "cell_type": "markdown",
   "metadata": {
    "id": "oYMntbRHPCEb"
   },
   "source": [
    "**<font color='red'>Task 1 (please change X in the next cell into your estimate)</font>**"
   ]
  },
  {
   "cell_type": "markdown",
   "metadata": {
    "id": "YkI7Tcq7PCEd"
   },
   "source": [
    "1 hours"
   ]
  },
  {
   "cell_type": "markdown",
   "metadata": {
    "id": "O4AR2lZJPCEd"
   },
   "source": [
    "**<font color='red'>Task 2 (please change X in the next cell into your estimate)</font>**"
   ]
  },
  {
   "cell_type": "markdown",
   "metadata": {
    "id": "AZrN6lBvPCEe"
   },
   "source": [
    "2 hours"
   ]
  },
  {
   "cell_type": "markdown",
   "metadata": {
    "id": "9__maky0PCEe"
   },
   "source": [
    "**<font color='red'>Task 3 (please change X in the next cell into your estimate)</font>**"
   ]
  },
  {
   "cell_type": "markdown",
   "metadata": {
    "id": "dTMKPHn0PCEf"
   },
   "source": [
    "2 hours"
   ]
  },
  {
   "cell_type": "markdown",
   "metadata": {
    "id": "QZzThfHMPCEf"
   },
   "source": [
    "**<font color='red'>Task 4 (please change X in the next cell into your estimate)</font>**"
   ]
  },
  {
   "cell_type": "markdown",
   "metadata": {
    "id": "7CZeMxLwPCEf"
   },
   "source": [
    "0.5 hours"
   ]
  },
  {
   "cell_type": "markdown",
   "metadata": {},
   "source": [
    "**<font color='red'>Task B1 (please change X in the next cell into your estimate)</font>**"
   ]
  },
  {
   "cell_type": "markdown",
   "metadata": {
    "id": "7CZeMxLwPCEf"
   },
   "source": [
    "X hours"
   ]
  },
  {
   "cell_type": "markdown",
   "metadata": {},
   "source": [
    "**<font color='red'>TOTAL (please change X in the next cell into your estimate)</font>**"
   ]
  },
  {
   "cell_type": "markdown",
   "metadata": {
    "id": "7CZeMxLwPCEf"
   },
   "source": [
    "5.5 hours"
   ]
  },
  {
   "cell_type": "markdown",
   "metadata": {
    "id": "YNMfbAEdPCEg"
   },
   "source": [
    "**<font color='red'>THANK YOU FOR YOUR EFFORT!</font>**"
   ]
  }
 ],
 "metadata": {
  "colab": {
   "collapsed_sections": [
    "uF4x9suFPCCb",
    "yyQsDSf_PCDJ",
    "uBpfDPBjPCEZ",
    "63Y-epTJPCEb"
   ],
   "name": "IDS2020_HW03.ipynb",
   "provenance": []
  },
  "kernelspec": {
   "display_name": "Python 3",
   "language": "python",
   "name": "python3"
  },
  "language_info": {
   "codemirror_mode": {
    "name": "ipython",
    "version": 3
   },
   "file_extension": ".py",
   "mimetype": "text/x-python",
   "name": "python",
   "nbconvert_exporter": "python",
   "pygments_lexer": "ipython3",
   "version": "3.8.3"
  }
 },
 "nbformat": 4,
 "nbformat_minor": 1
}
