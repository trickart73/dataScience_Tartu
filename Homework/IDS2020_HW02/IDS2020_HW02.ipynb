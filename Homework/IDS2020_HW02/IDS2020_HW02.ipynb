{
 "cells": [
  {
   "cell_type": "markdown",
   "metadata": {
    "colab_type": "text",
    "id": "aunJJpUKkagy"
   },
   "source": [
    "# Homework 2 - Exploration of the data\n",
    "## Deadline: September 28th, at noon (12:00)"
   ]
  },
  {
   "cell_type": "markdown",
   "metadata": {
    "colab_type": "text",
    "id": "ltrC52Igkag2"
   },
   "source": [
    "#### General instructions\n",
    "\n",
    "Please look up the general instructions about homeworks from the first homework.\n",
    "\n",
    "#### Tracking your time\n",
    "\n",
    "We will appreciate if you track your time spent on solving the homework and report it in the dedicated cells at the end of the homework. This is not compulsory and does not affect your grade in any way. The collected information will be used to improve future homeworks.\n",
    "\n",
    "#### About this homework\n",
    "\n",
    "In this homework, we will study how to have a first look at the data and try to understand the attributes. Adult dataset is included in the IDS2020_HW02.zip container. The same dataset can also be downloaded from __[ here as CSV](https://courses.cs.ut.ee/2017/DM/fall/uploads/Main/adult.csv)__. Before doing Task 1 and 2 please make sure that you have read slides of Lecture 02 regarding types of attributes and how to study attributes individually."
   ]
  },
  {
   "cell_type": "markdown",
   "metadata": {
    "colab_type": "text",
    "id": "aLb8I9I6kag4"
   },
   "source": [
    "# 1.  Data understanding (1 point)"
   ]
  },
  {
   "cell_type": "markdown",
   "metadata": {
    "colab_type": "text",
    "id": "LiMV6BUFkag5"
   },
   "source": [
    "Collecting, describing, exploring and verifying data quality are <b>very important</b> steps in any data science task. In this exercise the main goal is to understand the attributes in the 'adult' dataset.<br>"
   ]
  },
  {
   "cell_type": "markdown",
   "metadata": {
    "colab_type": "text",
    "id": "LDfI5fFYkag8"
   },
   "source": [
    "**a. Load data from the  adult.csv file.** <br>\n",
    "Hint 1: The extension of the filename may not always reflect the structure of data precisely. Are the values comma-separated (csv) or not? "
   ]
  },
  {
   "cell_type": "code",
   "execution_count": 1,
   "metadata": {
    "colab": {},
    "colab_type": "code",
    "id": "vdEsDTTEkag9",
    "scrolled": false
   },
   "outputs": [],
   "source": [
    "import numpy as np\n",
    "import pandas as pd\n",
    "\n",
    "# TODO\n",
    "data = pd.read_csv(\"adult.csv\",sep='\\t')"
   ]
  },
  {
   "cell_type": "markdown",
   "metadata": {
    "colab_type": "text",
    "id": "ZjJmXc3xkahJ"
   },
   "source": [
    "**b. Name all the columns in this dataset and describe the meaning of each column with one sentence.** <br>"
   ]
  },
  {
   "cell_type": "code",
   "execution_count": 2,
   "metadata": {
    "colab": {},
    "colab_type": "code",
    "id": "0VrlSlXzkahK"
   },
   "outputs": [
    {
     "data": {
      "text/html": [
       "<div>\n",
       "<style scoped>\n",
       "    .dataframe tbody tr th:only-of-type {\n",
       "        vertical-align: middle;\n",
       "    }\n",
       "\n",
       "    .dataframe tbody tr th {\n",
       "        vertical-align: top;\n",
       "    }\n",
       "\n",
       "    .dataframe thead th {\n",
       "        text-align: right;\n",
       "    }\n",
       "</style>\n",
       "<table border=\"1\" class=\"dataframe\">\n",
       "  <thead>\n",
       "    <tr style=\"text-align: right;\">\n",
       "      <th></th>\n",
       "      <th>X</th>\n",
       "      <th>age</th>\n",
       "      <th>workclass</th>\n",
       "      <th>education</th>\n",
       "      <th>occupation</th>\n",
       "      <th>capital.gain</th>\n",
       "      <th>capital.loss</th>\n",
       "      <th>native.country</th>\n",
       "      <th>salaries</th>\n",
       "      <th>jobsatisfaction</th>\n",
       "      <th>male</th>\n",
       "      <th>female</th>\n",
       "    </tr>\n",
       "  </thead>\n",
       "  <tbody>\n",
       "    <tr>\n",
       "      <th>0</th>\n",
       "      <td>0</td>\n",
       "      <td>39</td>\n",
       "      <td>State-gov</td>\n",
       "      <td>Bachelors</td>\n",
       "      <td>Adm-clerical</td>\n",
       "      <td>2174</td>\n",
       "      <td>0</td>\n",
       "      <td>United-States</td>\n",
       "      <td>43136.0</td>\n",
       "      <td>0</td>\n",
       "      <td>1.0</td>\n",
       "      <td>NaN</td>\n",
       "    </tr>\n",
       "    <tr>\n",
       "      <th>1</th>\n",
       "      <td>1</td>\n",
       "      <td>50</td>\n",
       "      <td>Self-emp-not-inc</td>\n",
       "      <td>Bachelors</td>\n",
       "      <td>Exec-managerial</td>\n",
       "      <td>0</td>\n",
       "      <td>0</td>\n",
       "      <td>UnitedStates</td>\n",
       "      <td>46209.0</td>\n",
       "      <td>7</td>\n",
       "      <td>1.0</td>\n",
       "      <td>NaN</td>\n",
       "    </tr>\n",
       "    <tr>\n",
       "      <th>2</th>\n",
       "      <td>2</td>\n",
       "      <td>38</td>\n",
       "      <td>privat</td>\n",
       "      <td>HS-grad</td>\n",
       "      <td>Handlers-cleaners</td>\n",
       "      <td>0</td>\n",
       "      <td>0</td>\n",
       "      <td>United-States</td>\n",
       "      <td>28937.0</td>\n",
       "      <td>6</td>\n",
       "      <td>1.0</td>\n",
       "      <td>NaN</td>\n",
       "    </tr>\n",
       "    <tr>\n",
       "      <th>3</th>\n",
       "      <td>3</td>\n",
       "      <td>53</td>\n",
       "      <td>privat</td>\n",
       "      <td>11th</td>\n",
       "      <td>Handlers-cleaners</td>\n",
       "      <td>0</td>\n",
       "      <td>0</td>\n",
       "      <td>United-States</td>\n",
       "      <td>33658.0</td>\n",
       "      <td>6</td>\n",
       "      <td>1.0</td>\n",
       "      <td>NaN</td>\n",
       "    </tr>\n",
       "    <tr>\n",
       "      <th>4</th>\n",
       "      <td>4</td>\n",
       "      <td>28</td>\n",
       "      <td>privat</td>\n",
       "      <td>Bachelors</td>\n",
       "      <td>Prof-specialty</td>\n",
       "      <td>0</td>\n",
       "      <td>0</td>\n",
       "      <td>Cuba</td>\n",
       "      <td>34372.0</td>\n",
       "      <td>12</td>\n",
       "      <td>NaN</td>\n",
       "      <td>1.0</td>\n",
       "    </tr>\n",
       "  </tbody>\n",
       "</table>\n",
       "</div>"
      ],
      "text/plain": [
       "   X age          workclass   education          occupation  capital.gain  \\\n",
       "0  0  39          State-gov   Bachelors        Adm-clerical          2174   \n",
       "1  1  50   Self-emp-not-inc   Bachelors     Exec-managerial             0   \n",
       "2  2  38             privat     HS-grad   Handlers-cleaners             0   \n",
       "3  3  53             privat        11th   Handlers-cleaners             0   \n",
       "4  4  28             privat   Bachelors      Prof-specialty             0   \n",
       "\n",
       "   capital.loss  native.country  salaries jobsatisfaction  male  female  \n",
       "0             0   United-States   43136.0               0   1.0     NaN  \n",
       "1             0    UnitedStates   46209.0               7   1.0     NaN  \n",
       "2             0   United-States   28937.0               6   1.0     NaN  \n",
       "3             0   United-States   33658.0               6   1.0     NaN  \n",
       "4             0            Cuba   34372.0              12   NaN     1.0  "
      ]
     },
     "execution_count": 2,
     "metadata": {},
     "output_type": "execute_result"
    }
   ],
   "source": [
    "data.columns\n",
    "data.head()\n",
    "#data.shape\n",
    "#data[data.workclass == \" ?\"].head()"
   ]
  },
  {
   "cell_type": "markdown",
   "metadata": {
    "colab_type": "text",
    "id": "zt120mhzkahR"
   },
   "source": [
    "**<font color='red'>Answer:</font>** Names of the columns :\n",
    "- X (stand for an index)\n",
    "- age\n",
    "- workclass\n",
    "- education\n",
    "- occupation\n",
    "- capital.gain\n",
    "- capital.loss\n",
    "- native.country\n",
    "- salaries\n",
    "- jobsatisfaction\n",
    "- male\n",
    "- female"
   ]
  },
  {
   "cell_type": "markdown",
   "metadata": {
    "colab_type": "text",
    "id": "1rUWtQWnkahR"
   },
   "source": [
    "### In the following subtasks, you will have to visualise the distribution of the values for different features using appropriate diagrams. Visualisation is one of the easiest ways to get a good overview of the data and to notice any oddities, outliers etc."
   ]
  },
  {
   "cell_type": "code",
   "execution_count": 152,
   "metadata": {
    "colab": {},
    "colab_type": "code",
    "id": "o3gzelMLkahT"
   },
   "outputs": [],
   "source": [
    "# Matplotlib is a Python 2D plotting library which produces publication quality figures in a variety of hardcopy formats \n",
    "# and interactive environments across platforms. Matplotlib can be used in Python scripts, the Python and IPython shells, \n",
    "# the Jupyter notebook, web application servers, and four graphical user interface toolkits.\n",
    "import matplotlib.pyplot as plt\n",
    "\n",
    "# allows to output plots in the notebook\n",
    "%matplotlib inline \n",
    "\n",
    "# Set the default style\n",
    "plt.style.use(\"ggplot\") "
   ]
  },
  {
   "cell_type": "markdown",
   "metadata": {
    "colab_type": "text",
    "id": "AHpgbpg-kaha"
   },
   "source": [
    "As an example, here is the age frequency histogram, where age is an attribute of type **numeric**:"
   ]
  },
  {
   "cell_type": "code",
   "execution_count": 4,
   "metadata": {
    "colab": {},
    "colab_type": "code",
    "id": "M_6XuTROkahb",
    "outputId": "468181cc-1a3f-4510-a659-5ef201c89acb"
   },
   "outputs": [
    {
     "data": {
      "image/png": "[encoded data removed]",
      "text/plain": [
       "<Figure size 432x288 with 1 Axes>"
      ]
     },
     "metadata": {},
     "output_type": "display_data"
    }
   ],
   "source": [
    "# Columns may contain non-numeric values, errors or missing values. Therefore, non-numeric values must be dealt with.\n",
    "if data is not data.empty:\n",
    "    pd.to_numeric(data['age'], errors='coerce').hist(bins=30) # ‘coerce’ -> invalid parsing will be set as NaN\n",
    "else:\n",
    "    print('Please define `data` in earlier subtasks')"
   ]
  },
  {
   "cell_type": "markdown",
   "metadata": {
    "colab_type": "text",
    "id": "Hqeadx4ekahj"
   },
   "source": [
    "**c. Attribute `Workclass`. First, specify the type of the attribute (nominal / ordinal / numeric); then, choose an appropriate chart type and, if applicable, visualise the distribution in the <font color='red'>relative frequency scale</font>.**"
   ]
  },
  {
   "cell_type": "markdown",
   "metadata": {},
   "source": [
    "Example of workclass relative frequence bar plot."
   ]
  },
  {
   "cell_type": "code",
   "execution_count": 5,
   "metadata": {
    "scrolled": false
   },
   "outputs": [
    {
     "data": {
      "image/png": "[encoded data removed]",
      "text/plain": [
       "<IPython.core.display.Image object>"
      ]
     },
     "execution_count": 5,
     "metadata": {},
     "output_type": "execute_result"
    }
   ],
   "source": [
    "from IPython.display import Image\n",
    "Image(filename='plot_rel_freq_ex.png')  # Example of relative frequency plot of workclass"
   ]
  },
  {
   "cell_type": "markdown",
   "metadata": {
    "colab_type": "text",
    "id": "QuzElJfgkahk"
   },
   "source": [
    "**<font color='red'>Attribute type :</font>** Attribute \"workclass\" is a nominal attribute."
   ]
  },
  {
   "cell_type": "code",
   "execution_count": 6,
   "metadata": {
    "colab": {},
    "colab_type": "code",
    "id": "8xcqsGXxkahl"
   },
   "outputs": [
    {
     "data": {
      "text/plain": [
       "<matplotlib.axes._subplots.AxesSubplot at 0x12055d480d0>"
      ]
     },
     "execution_count": 6,
     "metadata": {},
     "output_type": "execute_result"
    },
    {
     "data": {
      "image/png": "[encoded data removed]",
      "text/plain": [
       "<Figure size 432x288 with 1 Axes>"
      ]
     },
     "metadata": {},
     "output_type": "display_data"
    }
   ],
   "source": [
    "#BEFORE, we see that there is \"Private\" and \"privat\" so we want to join these values\n",
    "data.workclass = data.workclass.replace(\"privat\", \" Private\")\n",
    "\n",
    "total = data.workclass.value_counts()\n",
    "total = total/sum(total)\n",
    "total.plot(kind='bar')"
   ]
  },
  {
   "cell_type": "markdown",
   "metadata": {
    "colab_type": "text",
    "id": "5T7ZMpwykahq"
   },
   "source": [
    "##### **d. Attribute `Education`. First, specify the type of the attribute (nominal / ordinal / numeric); then, choose an appropriate chart type and, if applicable, visualise the distribution in the <font color='red'>relative frequency scale</font>.**"
   ]
  },
  {
   "cell_type": "markdown",
   "metadata": {
    "colab_type": "text",
    "id": "IfYGp9Lwkahr"
   },
   "source": [
    "**<font color='red'>Attribute type :</font>** Attribute Education is also a nominal attribute"
   ]
  },
  {
   "cell_type": "code",
   "execution_count": 7,
   "metadata": {
    "colab": {},
    "colab_type": "code",
    "id": "7Bx-X2zokahs"
   },
   "outputs": [
    {
     "data": {
      "text/plain": [
       "<matplotlib.axes._subplots.AxesSubplot at 0x2247b4d4100>"
      ]
     },
     "execution_count": 7,
     "metadata": {},
     "output_type": "execute_result"
    },
    {
     "data": {
      "image/png": "[encoded data removed]",
      "text/plain": [
       "<Figure size 432x288 with 1 Axes>"
      ]
     },
     "metadata": {},
     "output_type": "display_data"
    }
   ],
   "source": [
    "total = data.education.value_counts()\n",
    "total = total/sum(total)\n",
    "total.plot(kind='bar')"
   ]
  },
  {
   "cell_type": "markdown",
   "metadata": {
    "colab_type": "text",
    "id": "dMgJ3CPPkahx"
   },
   "source": [
    "**e. Attribute `Occupation`. First, specify the type of the attribute (nominal / ordinal / numeric); then, choose an appropriate chart type and, if applicable, visualise the distribution in the <font color='red'>relative frequency scale</font>.**"
   ]
  },
  {
   "cell_type": "markdown",
   "metadata": {
    "colab_type": "text",
    "id": "37_vTjHPkahy"
   },
   "source": [
    "**<font color='red'>Attribute type :</font>** Attribute occupation is also a nominal attribute"
   ]
  },
  {
   "cell_type": "code",
   "execution_count": null,
   "metadata": {
    "colab": {},
    "colab_type": "code",
    "id": "s4SnlhnXkah0",
    "scrolled": false
   },
   "outputs": [],
   "source": [
    "total = data.occupation.value_counts()\n",
    "total = total/sum(total)\n",
    "total.plot(kind='bar')"
   ]
  },
  {
   "cell_type": "markdown",
   "metadata": {
    "colab_type": "text",
    "id": "w7v5m7qrkah6"
   },
   "source": [
    "**f. Attribute `Native Country`. First, specify the type of the attribute (nominal / ordinal / numeric); then, choose an appropriate chart type and, if applicable, visualise the distribution in the <font color='red'>relative frequency scale</font>.**"
   ]
  },
  {
   "cell_type": "markdown",
   "metadata": {
    "colab_type": "text",
    "id": "wiuCsh7pkah6"
   },
   "source": [
    "**<font color='red'>Attribute type :</font>** Answer goes here."
   ]
  },
  {
   "cell_type": "code",
   "execution_count": 3,
   "metadata": {
    "colab": {},
    "colab_type": "code",
    "id": "cFPqCt_Ckah7",
    "scrolled": false
   },
   "outputs": [
    {
     "data": {
      "text/plain": [
       "<matplotlib.axes._subplots.AxesSubplot at 0x13a58538d00>"
      ]
     },
     "execution_count": 3,
     "metadata": {},
     "output_type": "execute_result"
    },
    {
     "data": {
      "image/png": "[encoded data removed]",
      "text/plain": [
       "<Figure size 1296x216 with 1 Axes>"
      ]
     },
     "metadata": {
      "needs_background": "light"
     },
     "output_type": "display_data"
    }
   ],
   "source": [
    "data[\"native.country\"] = data[\"native.country\"].replace(\"United-States\", \" United-States\")\n",
    "data[\"native.country\"] = data[\"native.country\"].replace(\"Unitedstates\", \" United-States\")\n",
    "data[\"native.country\"] = data[\"native.country\"].replace(\"UnitedStates\", \" United-States\")\n",
    "\n",
    "total = data[\"native.country\"].value_counts()\n",
    "total = total/sum(total)\n",
    "total.plot(kind='bar',figsize=(18,3))\n"
   ]
  },
  {
   "cell_type": "markdown",
   "metadata": {
    "colab_type": "text",
    "id": "Si91elM8kaiA"
   },
   "source": [
    "**g. Attribute `Salaries`. First, specify the type of the attribute (nominal / ordinal / numeric); then, choose an appropriate chart type and, if applicable, visualise the distribution in the <font color='red'>density scale</font>.**"
   ]
  },
  {
   "cell_type": "markdown",
   "metadata": {},
   "source": [
    "Example of workclass density histogram."
   ]
  },
  {
   "cell_type": "code",
   "execution_count": null,
   "metadata": {},
   "outputs": [],
   "source": [
    "Image(filename='plot_density_ex.png')  # Example of density plot of Salaries"
   ]
  },
  {
   "cell_type": "markdown",
   "metadata": {
    "colab_type": "text",
    "id": "ps5FCiMikaiB"
   },
   "source": [
    "**<font color='red'>Attribute type :</font>** Attribute Salaries is a numeric attribute"
   ]
  },
  {
   "cell_type": "code",
   "execution_count": 4,
   "metadata": {
    "colab": {},
    "colab_type": "code",
    "id": "tlN_o_LhkaiC",
    "scrolled": false
   },
   "outputs": [
    {
     "data": {
      "text/plain": [
       "<matplotlib.axes._subplots.AxesSubplot at 0x13a58843400>"
      ]
     },
     "execution_count": 4,
     "metadata": {},
     "output_type": "execute_result"
    },
    {
     "data": {
      "image/png": "[encoded data removed]",
      "text/plain": [
       "<Figure size 432x288 with 1 Axes>"
      ]
     },
     "metadata": {
      "needs_background": "light"
     },
     "output_type": "display_data"
    }
   ],
   "source": [
    "data.salaries.hist(bins=[i*10000 for i in range(15)],density=True)\n",
    "#I used the same line in the lecture, but i think tthe result is the good one and also i don't see any other way"
   ]
  },
  {
   "cell_type": "markdown",
   "metadata": {
    "colab_type": "text",
    "id": "dZWX-_W6kaiJ"
   },
   "source": [
    "**h. Attributes `Male` and `Female`. First, specify the types of these attributes (nominal / ordinal / numeric); then, choose an appropriate chart type and, if applicable, visualise the <font color='red'>relative frequency</font> of positive values in attribute `Male` and positive values in attribute `Female` (relative frequency of males and females).**"
   ]
  },
  {
   "cell_type": "markdown",
   "metadata": {},
   "source": [
    "Example of relative frequence bar plot for `Male` and `Female`."
   ]
  },
  {
   "cell_type": "code",
   "execution_count": null,
   "metadata": {},
   "outputs": [],
   "source": [
    "Image(filename='plot_male_female_ex.png')  # Example of relative frequency plot of Male and Female."
   ]
  },
  {
   "cell_type": "markdown",
   "metadata": {
    "colab_type": "text",
    "id": "N01durcMkaiK"
   },
   "source": [
    "**<font color='red'>Attribute type :</font>** Even if there is uses of numbers, 'Male' and 'Female' attribute are nominal attribute"
   ]
  },
  {
   "cell_type": "code",
   "execution_count": 8,
   "metadata": {
    "colab": {},
    "colab_type": "code",
    "id": "-eJKAFo9kaiM",
    "scrolled": false
   },
   "outputs": [
    {
     "data": {
      "text/plain": [
       "<matplotlib.axes._subplots.AxesSubplot at 0x2247b58b220>"
      ]
     },
     "execution_count": 8,
     "metadata": {},
     "output_type": "execute_result"
    },
    {
     "data": {
      "image/png": "[encoded data removed]",
      "text/plain": [
       "<Figure size 432x288 with 1 Axes>"
      ]
     },
     "metadata": {},
     "output_type": "display_data"
    }
   ],
   "source": [
    "# TODO - Put Male and Female attributes on the same plot for comparison\n",
    "\n",
    "data.shape\n",
    "list_gender = []\n",
    "\n",
    "for x in data[\"male\"]:\n",
    "    if(np.isnan(x) != True):\n",
    "        list_gender.append('male')\n",
    "    else:\n",
    "        list_gender.append('female')\n",
    "\n",
    "data.insert(12, \"gender\", list_gender, True)\n",
    "data.head()\n",
    "\n",
    "total = data[\"gender\"].value_counts()\n",
    "#print(sum(total))\n",
    "total = total/sum(total)\n",
    "#print(total)\n",
    "total.plot(kind='bar')"
   ]
  },
  {
   "cell_type": "markdown",
   "metadata": {
    "colab_type": "text",
    "id": "twQCJxP2kaiQ"
   },
   "source": [
    "**i. Count the number of missing values in each attribute in the dataset and also report the percentage of cells with missing values out of all the cells (the original file uses '?' for missing values)**"
   ]
  },
  {
   "cell_type": "code",
   "execution_count": 7,
   "metadata": {
    "colab": {},
    "colab_type": "code",
    "id": "Y2m3r5v9kaiR",
    "outputId": "2f21e2e3-761a-4694-bc4e-40182fcf533e",
    "scrolled": true
   },
   "outputs": [
    {
     "name": "stdout",
     "output_type": "stream",
     "text": [
      "age has a total missing of 97 for a total rows of 32561\n",
      "column age missing percentage : 0.3 %\n",
      "################################################\n",
      "workclass has a total missing of 1836 for a total rows of 32561\n",
      "column workclass missing percentage : 5.64 %\n",
      "################################################\n",
      "occupation has a total missing of 1843 for a total rows of 32561\n",
      "column occupation missing percentage : 5.66 %\n",
      "################################################\n",
      "native.country has a total missing of 583 for a total rows of 32561\n",
      "column native.country missing percentage : 1.79 %\n",
      "################################################\n"
     ]
    }
   ],
   "source": [
    "#TODO\n",
    "\n",
    "total_rows = data.shape[0]\n",
    "total_missing = 0\n",
    "if data is not data.empty:\n",
    "    for column in data.columns:\n",
    "        total_missing = 0\n",
    "        for x in data[column]:\n",
    "            if(x == \" ?\"):\n",
    "                total_missing = total_missing + 1\n",
    "        if total_missing > 0:\n",
    "            print (column,\"has a total missing of\",total_missing,\"for a total rows of\",total_rows)\n",
    "            print(\"column\",column,\"missing percentage :\", round(total_missing/total_rows*100,2),\"%\")\n",
    "            print(\"################################################\")\n",
    "else:\n",
    "    print('Please define `data` in earlier subtasks')"
   ]
  },
  {
   "cell_type": "markdown",
   "metadata": {
    "colab_type": "text",
    "id": "RlL3RHJ-kaiX"
   },
   "source": [
    "# 2.  Data preparation (1.5 points)"
   ]
  },
  {
   "cell_type": "markdown",
   "metadata": {
    "colab_type": "text",
    "id": "S7X7-bidkaiZ"
   },
   "source": [
    "Preparing the data for analysis is the most crucial phase in data analysis. In this exercise, the main goal is to clean up the dataset 'adult'. The dataset has been made unclean on purpose so that you can practice cleaning it up. Most of the introduced uncleanliness is of the same kinds as described in slides of Lecture 02. Additionally, some values have been introduced which are non-sensical due to the meaning of the attribute.<br>"
   ]
  },
  {
   "cell_type": "markdown",
   "metadata": {
    "colab_type": "text",
    "id": "a6e9dH8Okaia"
   },
   "source": [
    "First, let's make a deep copy of the original DataFrame. Later we will compare it to the cleaned/modified DataFrame."
   ]
  },
  {
   "cell_type": "code",
   "execution_count": 8,
   "metadata": {
    "colab": {},
    "colab_type": "code",
    "id": "pIaFPT_hkaic",
    "scrolled": false
   },
   "outputs": [
    {
     "data": {
      "text/html": [
       "<div>\n",
       "<style scoped>\n",
       "    .dataframe tbody tr th:only-of-type {\n",
       "        vertical-align: middle;\n",
       "    }\n",
       "\n",
       "    .dataframe tbody tr th {\n",
       "        vertical-align: top;\n",
       "    }\n",
       "\n",
       "    .dataframe thead th {\n",
       "        text-align: right;\n",
       "    }\n",
       "</style>\n",
       "<table border=\"1\" class=\"dataframe\">\n",
       "  <thead>\n",
       "    <tr style=\"text-align: right;\">\n",
       "      <th></th>\n",
       "      <th>X</th>\n",
       "      <th>age</th>\n",
       "      <th>workclass</th>\n",
       "      <th>education</th>\n",
       "      <th>occupation</th>\n",
       "      <th>capital.gain</th>\n",
       "      <th>capital.loss</th>\n",
       "      <th>native.country</th>\n",
       "      <th>salaries</th>\n",
       "      <th>jobsatisfaction</th>\n",
       "      <th>male</th>\n",
       "      <th>female</th>\n",
       "    </tr>\n",
       "  </thead>\n",
       "  <tbody>\n",
       "    <tr>\n",
       "      <th>0</th>\n",
       "      <td>0</td>\n",
       "      <td>39</td>\n",
       "      <td>State-gov</td>\n",
       "      <td>Bachelors</td>\n",
       "      <td>Adm-clerical</td>\n",
       "      <td>2174</td>\n",
       "      <td>0</td>\n",
       "      <td>United-States</td>\n",
       "      <td>43136.0</td>\n",
       "      <td>0</td>\n",
       "      <td>1.0</td>\n",
       "      <td>NaN</td>\n",
       "    </tr>\n",
       "    <tr>\n",
       "      <th>1</th>\n",
       "      <td>1</td>\n",
       "      <td>50</td>\n",
       "      <td>Self-emp-not-inc</td>\n",
       "      <td>Bachelors</td>\n",
       "      <td>Exec-managerial</td>\n",
       "      <td>0</td>\n",
       "      <td>0</td>\n",
       "      <td>UnitedStates</td>\n",
       "      <td>46209.0</td>\n",
       "      <td>7</td>\n",
       "      <td>1.0</td>\n",
       "      <td>NaN</td>\n",
       "    </tr>\n",
       "    <tr>\n",
       "      <th>2</th>\n",
       "      <td>2</td>\n",
       "      <td>38</td>\n",
       "      <td>privat</td>\n",
       "      <td>HS-grad</td>\n",
       "      <td>Handlers-cleaners</td>\n",
       "      <td>0</td>\n",
       "      <td>0</td>\n",
       "      <td>United-States</td>\n",
       "      <td>28937.0</td>\n",
       "      <td>6</td>\n",
       "      <td>1.0</td>\n",
       "      <td>NaN</td>\n",
       "    </tr>\n",
       "    <tr>\n",
       "      <th>3</th>\n",
       "      <td>3</td>\n",
       "      <td>53</td>\n",
       "      <td>privat</td>\n",
       "      <td>11th</td>\n",
       "      <td>Handlers-cleaners</td>\n",
       "      <td>0</td>\n",
       "      <td>0</td>\n",
       "      <td>United-States</td>\n",
       "      <td>33658.0</td>\n",
       "      <td>6</td>\n",
       "      <td>1.0</td>\n",
       "      <td>NaN</td>\n",
       "    </tr>\n",
       "    <tr>\n",
       "      <th>4</th>\n",
       "      <td>4</td>\n",
       "      <td>28</td>\n",
       "      <td>privat</td>\n",
       "      <td>Bachelors</td>\n",
       "      <td>Prof-specialty</td>\n",
       "      <td>0</td>\n",
       "      <td>0</td>\n",
       "      <td>Cuba</td>\n",
       "      <td>34372.0</td>\n",
       "      <td>12</td>\n",
       "      <td>NaN</td>\n",
       "      <td>1.0</td>\n",
       "    </tr>\n",
       "  </tbody>\n",
       "</table>\n",
       "</div>"
      ],
      "text/plain": [
       "   X age          workclass   education          occupation  capital.gain  \\\n",
       "0  0  39          State-gov   Bachelors        Adm-clerical          2174   \n",
       "1  1  50   Self-emp-not-inc   Bachelors     Exec-managerial             0   \n",
       "2  2  38             privat     HS-grad   Handlers-cleaners             0   \n",
       "3  3  53             privat        11th   Handlers-cleaners             0   \n",
       "4  4  28             privat   Bachelors      Prof-specialty             0   \n",
       "\n",
       "   capital.loss  native.country  salaries jobsatisfaction  male  female  \n",
       "0             0   United-States   43136.0               0   1.0     NaN  \n",
       "1             0    UnitedStates   46209.0               7   1.0     NaN  \n",
       "2             0   United-States   28937.0               6   1.0     NaN  \n",
       "3             0   United-States   33658.0               6   1.0     NaN  \n",
       "4             0            Cuba   34372.0              12   NaN     1.0  "
      ]
     },
     "execution_count": 8,
     "metadata": {},
     "output_type": "execute_result"
    }
   ],
   "source": [
    "data = pd.read_csv(\"adult.csv\",sep='\\t')\n",
    "if data is not data.empty:\n",
    "    original_data = data.copy(deep=True) # Make a deep copy, including a copy of the data and the indices\n",
    "data.head()\n",
    "#data[data.workclass == \" ?\"].head()"
   ]
  },
  {
   "cell_type": "markdown",
   "metadata": {
    "colab_type": "text",
    "id": "POrmgBUEkaig"
   },
   "source": [
    "**a. Sometimes values include leading and/or trailing spaces. Remove leading and trailing whitespace from strings. Count how many rows were changed in the dataset.** <br>"
   ]
  },
  {
   "cell_type": "code",
   "execution_count": 9,
   "metadata": {
    "colab": {},
    "colab_type": "code",
    "id": "ZK6UYIFrkaih"
   },
   "outputs": [
    {
     "data": {
      "text/html": [
       "<div>\n",
       "<style scoped>\n",
       "    .dataframe tbody tr th:only-of-type {\n",
       "        vertical-align: middle;\n",
       "    }\n",
       "\n",
       "    .dataframe tbody tr th {\n",
       "        vertical-align: top;\n",
       "    }\n",
       "\n",
       "    .dataframe thead th {\n",
       "        text-align: right;\n",
       "    }\n",
       "</style>\n",
       "<table border=\"1\" class=\"dataframe\">\n",
       "  <thead>\n",
       "    <tr style=\"text-align: right;\">\n",
       "      <th></th>\n",
       "      <th>X</th>\n",
       "      <th>age</th>\n",
       "      <th>workclass</th>\n",
       "      <th>education</th>\n",
       "      <th>occupation</th>\n",
       "      <th>capital.gain</th>\n",
       "      <th>capital.loss</th>\n",
       "      <th>native.country</th>\n",
       "      <th>salaries</th>\n",
       "      <th>jobsatisfaction</th>\n",
       "      <th>male</th>\n",
       "      <th>female</th>\n",
       "    </tr>\n",
       "  </thead>\n",
       "  <tbody>\n",
       "    <tr>\n",
       "      <th>0</th>\n",
       "      <td>0</td>\n",
       "      <td>39</td>\n",
       "      <td>State-gov</td>\n",
       "      <td>Bachelors</td>\n",
       "      <td>Adm-clerical</td>\n",
       "      <td>2174</td>\n",
       "      <td>0</td>\n",
       "      <td>United-States</td>\n",
       "      <td>43136.0</td>\n",
       "      <td>0</td>\n",
       "      <td>1.0</td>\n",
       "      <td>NaN</td>\n",
       "    </tr>\n",
       "    <tr>\n",
       "      <th>1</th>\n",
       "      <td>1</td>\n",
       "      <td>50</td>\n",
       "      <td>Self-emp-not-inc</td>\n",
       "      <td>Bachelors</td>\n",
       "      <td>Exec-managerial</td>\n",
       "      <td>0</td>\n",
       "      <td>0</td>\n",
       "      <td>UnitedStates</td>\n",
       "      <td>46209.0</td>\n",
       "      <td>7</td>\n",
       "      <td>1.0</td>\n",
       "      <td>NaN</td>\n",
       "    </tr>\n",
       "    <tr>\n",
       "      <th>2</th>\n",
       "      <td>2</td>\n",
       "      <td>38</td>\n",
       "      <td>privat</td>\n",
       "      <td>HS-grad</td>\n",
       "      <td>Handlers-cleaners</td>\n",
       "      <td>0</td>\n",
       "      <td>0</td>\n",
       "      <td>United-States</td>\n",
       "      <td>28937.0</td>\n",
       "      <td>6</td>\n",
       "      <td>1.0</td>\n",
       "      <td>NaN</td>\n",
       "    </tr>\n",
       "    <tr>\n",
       "      <th>3</th>\n",
       "      <td>3</td>\n",
       "      <td>53</td>\n",
       "      <td>privat</td>\n",
       "      <td>11th</td>\n",
       "      <td>Handlers-cleaners</td>\n",
       "      <td>0</td>\n",
       "      <td>0</td>\n",
       "      <td>United-States</td>\n",
       "      <td>33658.0</td>\n",
       "      <td>6</td>\n",
       "      <td>1.0</td>\n",
       "      <td>NaN</td>\n",
       "    </tr>\n",
       "    <tr>\n",
       "      <th>4</th>\n",
       "      <td>4</td>\n",
       "      <td>28</td>\n",
       "      <td>privat</td>\n",
       "      <td>Bachelors</td>\n",
       "      <td>Prof-specialty</td>\n",
       "      <td>0</td>\n",
       "      <td>0</td>\n",
       "      <td>Cuba</td>\n",
       "      <td>34372.0</td>\n",
       "      <td>12</td>\n",
       "      <td>NaN</td>\n",
       "      <td>1.0</td>\n",
       "    </tr>\n",
       "  </tbody>\n",
       "</table>\n",
       "</div>"
      ],
      "text/plain": [
       "   X age         workclass  education         occupation  capital.gain  \\\n",
       "0  0  39         State-gov  Bachelors       Adm-clerical          2174   \n",
       "1  1  50  Self-emp-not-inc  Bachelors    Exec-managerial             0   \n",
       "2  2  38            privat    HS-grad  Handlers-cleaners             0   \n",
       "3  3  53            privat       11th  Handlers-cleaners             0   \n",
       "4  4  28            privat  Bachelors     Prof-specialty             0   \n",
       "\n",
       "   capital.loss native.country  salaries jobsatisfaction  male  female  \n",
       "0             0  United-States   43136.0               0   1.0     NaN  \n",
       "1             0   UnitedStates   46209.0               7   1.0     NaN  \n",
       "2             0  United-States   28937.0               6   1.0     NaN  \n",
       "3             0  United-States   33658.0               6   1.0     NaN  \n",
       "4             0           Cuba   34372.0              12   NaN     1.0  "
      ]
     },
     "execution_count": 9,
     "metadata": {},
     "output_type": "execute_result"
    }
   ],
   "source": [
    "# TODO\n",
    "for column in data.columns:\n",
    "    #print(column)\n",
    "    x = data[column].iloc[0]\n",
    "    if(type(x)==str):\n",
    "        data[column] = data[column].str.replace(\" \",\"\")\n",
    "data.head()\n",
    "#data[data.workclass == \"?\"].head()"
   ]
  },
  {
   "cell_type": "markdown",
   "metadata": {
    "colab_type": "text",
    "id": "-0Pv_HUskaik"
   },
   "source": [
    "Use code below to count how many rows were affected."
   ]
  },
  {
   "cell_type": "code",
   "execution_count": 10,
   "metadata": {
    "colab": {},
    "colab_type": "code",
    "id": "qsjIsXV6kail"
   },
   "outputs": [
    {
     "name": "stdout",
     "output_type": "stream",
     "text": [
      "Difference: 32561\n"
     ]
    }
   ],
   "source": [
    "# Count differences\n",
    "if data is not data.empty:\n",
    "    data_all = pd.concat([original_data, data]).drop_duplicates()\n",
    "    diff = data_all.shape[0] - data.shape[0]\n",
    "    print ('Difference: ' + str(diff))"
   ]
  },
  {
   "cell_type": "markdown",
   "metadata": {
    "colab_type": "text",
    "id": "5PfMtuDAkaiq"
   },
   "source": [
    "**<font color='red'>Answer:</font>** 32561 lines were changed, so all the lines (because all the line was presented with a space before)."
   ]
  },
  {
   "cell_type": "markdown",
   "metadata": {
    "colab_type": "text",
    "id": "4fMwXL1qkair"
   },
   "source": [
    "**b. Replace all non-sensical values in `data` with np.nan from numpy package to denote missing values (Original file uses '?' for missing values). Fix the typos in the dataset. Justify all the changes that you do, explaining why you are sure that this is a correct change and what you think the cause for such error could be.**  <br>"
   ]
  },
  {
   "cell_type": "code",
   "execution_count": 11,
   "metadata": {
    "colab": {},
    "colab_type": "code",
    "id": "C1ZUmzF1kais"
   },
   "outputs": [
    {
     "name": "stderr",
     "output_type": "stream",
     "text": [
      "C:\\Users\\richa\\anaconda3\\lib\\site-packages\\pandas\\core\\indexing.py:671: SettingWithCopyWarning: \n",
      "A value is trying to be set on a copy of a slice from a DataFrame\n",
      "\n",
      "See the caveats in the documentation: https://pandas.pydata.org/pandas-docs/stable/user_guide/indexing.html#returning-a-view-versus-a-copy\n",
      "  self._setitem_with_indexer(indexer, value)\n"
     ]
    },
    {
     "name": "stdout",
     "output_type": "stream",
     "text": [
      "2487\n"
     ]
    }
   ],
   "source": [
    "# TODO\n",
    "#I JUST CHANGED ALL THE \"?\" INTO NaN\n",
    "total_rows = data.shape[0]\n",
    "total_missing = 0\n",
    "position = 0\n",
    "compteur = 0\n",
    "liste_position = []\n",
    "\n",
    "if data is not data.empty:\n",
    "    for column in data.columns:\n",
    "        total_missing = 0\n",
    "        position = 0\n",
    "        for x in data[column]:\n",
    "            if(x == \"?\"):\n",
    "                data[column].iloc[position] = np.nan\n",
    "                if(position not in liste_position):\n",
    "                    liste_position.append(position)\n",
    "            position = position + 1\n",
    "\n",
    "else:\n",
    "    print('Please define `data` in earlier subtasks')\n",
    "    \n",
    "#ALSO, I JOIN MALE AND FEMALE INTO GENDER, BECAUSE OTHERWISE, ALL ROWS HAVE NaN\n",
    "list_gender = []\n",
    "\n",
    "for x in data[\"male\"]:\n",
    "    if(np.isnan(x) != True):\n",
    "        list_gender.append('male')\n",
    "    else:\n",
    "        list_gender.append('female')\n",
    "        \n",
    "del data['male']\n",
    "del data['female']\n",
    "data.insert(10, \"gender\", list_gender, True)\n",
    "\n",
    "#data.head()\n",
    "#print(liste_position)\n",
    "print(len(liste_position))"
   ]
  },
  {
   "cell_type": "markdown",
   "metadata": {
    "colab_type": "text",
    "id": "_LKl3HDCkaiv"
   },
   "source": [
    "**<font color='red'>Answer:</font>** I suppressed all the \"?\", by replacing them with np.nan. Then, I merge \"male\" and \"female\" into \"gender\", in order to supress all the Nan irrelevant."
   ]
  },
  {
   "cell_type": "markdown",
   "metadata": {
    "colab_type": "text",
    "id": "2YTAx6R8kaiw"
   },
   "source": [
    "**c. Count the rows which were changed in the subtask b** <br>"
   ]
  },
  {
   "cell_type": "code",
   "execution_count": 12,
   "metadata": {
    "colab": {},
    "colab_type": "code",
    "id": "d8-dwA9Kkaix",
    "scrolled": true
   },
   "outputs": [],
   "source": [
    "# TODO\n",
    "#BECAUSE IT WAS EASIER, I COUNT THE ROWS WHICH WERE CHANGED ABOVE IN THE PROGRAMM ABOVE\n",
    "\n",
    "#JUST HERE, I COUNT THE TOTAL OF CELLS WHO HAVE CHANGED\n",
    "compteur = 0\n",
    "if data is not data.empty:\n",
    "    for column in data.columns:\n",
    "        compteur = compteur + data[column].isnull().sum()\n",
    "else:\n",
    "    print('Please define `data` in earlier subtasks')\n"
   ]
  },
  {
   "cell_type": "markdown",
   "metadata": {
    "colab_type": "text",
    "id": "1AnbwPdvkai1"
   },
   "source": [
    "**<font color='red'>Answer:</font>** Technically, all the rows are changed because I had \"gender\" column, but if we count only the Nan, we've got 4359 values who were changed, for a total of 2487 rows changed."
   ]
  },
  {
   "cell_type": "markdown",
   "metadata": {
    "colab_type": "text",
    "id": "lba2i1WXkai2"
   },
   "source": [
    "**d. Report values that look suspicious whereas you are not sure whether they are definitely wrong** <br> "
   ]
  },
  {
   "cell_type": "markdown",
   "metadata": {
    "colab_type": "text",
    "id": "EhEH4mIfkai3"
   },
   "source": [
    "**<font color='red'>Answer:</font>** There is some problems with \"United-States\" who is spells differently some times, or with \"Private\", with the same problem. I correct it in the exercize above."
   ]
  },
  {
   "cell_type": "markdown",
   "metadata": {
    "colab_type": "text",
    "id": "A0rD-SCMkai3"
   },
   "source": [
    "# 3.  Gathering interesting facts about the adult dataset (1.5 points)"
   ]
  },
  {
   "cell_type": "markdown",
   "metadata": {
    "colab_type": "text",
    "id": "uemxrSJ3kai5"
   },
   "source": [
    "Useful information about the data can be acquired through visualization even before modeling."
   ]
  },
  {
   "cell_type": "markdown",
   "metadata": {
    "colab_type": "text",
    "id": "ndx9QWGjkai5"
   },
   "source": [
    "**a. Convert the attribute `Education` into type `category` and introduce an order for this attribute based on the educational level (e.g. Masters is higher education than Bachelors; use your best guess in ordering those levels for which the order is not obvious). Create a bar chart visualising the relative frequencies of values.**"
   ]
  },
  {
   "cell_type": "code",
   "execution_count": 13,
   "metadata": {
    "colab": {},
    "colab_type": "code",
    "id": "P6YPgJhFkai6"
   },
   "outputs": [
    {
     "name": "stdout",
     "output_type": "stream",
     "text": [
      "[Bachelors, Bachelors, HS-grad, 11th, Bachelors, ..., Assoc-acdm, HS-grad, HS-grad, HS-grad, HS-grad]\n",
      "Length: 32561\n",
      "Categories (16, object): [Preschool < 1st-4th < 5th-6th < 7th-8th ... Some-college < Bachelors < Masters < Doctorate]\n"
     ]
    },
    {
     "data": {
      "image/png": "[encoded data removed]",
      "text/plain": [
       "<Figure size 432x288 with 1 Axes>"
      ]
     },
     "metadata": {
      "needs_background": "light"
     },
     "output_type": "display_data"
    }
   ],
   "source": [
    "# TODO\n",
    "if data is not data.empty:\n",
    "    #pass  #  TODO - Remove \"pass\"\n",
    "    data.education = data.education .astype('category')\n",
    "    education = pd.Categorical(data.education,ordered=True,categories=['Preschool','1st-4th', '5th-6th', '7th-8th','9th','10th', '11th', '12th','HS-grad','Prof-school', 'Assoc-acdm', 'Assoc-voc','Some-college','Bachelors', 'Masters', 'Doctorate'])\n",
    "    print(education)\n",
    "    \n",
    "    # Create a relative frequency bar chart\n",
    "    total = data.education.value_counts()\n",
    "    total = total/sum(total)\n",
    "    total.reindex(['Preschool','1st-4th', '5th-6th', '7th-8th','9th','10th', '11th', '12th','HS-grad','Prof-school', 'Assoc-acdm', 'Assoc-voc','Some-college','Bachelors', 'Masters', 'Doctorate']).plot(kind='bar')\n",
    "else:\n",
    "    print('Please define `data` in earlier subtasks')"
   ]
  },
  {
   "cell_type": "markdown",
   "metadata": {
    "colab_type": "text",
    "id": "kBkYG2Gckai_"
   },
   "source": [
    "**b.  Create and print a Pandas data frame where each row stands for an occupation, each column stands for a level of education, and the cells in the table contain the average salary of people with the corresponding occupation and education level.** <br> \n",
    "Hint 1: You can use crosstab, see also aggfunc from the pandas documentation."
   ]
  },
  {
   "cell_type": "code",
   "execution_count": 14,
   "metadata": {
    "colab": {},
    "colab_type": "code",
    "id": "fe6aSa0VkajA",
    "scrolled": false
   },
   "outputs": [
    {
     "data": {
      "text/html": [
       "<div>\n",
       "<style scoped>\n",
       "    .dataframe tbody tr th:only-of-type {\n",
       "        vertical-align: middle;\n",
       "    }\n",
       "\n",
       "    .dataframe tbody tr th {\n",
       "        vertical-align: top;\n",
       "    }\n",
       "\n",
       "    .dataframe thead th {\n",
       "        text-align: right;\n",
       "    }\n",
       "</style>\n",
       "<table border=\"1\" class=\"dataframe\">\n",
       "  <thead>\n",
       "    <tr style=\"text-align: right;\">\n",
       "      <th></th>\n",
       "      <th>Occupation</th>\n",
       "      <th>Bachelors</th>\n",
       "      <th>HS-grad</th>\n",
       "      <th>11th</th>\n",
       "      <th>Masters</th>\n",
       "      <th>9th</th>\n",
       "      <th>Some-college</th>\n",
       "      <th>Assoc-acdm</th>\n",
       "      <th>Assoc-voc</th>\n",
       "      <th>7th-8th</th>\n",
       "      <th>Doctorate</th>\n",
       "      <th>Prof-school</th>\n",
       "      <th>5th-6th</th>\n",
       "      <th>10th</th>\n",
       "      <th>1st-4th</th>\n",
       "      <th>Preschool</th>\n",
       "      <th>12th</th>\n",
       "    </tr>\n",
       "  </thead>\n",
       "  <tbody>\n",
       "    <tr>\n",
       "      <th>0</th>\n",
       "      <td>Adm-clerical</td>\n",
       "      <td>38987.468379</td>\n",
       "      <td>34729.643318</td>\n",
       "      <td>29976.850746</td>\n",
       "      <td>42550.852941</td>\n",
       "      <td>32473.000000</td>\n",
       "      <td>34387.942978</td>\n",
       "      <td>34836.388601</td>\n",
       "      <td>33989.095808</td>\n",
       "      <td>35226.909091</td>\n",
       "      <td>43041.600000</td>\n",
       "      <td>44568.111111</td>\n",
       "      <td>26075.000000</td>\n",
       "      <td>29957.973684</td>\n",
       "      <td>NaN</td>\n",
       "      <td>31927.500000</td>\n",
       "      <td>29722.605263</td>\n",
       "    </tr>\n",
       "    <tr>\n",
       "      <th>1</th>\n",
       "      <td>Exec-managerial</td>\n",
       "      <td>50908.816654</td>\n",
       "      <td>42182.164808</td>\n",
       "      <td>36805.441176</td>\n",
       "      <td>57455.882236</td>\n",
       "      <td>38819.615385</td>\n",
       "      <td>43447.339022</td>\n",
       "      <td>46605.034483</td>\n",
       "      <td>45784.686667</td>\n",
       "      <td>42949.736842</td>\n",
       "      <td>63967.981818</td>\n",
       "      <td>58638.115385</td>\n",
       "      <td>71742.000000</td>\n",
       "      <td>38655.333333</td>\n",
       "      <td>50014.500000</td>\n",
       "      <td>NaN</td>\n",
       "      <td>36365.307692</td>\n",
       "    </tr>\n",
       "    <tr>\n",
       "      <th>2</th>\n",
       "      <td>Handlers-cleaners</td>\n",
       "      <td>37371.940000</td>\n",
       "      <td>32552.255672</td>\n",
       "      <td>30906.227642</td>\n",
       "      <td>29983.000000</td>\n",
       "      <td>34131.204082</td>\n",
       "      <td>32719.355805</td>\n",
       "      <td>33321.333333</td>\n",
       "      <td>34322.857143</td>\n",
       "      <td>30780.347826</td>\n",
       "      <td>NaN</td>\n",
       "      <td>NaN</td>\n",
       "      <td>32748.475000</td>\n",
       "      <td>32047.000000</td>\n",
       "      <td>31633.062500</td>\n",
       "      <td>30799.000000</td>\n",
       "      <td>32224.447368</td>\n",
       "    </tr>\n",
       "    <tr>\n",
       "      <th>3</th>\n",
       "      <td>Prof-specialty</td>\n",
       "      <td>44600.974582</td>\n",
       "      <td>40999.918455</td>\n",
       "      <td>30745.050000</td>\n",
       "      <td>48030.883886</td>\n",
       "      <td>35095.000000</td>\n",
       "      <td>40584.197674</td>\n",
       "      <td>40030.978261</td>\n",
       "      <td>42809.147059</td>\n",
       "      <td>28300.222222</td>\n",
       "      <td>56764.623053</td>\n",
       "      <td>58333.599558</td>\n",
       "      <td>39091.000000</td>\n",
       "      <td>45071.666667</td>\n",
       "      <td>23128.500000</td>\n",
       "      <td>34861.000000</td>\n",
       "      <td>37524.000000</td>\n",
       "    </tr>\n",
       "    <tr>\n",
       "      <th>4</th>\n",
       "      <td>Other-service</td>\n",
       "      <td>35861.408840</td>\n",
       "      <td>32137.304029</td>\n",
       "      <td>31202.760504</td>\n",
       "      <td>32017.684211</td>\n",
       "      <td>31044.702970</td>\n",
       "      <td>31471.024328</td>\n",
       "      <td>33145.141026</td>\n",
       "      <td>33618.782609</td>\n",
       "      <td>31001.632653</td>\n",
       "      <td>71626.000000</td>\n",
       "      <td>37343.750000</td>\n",
       "      <td>31433.078125</td>\n",
       "      <td>30484.644330</td>\n",
       "      <td>29770.650000</td>\n",
       "      <td>32498.466667</td>\n",
       "      <td>31881.764706</td>\n",
       "    </tr>\n",
       "    <tr>\n",
       "      <th>5</th>\n",
       "      <td>Sales</td>\n",
       "      <td>47796.294190</td>\n",
       "      <td>37536.600561</td>\n",
       "      <td>31411.951389</td>\n",
       "      <td>52718.708955</td>\n",
       "      <td>33974.468750</td>\n",
       "      <td>38450.688801</td>\n",
       "      <td>40032.569444</td>\n",
       "      <td>38573.943396</td>\n",
       "      <td>37247.896552</td>\n",
       "      <td>53759.500000</td>\n",
       "      <td>52483.888889</td>\n",
       "      <td>39858.666667</td>\n",
       "      <td>33370.271605</td>\n",
       "      <td>31324.250000</td>\n",
       "      <td>NaN</td>\n",
       "      <td>35273.382979</td>\n",
       "    </tr>\n",
       "    <tr>\n",
       "      <th>6</th>\n",
       "      <td>Craft-repair</td>\n",
       "      <td>45141.606195</td>\n",
       "      <td>38615.121584</td>\n",
       "      <td>36050.302857</td>\n",
       "      <td>46957.590909</td>\n",
       "      <td>35322.854167</td>\n",
       "      <td>41353.640553</td>\n",
       "      <td>41023.078261</td>\n",
       "      <td>42391.511905</td>\n",
       "      <td>33048.060345</td>\n",
       "      <td>54458.500000</td>\n",
       "      <td>52143.714286</td>\n",
       "      <td>33559.627907</td>\n",
       "      <td>35271.211765</td>\n",
       "      <td>32884.086957</td>\n",
       "      <td>33937.500000</td>\n",
       "      <td>35800.189655</td>\n",
       "    </tr>\n",
       "    <tr>\n",
       "      <th>7</th>\n",
       "      <td>Transport-moving</td>\n",
       "      <td>40176.129032</td>\n",
       "      <td>38235.360684</td>\n",
       "      <td>32254.358696</td>\n",
       "      <td>43370.400000</td>\n",
       "      <td>33625.571429</td>\n",
       "      <td>39624.395760</td>\n",
       "      <td>32465.222222</td>\n",
       "      <td>41845.225000</td>\n",
       "      <td>35341.450000</td>\n",
       "      <td>18726.000000</td>\n",
       "      <td>67293.333333</td>\n",
       "      <td>31557.000000</td>\n",
       "      <td>38104.952381</td>\n",
       "      <td>33409.875000</td>\n",
       "      <td>NaN</td>\n",
       "      <td>39585.769231</td>\n",
       "    </tr>\n",
       "    <tr>\n",
       "      <th>8</th>\n",
       "      <td>Farming-fishing</td>\n",
       "      <td>39866.142857</td>\n",
       "      <td>35043.565395</td>\n",
       "      <td>34774.054054</td>\n",
       "      <td>40793.100000</td>\n",
       "      <td>31886.178571</td>\n",
       "      <td>33912.568114</td>\n",
       "      <td>32939.187858</td>\n",
       "      <td>38431.480769</td>\n",
       "      <td>33664.483009</td>\n",
       "      <td>70039.000000</td>\n",
       "      <td>43915.500000</td>\n",
       "      <td>30814.361111</td>\n",
       "      <td>32535.090909</td>\n",
       "      <td>31450.000000</td>\n",
       "      <td>32559.333333</td>\n",
       "      <td>33999.875000</td>\n",
       "    </tr>\n",
       "    <tr>\n",
       "      <th>9</th>\n",
       "      <td>Machine-op-inspct</td>\n",
       "      <td>38791.840580</td>\n",
       "      <td>35660.081200</td>\n",
       "      <td>31165.656566</td>\n",
       "      <td>31144.500000</td>\n",
       "      <td>32178.881579</td>\n",
       "      <td>36279.219355</td>\n",
       "      <td>43272.303030</td>\n",
       "      <td>39073.587302</td>\n",
       "      <td>33776.591398</td>\n",
       "      <td>70502.000000</td>\n",
       "      <td>38026.000000</td>\n",
       "      <td>33421.928571</td>\n",
       "      <td>32183.326733</td>\n",
       "      <td>32227.956522</td>\n",
       "      <td>32628.818182</td>\n",
       "      <td>28159.485714</td>\n",
       "    </tr>\n",
       "    <tr>\n",
       "      <th>10</th>\n",
       "      <td>Tech-support</td>\n",
       "      <td>43159.543478</td>\n",
       "      <td>40867.106918</td>\n",
       "      <td>32796.666667</td>\n",
       "      <td>48925.405405</td>\n",
       "      <td>32152.500000</td>\n",
       "      <td>40650.135531</td>\n",
       "      <td>40934.410959</td>\n",
       "      <td>42085.611111</td>\n",
       "      <td>32947.200000</td>\n",
       "      <td>58249.000000</td>\n",
       "      <td>42851.857143</td>\n",
       "      <td>39695.000000</td>\n",
       "      <td>44464.666667</td>\n",
       "      <td>NaN</td>\n",
       "      <td>NaN</td>\n",
       "      <td>43313.000000</td>\n",
       "    </tr>\n",
       "    <tr>\n",
       "      <th>11</th>\n",
       "      <td>Protective-serv</td>\n",
       "      <td>50673.920000</td>\n",
       "      <td>39481.474419</td>\n",
       "      <td>38363.142857</td>\n",
       "      <td>48472.133333</td>\n",
       "      <td>33974.000000</td>\n",
       "      <td>43383.000000</td>\n",
       "      <td>42760.500000</td>\n",
       "      <td>41284.541667</td>\n",
       "      <td>30010.333333</td>\n",
       "      <td>NaN</td>\n",
       "      <td>64038.000000</td>\n",
       "      <td>19378.000000</td>\n",
       "      <td>26930.166667</td>\n",
       "      <td>41685.000000</td>\n",
       "      <td>NaN</td>\n",
       "      <td>30582.833333</td>\n",
       "    </tr>\n",
       "    <tr>\n",
       "      <th>12</th>\n",
       "      <td>Armed-Forces</td>\n",
       "      <td>15014.000000</td>\n",
       "      <td>35544.000000</td>\n",
       "      <td>NaN</td>\n",
       "      <td>67993.000000</td>\n",
       "      <td>NaN</td>\n",
       "      <td>19421.000000</td>\n",
       "      <td>NaN</td>\n",
       "      <td>NaN</td>\n",
       "      <td>NaN</td>\n",
       "      <td>NaN</td>\n",
       "      <td>NaN</td>\n",
       "      <td>NaN</td>\n",
       "      <td>NaN</td>\n",
       "      <td>NaN</td>\n",
       "      <td>NaN</td>\n",
       "      <td>48635.000000</td>\n",
       "    </tr>\n",
       "    <tr>\n",
       "      <th>13</th>\n",
       "      <td>Priv-house-serv</td>\n",
       "      <td>37750.428571</td>\n",
       "      <td>31240.140000</td>\n",
       "      <td>27458.428571</td>\n",
       "      <td>28568.000000</td>\n",
       "      <td>33230.200000</td>\n",
       "      <td>31587.562500</td>\n",
       "      <td>16753.500000</td>\n",
       "      <td>34781.250000</td>\n",
       "      <td>28921.250000</td>\n",
       "      <td>NaN</td>\n",
       "      <td>NaN</td>\n",
       "      <td>26133.071429</td>\n",
       "      <td>33172.000000</td>\n",
       "      <td>25066.363636</td>\n",
       "      <td>26577.000000</td>\n",
       "      <td>34069.250000</td>\n",
       "    </tr>\n",
       "  </tbody>\n",
       "</table>\n",
       "</div>"
      ],
      "text/plain": [
       "           Occupation     Bachelors       HS-grad          11th       Masters  \\\n",
       "0        Adm-clerical  38987.468379  34729.643318  29976.850746  42550.852941   \n",
       "1     Exec-managerial  50908.816654  42182.164808  36805.441176  57455.882236   \n",
       "2   Handlers-cleaners  37371.940000  32552.255672  30906.227642  29983.000000   \n",
       "3      Prof-specialty  44600.974582  40999.918455  30745.050000  48030.883886   \n",
       "4       Other-service  35861.408840  32137.304029  31202.760504  32017.684211   \n",
       "5               Sales  47796.294190  37536.600561  31411.951389  52718.708955   \n",
       "6        Craft-repair  45141.606195  38615.121584  36050.302857  46957.590909   \n",
       "7    Transport-moving  40176.129032  38235.360684  32254.358696  43370.400000   \n",
       "8     Farming-fishing  39866.142857  35043.565395  34774.054054  40793.100000   \n",
       "9   Machine-op-inspct  38791.840580  35660.081200  31165.656566  31144.500000   \n",
       "10       Tech-support  43159.543478  40867.106918  32796.666667  48925.405405   \n",
       "11    Protective-serv  50673.920000  39481.474419  38363.142857  48472.133333   \n",
       "12       Armed-Forces  15014.000000  35544.000000           NaN  67993.000000   \n",
       "13    Priv-house-serv  37750.428571  31240.140000  27458.428571  28568.000000   \n",
       "\n",
       "             9th  Some-college    Assoc-acdm     Assoc-voc       7th-8th  \\\n",
       "0   32473.000000  34387.942978  34836.388601  33989.095808  35226.909091   \n",
       "1   38819.615385  43447.339022  46605.034483  45784.686667  42949.736842   \n",
       "2   34131.204082  32719.355805  33321.333333  34322.857143  30780.347826   \n",
       "3   35095.000000  40584.197674  40030.978261  42809.147059  28300.222222   \n",
       "4   31044.702970  31471.024328  33145.141026  33618.782609  31001.632653   \n",
       "5   33974.468750  38450.688801  40032.569444  38573.943396  37247.896552   \n",
       "6   35322.854167  41353.640553  41023.078261  42391.511905  33048.060345   \n",
       "7   33625.571429  39624.395760  32465.222222  41845.225000  35341.450000   \n",
       "8   31886.178571  33912.568114  32939.187858  38431.480769  33664.483009   \n",
       "9   32178.881579  36279.219355  43272.303030  39073.587302  33776.591398   \n",
       "10  32152.500000  40650.135531  40934.410959  42085.611111  32947.200000   \n",
       "11  33974.000000  43383.000000  42760.500000  41284.541667  30010.333333   \n",
       "12           NaN  19421.000000           NaN           NaN           NaN   \n",
       "13  33230.200000  31587.562500  16753.500000  34781.250000  28921.250000   \n",
       "\n",
       "       Doctorate   Prof-school       5th-6th          10th       1st-4th  \\\n",
       "0   43041.600000  44568.111111  26075.000000  29957.973684           NaN   \n",
       "1   63967.981818  58638.115385  71742.000000  38655.333333  50014.500000   \n",
       "2            NaN           NaN  32748.475000  32047.000000  31633.062500   \n",
       "3   56764.623053  58333.599558  39091.000000  45071.666667  23128.500000   \n",
       "4   71626.000000  37343.750000  31433.078125  30484.644330  29770.650000   \n",
       "5   53759.500000  52483.888889  39858.666667  33370.271605  31324.250000   \n",
       "6   54458.500000  52143.714286  33559.627907  35271.211765  32884.086957   \n",
       "7   18726.000000  67293.333333  31557.000000  38104.952381  33409.875000   \n",
       "8   70039.000000  43915.500000  30814.361111  32535.090909  31450.000000   \n",
       "9   70502.000000  38026.000000  33421.928571  32183.326733  32227.956522   \n",
       "10  58249.000000  42851.857143  39695.000000  44464.666667           NaN   \n",
       "11           NaN  64038.000000  19378.000000  26930.166667  41685.000000   \n",
       "12           NaN           NaN           NaN           NaN           NaN   \n",
       "13           NaN           NaN  26133.071429  33172.000000  25066.363636   \n",
       "\n",
       "       Preschool          12th  \n",
       "0   31927.500000  29722.605263  \n",
       "1            NaN  36365.307692  \n",
       "2   30799.000000  32224.447368  \n",
       "3   34861.000000  37524.000000  \n",
       "4   32498.466667  31881.764706  \n",
       "5            NaN  35273.382979  \n",
       "6   33937.500000  35800.189655  \n",
       "7            NaN  39585.769231  \n",
       "8   32559.333333  33999.875000  \n",
       "9   32628.818182  28159.485714  \n",
       "10           NaN  43313.000000  \n",
       "11           NaN  30582.833333  \n",
       "12           NaN  48635.000000  \n",
       "13  26577.000000  34069.250000  "
      ]
     },
     "execution_count": 14,
     "metadata": {},
     "output_type": "execute_result"
    }
   ],
   "source": [
    "# TODO\n",
    "\n",
    "\n",
    "\n",
    "data.occupation.astype('category')\n",
    "occupation = pd.Categorical(data.occupation,ordered=True,categories=['Adm-clerical', 'Exec-managerial', 'Handlers-cleaners', 'Prof-specialty', 'Other-service', 'Sales', 'Craft-repair', 'Transport-moving', 'Farming-fishing', 'Machine-op-inspct', 'Tech-support','Protective-serv', 'Armed-Forces', 'Priv-house-serv'])\n",
    "\n",
    "education = pd.Categorical(data.education,ordered=True,categories=['Preschool','1st-4th', '5th-6th', '7th-8th','9th','10th', '11th', '12th','HS-grad','Prof-school', 'Assoc-acdm', 'Assoc-voc','Some-college','Bachelors', 'Masters', 'Doctorate'])\n",
    "\n",
    "liste_occupation = []\n",
    "for x in occupation:\n",
    "    if(x not in liste_occupation):\n",
    "        if(x is not np.nan):\n",
    "            liste_occupation.append(x)\n",
    "\n",
    "liste_education = []\n",
    "for x in education:\n",
    "    if(x not in liste_education):\n",
    "        liste_education.append(x)\n",
    "        \n",
    "crosstab_df = pd.DataFrame({'Occupation' : liste_occupation})\n",
    "\n",
    "########\n",
    "for x in education:\n",
    "    crosstab_df[x] = 1\n",
    "\n",
    "\n",
    "for i in range(0,14):\n",
    "    for j in range(1,17):\n",
    "        #crosstab_df.iloc[i,j] = 1\n",
    "        crosstab_df.iloc[i,j] = data.salaries[(data.education == liste_education[j-1]) & (data.occupation == liste_occupation[i])].mean()\n",
    "\n",
    "#data.salaries.mean()\n",
    "\n",
    "crosstab_df"
   ]
  },
  {
   "cell_type": "code",
   "execution_count": null,
   "metadata": {},
   "outputs": [],
   "source": []
  },
  {
   "cell_type": "markdown",
   "metadata": {
    "colab_type": "text",
    "id": "DPhrXyDYkajC"
   },
   "source": [
    "**c. Make a separate plot for each row (occupation) of the table created in subtask b. Choose the type of the plot to convey the information as well as you can.** <br>"
   ]
  },
  {
   "cell_type": "code",
   "execution_count": 15,
   "metadata": {
    "colab": {},
    "colab_type": "code",
    "id": "89ntQ_AGkajE",
    "scrolled": false
   },
   "outputs": [
    {
     "ename": "TypeError",
     "evalue": "no numeric data to plot",
     "output_type": "error",
     "traceback": [
      "\u001b[1;31m---------------------------------------------------------------------------\u001b[0m",
      "\u001b[1;31mTypeError\u001b[0m                                 Traceback (most recent call last)",
      "\u001b[1;32m<ipython-input-15-7625a71c8d28>\u001b[0m in \u001b[0;36m<module>\u001b[1;34m\u001b[0m\n\u001b[0;32m      1\u001b[0m \u001b[1;32mif\u001b[0m \u001b[0mcrosstab_df\u001b[0m \u001b[1;32mis\u001b[0m \u001b[1;32mnot\u001b[0m \u001b[0mcrosstab_df\u001b[0m\u001b[1;33m.\u001b[0m\u001b[0mempty\u001b[0m\u001b[1;33m:\u001b[0m\u001b[1;33m\u001b[0m\u001b[1;33m\u001b[0m\u001b[0m\n\u001b[0;32m      2\u001b[0m     \u001b[1;32mfor\u001b[0m \u001b[0mindex\u001b[0m\u001b[1;33m,\u001b[0m \u001b[0mrow\u001b[0m \u001b[1;32min\u001b[0m \u001b[0mcrosstab_df\u001b[0m\u001b[1;33m.\u001b[0m\u001b[0miterrows\u001b[0m\u001b[1;33m(\u001b[0m\u001b[1;33m)\u001b[0m\u001b[1;33m:\u001b[0m\u001b[1;33m\u001b[0m\u001b[1;33m\u001b[0m\u001b[0m\n\u001b[1;32m----> 3\u001b[1;33m         \u001b[0mrow\u001b[0m\u001b[1;33m.\u001b[0m\u001b[0mplot\u001b[0m\u001b[1;33m(\u001b[0m\u001b[0mkind\u001b[0m\u001b[1;33m=\u001b[0m\u001b[1;34m'bar'\u001b[0m\u001b[1;33m,\u001b[0m\u001b[0mtitle\u001b[0m\u001b[1;33m=\u001b[0m\u001b[0mindex\u001b[0m\u001b[1;33m)\u001b[0m\u001b[1;33m\u001b[0m\u001b[1;33m\u001b[0m\u001b[0m\n\u001b[0m\u001b[0;32m      4\u001b[0m         \u001b[0mplt\u001b[0m\u001b[1;33m.\u001b[0m\u001b[0mshow\u001b[0m\u001b[1;33m(\u001b[0m\u001b[1;33m)\u001b[0m\u001b[1;33m\u001b[0m\u001b[1;33m\u001b[0m\u001b[0m\n\u001b[0;32m      5\u001b[0m \u001b[1;33m\u001b[0m\u001b[0m\n",
      "\u001b[1;32m~\\anaconda3\\lib\\site-packages\\pandas\\plotting\\_core.py\u001b[0m in \u001b[0;36m__call__\u001b[1;34m(self, *args, **kwargs)\u001b[0m\n\u001b[0;32m    845\u001b[0m                     \u001b[0mdata\u001b[0m\u001b[1;33m.\u001b[0m\u001b[0mcolumns\u001b[0m \u001b[1;33m=\u001b[0m \u001b[0mlabel_name\u001b[0m\u001b[1;33m\u001b[0m\u001b[1;33m\u001b[0m\u001b[0m\n\u001b[0;32m    846\u001b[0m \u001b[1;33m\u001b[0m\u001b[0m\n\u001b[1;32m--> 847\u001b[1;33m         \u001b[1;32mreturn\u001b[0m \u001b[0mplot_backend\u001b[0m\u001b[1;33m.\u001b[0m\u001b[0mplot\u001b[0m\u001b[1;33m(\u001b[0m\u001b[0mdata\u001b[0m\u001b[1;33m,\u001b[0m \u001b[0mkind\u001b[0m\u001b[1;33m=\u001b[0m\u001b[0mkind\u001b[0m\u001b[1;33m,\u001b[0m \u001b[1;33m**\u001b[0m\u001b[0mkwargs\u001b[0m\u001b[1;33m)\u001b[0m\u001b[1;33m\u001b[0m\u001b[1;33m\u001b[0m\u001b[0m\n\u001b[0m\u001b[0;32m    848\u001b[0m \u001b[1;33m\u001b[0m\u001b[0m\n\u001b[0;32m    849\u001b[0m     \u001b[0m__call__\u001b[0m\u001b[1;33m.\u001b[0m\u001b[0m__doc__\u001b[0m \u001b[1;33m=\u001b[0m \u001b[0m__doc__\u001b[0m\u001b[1;33m\u001b[0m\u001b[1;33m\u001b[0m\u001b[0m\n",
      "\u001b[1;32m~\\anaconda3\\lib\\site-packages\\pandas\\plotting\\_matplotlib\\__init__.py\u001b[0m in \u001b[0;36mplot\u001b[1;34m(data, kind, **kwargs)\u001b[0m\n\u001b[0;32m     59\u001b[0m             \u001b[0mkwargs\u001b[0m\u001b[1;33m[\u001b[0m\u001b[1;34m\"ax\"\u001b[0m\u001b[1;33m]\u001b[0m \u001b[1;33m=\u001b[0m \u001b[0mgetattr\u001b[0m\u001b[1;33m(\u001b[0m\u001b[0max\u001b[0m\u001b[1;33m,\u001b[0m \u001b[1;34m\"left_ax\"\u001b[0m\u001b[1;33m,\u001b[0m \u001b[0max\u001b[0m\u001b[1;33m)\u001b[0m\u001b[1;33m\u001b[0m\u001b[1;33m\u001b[0m\u001b[0m\n\u001b[0;32m     60\u001b[0m     \u001b[0mplot_obj\u001b[0m \u001b[1;33m=\u001b[0m \u001b[0mPLOT_CLASSES\u001b[0m\u001b[1;33m[\u001b[0m\u001b[0mkind\u001b[0m\u001b[1;33m]\u001b[0m\u001b[1;33m(\u001b[0m\u001b[0mdata\u001b[0m\u001b[1;33m,\u001b[0m \u001b[1;33m**\u001b[0m\u001b[0mkwargs\u001b[0m\u001b[1;33m)\u001b[0m\u001b[1;33m\u001b[0m\u001b[1;33m\u001b[0m\u001b[0m\n\u001b[1;32m---> 61\u001b[1;33m     \u001b[0mplot_obj\u001b[0m\u001b[1;33m.\u001b[0m\u001b[0mgenerate\u001b[0m\u001b[1;33m(\u001b[0m\u001b[1;33m)\u001b[0m\u001b[1;33m\u001b[0m\u001b[1;33m\u001b[0m\u001b[0m\n\u001b[0m\u001b[0;32m     62\u001b[0m     \u001b[0mplot_obj\u001b[0m\u001b[1;33m.\u001b[0m\u001b[0mdraw\u001b[0m\u001b[1;33m(\u001b[0m\u001b[1;33m)\u001b[0m\u001b[1;33m\u001b[0m\u001b[1;33m\u001b[0m\u001b[0m\n\u001b[0;32m     63\u001b[0m     \u001b[1;32mreturn\u001b[0m \u001b[0mplot_obj\u001b[0m\u001b[1;33m.\u001b[0m\u001b[0mresult\u001b[0m\u001b[1;33m\u001b[0m\u001b[1;33m\u001b[0m\u001b[0m\n",
      "\u001b[1;32m~\\anaconda3\\lib\\site-packages\\pandas\\plotting\\_matplotlib\\core.py\u001b[0m in \u001b[0;36mgenerate\u001b[1;34m(self)\u001b[0m\n\u001b[0;32m    259\u001b[0m     \u001b[1;32mdef\u001b[0m \u001b[0mgenerate\u001b[0m\u001b[1;33m(\u001b[0m\u001b[0mself\u001b[0m\u001b[1;33m)\u001b[0m\u001b[1;33m:\u001b[0m\u001b[1;33m\u001b[0m\u001b[1;33m\u001b[0m\u001b[0m\n\u001b[0;32m    260\u001b[0m         \u001b[0mself\u001b[0m\u001b[1;33m.\u001b[0m\u001b[0m_args_adjust\u001b[0m\u001b[1;33m(\u001b[0m\u001b[1;33m)\u001b[0m\u001b[1;33m\u001b[0m\u001b[1;33m\u001b[0m\u001b[0m\n\u001b[1;32m--> 261\u001b[1;33m         \u001b[0mself\u001b[0m\u001b[1;33m.\u001b[0m\u001b[0m_compute_plot_data\u001b[0m\u001b[1;33m(\u001b[0m\u001b[1;33m)\u001b[0m\u001b[1;33m\u001b[0m\u001b[1;33m\u001b[0m\u001b[0m\n\u001b[0m\u001b[0;32m    262\u001b[0m         \u001b[0mself\u001b[0m\u001b[1;33m.\u001b[0m\u001b[0m_setup_subplots\u001b[0m\u001b[1;33m(\u001b[0m\u001b[1;33m)\u001b[0m\u001b[1;33m\u001b[0m\u001b[1;33m\u001b[0m\u001b[0m\n\u001b[0;32m    263\u001b[0m         \u001b[0mself\u001b[0m\u001b[1;33m.\u001b[0m\u001b[0m_make_plot\u001b[0m\u001b[1;33m(\u001b[0m\u001b[1;33m)\u001b[0m\u001b[1;33m\u001b[0m\u001b[1;33m\u001b[0m\u001b[0m\n",
      "\u001b[1;32m~\\anaconda3\\lib\\site-packages\\pandas\\plotting\\_matplotlib\\core.py\u001b[0m in \u001b[0;36m_compute_plot_data\u001b[1;34m(self)\u001b[0m\n\u001b[0;32m    408\u001b[0m         \u001b[1;31m# no non-numeric frames or series allowed\u001b[0m\u001b[1;33m\u001b[0m\u001b[1;33m\u001b[0m\u001b[1;33m\u001b[0m\u001b[0m\n\u001b[0;32m    409\u001b[0m         \u001b[1;32mif\u001b[0m \u001b[0mis_empty\u001b[0m\u001b[1;33m:\u001b[0m\u001b[1;33m\u001b[0m\u001b[1;33m\u001b[0m\u001b[0m\n\u001b[1;32m--> 410\u001b[1;33m             \u001b[1;32mraise\u001b[0m \u001b[0mTypeError\u001b[0m\u001b[1;33m(\u001b[0m\u001b[1;34m\"no numeric data to plot\"\u001b[0m\u001b[1;33m)\u001b[0m\u001b[1;33m\u001b[0m\u001b[1;33m\u001b[0m\u001b[0m\n\u001b[0m\u001b[0;32m    411\u001b[0m \u001b[1;33m\u001b[0m\u001b[0m\n\u001b[0;32m    412\u001b[0m         \u001b[1;31m# GH25587: cast ExtensionArray of pandas (IntegerArray, etc.) to\u001b[0m\u001b[1;33m\u001b[0m\u001b[1;33m\u001b[0m\u001b[1;33m\u001b[0m\u001b[0m\n",
      "\u001b[1;31mTypeError\u001b[0m: no numeric data to plot"
     ]
    }
   ],
   "source": [
    "if crosstab_df is not crosstab_df.empty:\n",
    "    for index, row in crosstab_df.iterrows():\n",
    "        row.plot(kind='bar',title=index)\n",
    "        plt.show()\n",
    "        \n",
    "#I SPENT HOURS, TRYING EVERYTHING ... I DON'T GET IT\n",
    "#WHY NO NUMERIC DATA TO PLOT ERROR ?\n"
   ]
  },
  {
   "cell_type": "markdown",
   "metadata": {
    "colab_type": "text",
    "id": "27wgMr84kajI"
   },
   "source": [
    "**d. List 3 interesting facts that you can read out of these plots from subtask c.** <br>"
   ]
  },
  {
   "cell_type": "markdown",
   "metadata": {
    "colab_type": "text",
    "id": "X2qdsetxkajI"
   },
   "source": [
    "**<font color='red'>Fact 1:</font>** Answer goes here."
   ]
  },
  {
   "cell_type": "markdown",
   "metadata": {
    "colab_type": "text",
    "id": "cjr4eg3DkajK"
   },
   "source": [
    "**<font color='red'>Fact 2:</font>** Answer goes here."
   ]
  },
  {
   "cell_type": "markdown",
   "metadata": {
    "colab_type": "text",
    "id": "YvR4F6TtkajK"
   },
   "source": [
    "**<font color='red'>Fact 3:</font>** Answer goes here."
   ]
  },
  {
   "cell_type": "markdown",
   "metadata": {
    "colab_type": "text",
    "id": "Hlbc2sX_kajK"
   },
   "source": [
    "# B1 (OPTIONAL BONUS TASK).  Using Tableau to gather interesting facts about the adult dataset (up to 2 bonus points)\n",
    "\n",
    "This task is a bonus task, meaning that you can earn bonus points that will be added to your homework, project and exam points. For example, if you get 89 points in total from homework, project and exam, but you have earned 2 bonus points from your homeworks, then you get the grade `A` because your final score will be 89+2=91."
   ]
  },
  {
   "cell_type": "markdown",
   "metadata": {
    "colab_type": "text",
    "id": "zTtd8R5bkajL"
   },
   "source": [
    "In the current bonus task you will earn 1 bonus point for doing all that you have been asked to do. **If you do not solve all subtasks fully as instructed, then you do not get any bonus points at all (no points will be given for partial answers)**. Further, if your full solution is either among 10% of the best solutions or among 3 best solutions for this task (in our subjective opinion), then you will be awarded another bonus point, that is in total you would get 2 bonus points. "
   ]
  },
  {
   "cell_type": "markdown",
   "metadata": {
    "colab_type": "text",
    "id": "XIGBOcsfkajL"
   },
   "source": [
    "For this task please install Tableau Desktop ( https://www.tableau.com/academic/students ). Use Tableau Desktop to create 3 visualisations about the same file `adult.csv` that was used in the previous tasks. Take screenshots of the visualisations and copy them as image files into the same folder where the current notebook is. Then load each of those images into the notebook by running the `Image(...)` commands:"
   ]
  },
  {
   "cell_type": "code",
   "execution_count": null,
   "metadata": {
    "colab": {},
    "colab_type": "code",
    "id": "EIsZTKzrkajM"
   },
   "outputs": [],
   "source": [
    "from IPython.display import Image\n",
    "# Image(filename='screenshot.png') # please uncomment this line and replace 'screenshot.png' by the correct filename"
   ]
  },
  {
   "cell_type": "markdown",
   "metadata": {
    "colab_type": "text",
    "id": "rgj3UJXwkajP"
   },
   "source": [
    "Once you have run this command and saved the notebook, then the image is contained in the notebook file and you can submit it without having to send the screenshots separately."
   ]
  },
  {
   "cell_type": "markdown",
   "metadata": {
    "colab_type": "text",
    "id": "b-1D3PoWkajQ"
   },
   "source": [
    "**a. Create a figure with the histogram of ages.**"
   ]
  },
  {
   "cell_type": "code",
   "execution_count": null,
   "metadata": {
    "colab": {},
    "colab_type": "code",
    "id": "OivBYnpCkajR"
   },
   "outputs": [],
   "source": [
    "# Image(filename='screenshot.png') # please uncomment this line and replace 'screenshot.png' by the correct filename"
   ]
  },
  {
   "cell_type": "markdown",
   "metadata": {
    "colab_type": "text",
    "id": "A4K6lUtokajU"
   },
   "source": [
    "**b. Create any figure that conveys more information than what has been plotted in the homework so far. Explain one fact that you can read out from this figure.**"
   ]
  },
  {
   "cell_type": "code",
   "execution_count": null,
   "metadata": {
    "colab": {},
    "colab_type": "code",
    "id": "1WvRAg3BkajV"
   },
   "outputs": [],
   "source": [
    "# Image(filename='screenshot.png') # please uncomment this line and replace 'screenshot.png' by the correct filename"
   ]
  },
  {
   "cell_type": "markdown",
   "metadata": {
    "colab_type": "text",
    "id": "wmpx4QGwkajZ"
   },
   "source": [
    "**<font color='red'>Fact 1:</font>** Answer goes here."
   ]
  },
  {
   "cell_type": "markdown",
   "metadata": {
    "colab_type": "text",
    "id": "_ZQD10IEkajZ"
   },
   "source": [
    "**c. Create one more figure that conveys more information than what has been plotted in the homework so far. Explain one fact that you can read out from this figure.**"
   ]
  },
  {
   "cell_type": "code",
   "execution_count": null,
   "metadata": {
    "colab": {},
    "colab_type": "code",
    "id": "TcYrYh7Ekaju"
   },
   "outputs": [],
   "source": [
    "# Image(filename='screenshot.png') # please uncomment this line and replace 'screenshot.png' by the correct filename"
   ]
  },
  {
   "cell_type": "markdown",
   "metadata": {
    "colab_type": "text",
    "id": "HU0sLUBOkaj7"
   },
   "source": [
    "**<font color='red'>Fact 2:</font>** Answer goes here."
   ]
  },
  {
   "cell_type": "markdown",
   "metadata": {
    "colab_type": "text",
    "id": "XY2x9S7jkaj8"
   },
   "source": [
    "**d. Did you find any interesting extra materials for solving this bonus task? It would be very interesting for all of us to hear about what materials you have found.**"
   ]
  },
  {
   "cell_type": "markdown",
   "metadata": {
    "colab_type": "text",
    "id": "1wBaZx9Ykaj-"
   },
   "source": [
    "**<font color='red'>Answer:</font>** Answer goes here."
   ]
  },
  {
   "cell_type": "markdown",
   "metadata": {
    "colab_type": "text",
    "id": "1W5W4Af6kaj_"
   },
   "source": [
    " ## <font color='red'>This was the last task! Please restart the kernel and run all before submission! (`Kernel -> Restart and Run All`)</font>"
   ]
  },
  {
   "cell_type": "markdown",
   "metadata": {
    "colab_type": "text",
    "id": "0ZMGnhJxkakA"
   },
   "source": [
    " ## How long did it take you to solve the homework?\n",
    " \n",
    "Please answer as precisely as you can. It does not affect your points or grade in any way. It is okay, if it took 0.5 hours or 24 hours. Please count in astronomical hours (1 hour = 60 minutes) and not academic hours (1 hour = 45 minutes). The collected information will be used to improve future homeworks."
   ]
  },
  {
   "cell_type": "markdown",
   "metadata": {
    "colab_type": "text",
    "id": "As6upt7mkakA"
   },
   "source": [
    "**<font color='red'>Task 1 (please change X in the next cell into your estimate)</font>**"
   ]
  },
  {
   "cell_type": "markdown",
   "metadata": {
    "colab_type": "text",
    "id": "C5YTMvnGkakC"
   },
   "source": [
    "1.5 hours"
   ]
  },
  {
   "cell_type": "markdown",
   "metadata": {
    "colab_type": "text",
    "id": "MhrAdKCjkakC"
   },
   "source": [
    "**<font color='red'>Task 2 (please change X in the next cell into your estimate)</font>**"
   ]
  },
  {
   "cell_type": "markdown",
   "metadata": {
    "colab_type": "text",
    "id": "jELZF7WWkakD"
   },
   "source": [
    "3 hours"
   ]
  },
  {
   "cell_type": "markdown",
   "metadata": {
    "colab_type": "text",
    "id": "kG_poZ-GkakE"
   },
   "source": [
    "**<font color='red'>Task 3 (please change X in the next cell into your estimate)</font>**"
   ]
  },
  {
   "cell_type": "markdown",
   "metadata": {
    "colab_type": "text",
    "id": "ZKtZ2trMkakF"
   },
   "source": [
    "4 hours"
   ]
  },
  {
   "cell_type": "markdown",
   "metadata": {
    "colab_type": "text",
    "id": "_g9TmBEHkakF"
   },
   "source": [
    "**<font color='red'>Task B1 (please change X in the next cell into your estimate)</font>**"
   ]
  },
  {
   "cell_type": "markdown",
   "metadata": {
    "colab_type": "text",
    "id": "MhKlV5_2kakF"
   },
   "source": [
    "X hours"
   ]
  },
  {
   "cell_type": "markdown",
   "metadata": {
    "colab_type": "text",
    "id": "zizj4Zk0kakG"
   },
   "source": [
    "**<font color='red'>TOTAL (please change X in the next cell into your estimate)</font>**"
   ]
  },
  {
   "cell_type": "markdown",
   "metadata": {
    "colab_type": "text",
    "id": "O1jza-n2kakG"
   },
   "source": [
    "8.5 hours"
   ]
  },
  {
   "cell_type": "markdown",
   "metadata": {
    "colab_type": "text",
    "id": "zC5lB5fPkakH"
   },
   "source": [
    "**<font color='red'>THANK YOU FOR YOUR EFFORT! \n",
    "\n",
    "</font>**"
   ]
  }
 ],
 "metadata": {
  "colab": {
   "collapsed_sections": [
    "1W5W4Af6kaj_",
    "0ZMGnhJxkakA"
   ],
   "name": "IDS2020_HW02_inprogress.ipynb",
   "provenance": []
  },
  "kernelspec": {
   "display_name": "Python 3",
   "language": "python",
   "name": "python3"
  },
  "language_info": {
   "codemirror_mode": {
    "name": "ipython",
    "version": 3
   },
   "file_extension": ".py",
   "mimetype": "text/x-python",
   "name": "python",
   "nbconvert_exporter": "python",
   "pygments_lexer": "ipython3",
   "version": "3.8.3"
  }
 },
 "nbformat": 4,
 "nbformat_minor": 1
}
