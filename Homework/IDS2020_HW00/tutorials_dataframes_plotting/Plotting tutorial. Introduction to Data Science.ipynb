{
 "cells": [
  {
   "cell_type": "markdown",
   "metadata": {},
   "source": [
    "# Introduction\n",
    "\n",
    "In this lab we will be using some Python packages that are great tools for visualizing data: ```matplotlib``` and ```seaborn```, as well as built-in methods for ```pandas``` DataFrames.\n",
    "\n",
    "In case you do not have these libraries already installed in your environment, run:\n",
    "\n",
    "```pip install seaborn```\n",
    "\n",
    "```pip install matplotlib```"
   ]
  },
  {
   "cell_type": "markdown",
   "metadata": {},
   "source": [
    "## Creating the DataFrame"
   ]
  },
  {
   "cell_type": "code",
   "execution_count": null,
   "metadata": {},
   "outputs": [],
   "source": [
    "import pandas as pd\n",
    "import numpy as np\n",
    "from matplotlib import pyplot as plt\n",
    "\n",
    "# you can change the default style of plots - google for more choices\n",
    "plt.style.use(\"ggplot\")"
   ]
  },
  {
   "cell_type": "code",
   "execution_count": null,
   "metadata": {},
   "outputs": [],
   "source": [
    "# read in data from an URL\n",
    "irisdf = pd.read_csv(\"iris.csv\", header = None)\n",
    "\n",
    "# remove NA values\n",
    "irisdf = irisdf.dropna()\n",
    "\n",
    "# add column names\n",
    "irisdf.columns = [\"sepal_length\", \"sepal_width\", \"petal_length\", \"petal_width\", \"species\"]\n",
    "\n",
    "# fix some values in the dataframe\n",
    "irisdf.species = irisdf.species.replace(\"Iris-virginicas\", \"Iris-virginica\")\n",
    "\n",
    "# add a column to the dataset\n",
    "irisdf[\"flower\"] = irisdf.apply(lambda row: \"small\" if row[\"sepal_length\"] < 5 else \"big\", axis=1)\n",
    "\n",
    "# have a look at 6 first instances\n",
    "irisdf.head(6)"
   ]
  },
  {
   "cell_type": "markdown",
   "metadata": {},
   "source": [
    "# pandas DataFrame built-in methods for plotting"
   ]
  },
  {
   "cell_type": "markdown",
   "metadata": {},
   "source": [
    "## Frequency histogram"
   ]
  },
  {
   "cell_type": "code",
   "execution_count": null,
   "metadata": {},
   "outputs": [],
   "source": [
    "# finds the number of bins required to plot each value as a separate bin\n",
    "# if unchanged, the histogram shows the frequency of each individual value\n",
    "# when the number of bins is changed, sepal length values will be grouped together\n",
    "minlength = min(irisdf.sepal_length.values)\n",
    "maxlength = max(irisdf.sepal_length.values)\n",
    "bins = int((maxlength - minlength) * 10) + 1\n",
    "\n",
    "# shows the distribution of sepal lengths \n",
    "irisdf[\"sepal_length\"].hist(bins = bins); "
   ]
  },
  {
   "cell_type": "code",
   "execution_count": null,
   "metadata": {},
   "outputs": [],
   "source": [
    "# run code below to see the actual counts of each sepal length\n",
    "irisdf.sepal_length.value_counts().sort_index()"
   ]
  },
  {
   "cell_type": "markdown",
   "metadata": {},
   "source": [
    "## Barplot for categorical values"
   ]
  },
  {
   "cell_type": "code",
   "execution_count": null,
   "metadata": {},
   "outputs": [],
   "source": [
    "# barplot for occurrences of species\n",
    "irisdf.species.value_counts().plot(kind=\"bar\");\n",
    "\n",
    "# alternatively, as an histogram\n",
    "#irisdf[\"species\"].hist(bins=5);"
   ]
  },
  {
   "cell_type": "markdown",
   "metadata": {},
   "source": [
    "## Grouped barplot"
   ]
  },
  {
   "cell_type": "code",
   "execution_count": null,
   "metadata": {},
   "outputs": [],
   "source": [
    "irisdf.groupby([\"species\", \"flower\"])[\"sepal_length\"].count().unstack().plot(kind=\"bar\");"
   ]
  },
  {
   "cell_type": "markdown",
   "metadata": {},
   "source": [
    "## Scatter plot"
   ]
  },
  {
   "cell_type": "code",
   "execution_count": null,
   "metadata": {},
   "outputs": [],
   "source": [
    "irisdf.plot(x=\"sepal_length\", y=\"sepal_width\", kind=\"scatter\");"
   ]
  },
  {
   "cell_type": "markdown",
   "metadata": {},
   "source": [
    "## Generating data according to some function\n",
    "\n",
    "We use generate values on the x axis, then we apply a function ($f(x) = x^2$ and $g(x) = e^x$) to those values (in the code after the ```lambda``` keyword)\n",
    "\n",
    "In real life, the data is never exactly according to a mathematical function, and it contains noise, thus we add some noise to the data. \n",
    "```np.random.normal(0, 1, 1)``` generates values from normal distribution with mean 0 and standard deviation 1. The last 1 represents the amount of values to be samples. It returns a list, thus ```[0]``` is added to it. "
   ]
  },
  {
   "cell_type": "code",
   "execution_count": null,
   "metadata": {},
   "outputs": [],
   "source": [
    "# generate data \n",
    "\n",
    "cont_data = pd.DataFrame({\n",
    "    # creates a list of values from -4 to 4 with step 0.1\n",
    "    'x': np.arange(-4, 4.1, 0.1),\n",
    "})\n",
    "# applies quadratic function to x and adds some white noise\n",
    "cont_data['quadratic'] = cont_data.apply(lambda df: df.x**2 + np.random.normal(0, 1, 1)[0], axis=1)\n",
    "\n",
    "# applies exponential function to x and adds some white noise\n",
    "cont_data['exponential'] = cont_data.apply(lambda df: np.e**df.x + np.random.normal(0, 1, 1)[0], axis=1)\n",
    "\n",
    "cont_data.head()"
   ]
  },
  {
   "cell_type": "markdown",
   "metadata": {},
   "source": [
    "## Line chart"
   ]
  },
  {
   "cell_type": "code",
   "execution_count": null,
   "metadata": {},
   "outputs": [],
   "source": [
    "cont_data.plot(marker='o', linestyle='dashed', title = \"Data\", x='x', alpha=0.7);"
   ]
  },
  {
   "cell_type": "markdown",
   "metadata": {},
   "source": [
    "More info https://pandas.pydata.org/pandas-docs/stable/generated/pandas.DataFrame.plot.html\n",
    "\n",
    "```matplotlib.plot()``` and ```pandas.DataFrame.plot()``` are different functions, however, by default, built-in plotting functions in ```pandas``` also use ```matplotlib``` in the backend."
   ]
  },
  {
   "cell_type": "markdown",
   "metadata": {},
   "source": [
    "# matplotlib \n",
    "\n",
    "Conventionally, from ```matplotlib``` we import ```pyplot``` as ```plt```.\n",
    "\n",
    "With ```rcParams``` you can configure your figure's aesthetic attributes, e.g. font family, size, line color, line width, etc.\n",
    "\n",
    "They are automatically run at startup and they configure your stuff : **run** & **configure** $\\rightarrow$ rc"
   ]
  },
  {
   "cell_type": "code",
   "execution_count": null,
   "metadata": {},
   "outputs": [],
   "source": [
    "# This will set figsize for all other plots as well\n",
    "plt.rcParams['figure.figsize'] = [6, 6] # width x height (inch)\n",
    "plt.rcParams['figure.figsize'] = 6, 6  # or this way"
   ]
  },
  {
   "cell_type": "code",
   "execution_count": null,
   "metadata": {},
   "outputs": [],
   "source": [
    "# Update font size\n",
    "plt.rcParams.update({'font.size': 26})"
   ]
  },
  {
   "cell_type": "code",
   "execution_count": null,
   "metadata": {},
   "outputs": [],
   "source": [
    "# Plot one figure with (x,y) coordinates.\n",
    "plt.plot(cont_data['x'], cont_data['quadratic'], marker='+',  color='black' , linestyle='');"
   ]
  },
  {
   "cell_type": "code",
   "execution_count": null,
   "metadata": {},
   "outputs": [],
   "source": [
    "# Update font size again\n",
    "plt.rcParams.update({'font.size': 14})"
   ]
  },
  {
   "cell_type": "code",
   "execution_count": null,
   "metadata": {},
   "outputs": [],
   "source": [
    "# Points connected with a line\n",
    "plt.plot(cont_data['x'], cont_data['quadratic'], marker='+',  color='black' , linestyle='--');"
   ]
  },
  {
   "cell_type": "code",
   "execution_count": null,
   "metadata": {},
   "outputs": [],
   "source": [
    "# add labels\n",
    "plt.plot(cont_data['x'], cont_data['quadratic'], 'k+') # k+ is short for  color='black', marker='+', linestyle='' Look https://matplotlib.org/api/_as_gen/matplotlib.pyplot.plot.html\n",
    "plt.title('Data')\n",
    "plt.ylabel('y label')\n",
    "plt.xlabel('x label');"
   ]
  },
  {
   "cell_type": "markdown",
   "metadata": {},
   "source": [
    "## Using subplots and figures"
   ]
  },
  {
   "cell_type": "code",
   "execution_count": null,
   "metadata": {},
   "outputs": [],
   "source": [
    "# Figure can contain multiple plots and you can also set params\n",
    "fig = plt.figure(figsize=[16, 6])\n",
    "\n",
    "# Multiple plots on one figure - add_subplot(nrows, ncols, index)\n",
    "fig.add_subplot(1, 3, 1).plot(cont_data['x'], cont_data['quadratic'], 'k+')\n",
    "fig.add_subplot(132).plot(cont_data['x'], cont_data['quadratic'], 'ro')\n",
    "fig.add_subplot(133).plot(cont_data['x'], cont_data['quadratic'], 'g-');"
   ]
  },
  {
   "cell_type": "code",
   "execution_count": null,
   "metadata": {},
   "outputs": [],
   "source": [
    "# Figure can contain multiple plots and you can also set params\n",
    "fig = plt.figure(figsize=[8, 8])\n",
    "\n",
    "# Multiple plots on one figure - add_subplot(nrows, ncols, index)\n",
    "fig.add_subplot(2, 2, 1).plot(cont_data['x'], cont_data['quadratic'], 'k-')\n",
    "fig.add_subplot(222).plot(cont_data['x'], cont_data['exponential'], 'ro', alpha=0.4)\n",
    "fig.add_subplot(223).plot(cont_data['x'], cont_data['quadratic'], 'g+')\n",
    "fig.add_subplot(224).plot(cont_data['x'], cont_data['exponential'], 'b--');"
   ]
  },
  {
   "cell_type": "markdown",
   "metadata": {},
   "source": [
    "### What on earth are axes?\n",
    "\n",
    "When creating a subplot, it is possible to assign it to a variable as a ```matplotlib.axes.Axes``` instance. This is useful for manipulating the subplots independently."
   ]
  },
  {
   "cell_type": "code",
   "execution_count": null,
   "metadata": {},
   "outputs": [],
   "source": [
    "plt.rcParams['figure.figsize'] = [8, 5]\n",
    "\n",
    "# ax: matplotlib axes object. \n",
    "# The Axes contains most of the figure elements: Axis, Tick, Line2D, Text, Polygon, etc., and sets the coordinate system.\n",
    "ax = plt.subplot(121)  # ax is the name of the plot\n",
    "ax.plot(cont_data['x'], cont_data['exponential'], 'go--', alpha=0.4)\n",
    "\n",
    "ax2 = plt.subplot(122)  # ax2 is the name of the plot\n",
    "ax2.plot(cont_data['x'], cont_data['exponential'], 'b+')\n",
    "\n",
    "ax2.set_title('demo - only ax2')\n",
    "ax.set_xlabel('x for ax');"
   ]
  },
  {
   "cell_type": "markdown",
   "metadata": {},
   "source": [
    "More info https://matplotlib.org/api/axes_api.html\n",
    "\n",
    "## (Relative) frequency histograms\n",
    "\n",
    "A good article about plotting histograms in matplotlib: https://www.datacamp.com/community/tutorials/histograms-matplotlib\n"
   ]
  },
  {
   "cell_type": "code",
   "execution_count": null,
   "metadata": {},
   "outputs": [],
   "source": [
    "# Figure can contain multiple plots and you can also set params\n",
    "fig = plt.figure(figsize=[16, 8])\n",
    "\n",
    "# Multiple plots on one figure - add_subplot(nrows, ncols, index)\n",
    "ax = plt.subplot(1, 3, 1)\n",
    "hist, bin_edges = np.histogram(irisdf[\"sepal_length\"])\n",
    "ax.bar(bin_edges[:-1], hist, width = 0.3, color='#0203aa')\n",
    "ax.set_title('Frequency histogram1')\n",
    "\n",
    "ax2 = plt.subplot(132)  \n",
    "ax2.hist(irisdf[\"sepal_length\"], \n",
    "         width = 0.3,\n",
    "         weights = np.ones(len(irisdf[\"sepal_length\"])) / len(irisdf[\"sepal_length\"]) \n",
    "        )\n",
    "ax2.set_title('Relative frequency histogram')\n",
    "\n",
    "ax3 = plt.subplot(133)  \n",
    "ax3.hist(irisdf[\"sepal_length\"], \n",
    "         width = 0.3,\n",
    "          color='#fb1dbf'\n",
    "        )\n",
    "ax3.set_title('Frequency histogram2');"
   ]
  },
  {
   "cell_type": "markdown",
   "metadata": {},
   "source": [
    "# seaborn"
   ]
  },
  {
   "cell_type": "code",
   "execution_count": null,
   "metadata": {},
   "outputs": [],
   "source": [
    "# Seaborn is a plotting module for Python.\n",
    "# Works well with pandas DataFrames\n",
    "import seaborn as sns\n",
    "plt.rcParams['figure.figsize'] = [6, 6]\n",
    "plt.style.use('seaborn-whitegrid') # Plot style\n",
    "ax = sns.scatterplot(x='x', y=\"exponential\", data=cont_data)"
   ]
  },
  {
   "cell_type": "code",
   "execution_count": null,
   "metadata": {},
   "outputs": [],
   "source": [
    "# hue - Grouping variable that will produce points with different colors\n",
    "# using a built-in dataset from sns\n",
    "tips = sns.load_dataset(\"tips\")\n",
    "ax = sns.scatterplot(x=\"total_bill\", y=\"tip\", hue=\"day\", style=\"time\", data=tips)  # Might give value error: (https://stackoverflow.com/questions/63443583/seaborn-valueerror-zero-size-array-to-reduction-operation-minimum-which-has-no) "
   ]
  },
  {
   "cell_type": "code",
   "execution_count": null,
   "metadata": {},
   "outputs": [],
   "source": [
    "tips = sns.load_dataset(\"tips\")\n",
    "ax = sns.scatterplot(x=\"total_bill\", y=\"tip\",  hue=tips.day.tolist(), style=tips.time.tolist(), data=tips)\n"
   ]
  },
  {
   "cell_type": "markdown",
   "metadata": {},
   "source": [
    "More about scatterplot https://seaborn.pydata.org/generated/seaborn.scatterplot.html\n",
    "\n",
    "Seaborn Example gallery with code https://seaborn.pydata.org/examples/index.html\n",
    "\n",
    "## Adding a point, a line and a legend"
   ]
  },
  {
   "cell_type": "code",
   "execution_count": null,
   "metadata": {},
   "outputs": [],
   "source": [
    "plt.rcParams['figure.figsize'] = [6, 6]\n",
    "plt.plot(cont_data['x'],cont_data['exponential'], 'ro', label='data', alpha=0.2) \n",
    "\n",
    "# add a point with x and y coordinates\n",
    "plt.plot(4,10, color='black', marker='+', markersize=15, label='outlier')\n",
    "plt.plot(*[4,11], color='black', marker='+', markersize=15, label='unknown')\n",
    "\n",
    "# add a line\n",
    "# [[x1,x2], [y1,y2]]\n",
    "plt.plot([8,0], [6,0] ,'g--')\n",
    "plt.plot((8,0), (6,0) ,'g--') # Both work\n",
    "\n",
    "# [[x,y], [x,y]]\n",
    "# zip([1, 2], [10,11]) -> [(1, 10), (2, 11)]\n",
    "# *[(1, 10), (2, 11)] -> (1, 10) (2, 11) ; unpacking the containers\n",
    "plt.plot(*list(zip([1, 2], [10,11])) ,'k-')\n",
    "\n",
    "# add a line with x and y coordinates\n",
    "plt.legend(markerscale=1, frameon=True, loc='upper left')\n",
    "plt.show()"
   ]
  },
  {
   "cell_type": "markdown",
   "metadata": {},
   "source": [
    "## Add annotations to a plot"
   ]
  },
  {
   "cell_type": "code",
   "execution_count": null,
   "metadata": {},
   "outputs": [],
   "source": [
    "plotdata = irisdf.head(10)\n",
    "plt.plot(plotdata['petal_length'], plotdata['petal_width'], 'ro', label='species')\n",
    "for i, label in enumerate(plotdata['species']):\n",
    "    x = plotdata['petal_length'][i] + 0.01 # move the label on x axis\n",
    "    y = plotdata['petal_width'][i]\n",
    "    plt.annotate(label,(x,y))\n",
    "plt.show()"
   ]
  },
  {
   "cell_type": "markdown",
   "metadata": {},
   "source": [
    "# Exercises\n",
    "\n",
    "\n",
    "## EX1\n",
    "\n",
    "Create a pandas dataframe and insert into it values sampled from normal distribution (or generate them in some other way randomly). Make it have 3 columns: x, y, and z, each sampled separately. Choose different means and standard deviations for each of the columns. \n",
    "\n",
    "Hint: ```np.random.normal(loc, scale, size = 200)``` (https://docs.scipy.org/doc/numpy-1.15.0/reference/generated/numpy.random.normal.html)\n",
    "\n",
    "* loc: mean ($\\mu$)\n",
    "* scale: standard deviation ($\\sigma$)\n",
    "\n"
   ]
  },
  {
   "cell_type": "code",
   "execution_count": null,
   "metadata": {},
   "outputs": [],
   "source": []
  },
  {
   "cell_type": "markdown",
   "metadata": {},
   "source": [
    "## EX2\n",
    "\n",
    "Create a plot with 6 histograms in it. 2 rows, 3 columns. All the histograms in the upper row should be relative frequency histograms and the ones in the lower row should be regular frequency histograms. \n",
    "\n",
    "Make two plots for each column from the dataframe created in previous exercise - one of each frequency histogram. "
   ]
  },
  {
   "cell_type": "code",
   "execution_count": null,
   "metadata": {},
   "outputs": [],
   "source": []
  }
 ],
 "metadata": {
  "kernelspec": {
   "display_name": "Python 3",
   "language": "python",
   "name": "python3"
  },
  "language_info": {
   "codemirror_mode": {
    "name": "ipython",
    "version": 3
   },
   "file_extension": ".py",
   "mimetype": "text/x-python",
   "name": "python",
   "nbconvert_exporter": "python",
   "pygments_lexer": "ipython3",
   "version": "3.8.5"
  }
 },
 "nbformat": 4,
 "nbformat_minor": 2
}
