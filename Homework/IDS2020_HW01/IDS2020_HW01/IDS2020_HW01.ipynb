{
 "cells": [
  {
   "cell_type": "markdown",
   "metadata": {
    "colab_type": "text",
    "id": "TS4g5UmgjjFv"
   },
   "source": [
    "# Homework 1 - Introduction and first look at the data\n",
    "## Deadline: September 21st, at noon (12:00)"
   ]
  },
  {
   "cell_type": "markdown",
   "metadata": {
    "colab_type": "text",
    "id": "t0NC69KEjjFy"
   },
   "source": [
    "# 1. Administrative requirements (0.5 points)"
   ]
  },
  {
   "cell_type": "markdown",
   "metadata": {
    "colab_type": "text",
    "id": "Rv-PItbwjjF1"
   },
   "source": [
    "Please read carefully the following rules and instructions."
   ]
  },
  {
   "cell_type": "markdown",
   "metadata": {
    "colab_type": "text",
    "id": "c_p-kCP3jjF2"
   },
   "source": [
    "## Homework rules\n",
    "\n",
    "The following rules apply on all 10 homeworks within this course, unless stated otherwise later.\n",
    "\n",
    "#### No publishing or sharing of solutions\n",
    "\n",
    "We kindly ask you not to publish or share the solutions to this or following homeworks (not even after the deadline, as some parts might be reused in the coming years).\n",
    "\n",
    "#### Solving individually, no electronic sharing\n",
    "\n",
    "The homeworks must be solved individually. You may ask or provide help to each other in trying to understand the tasks, but tasks must be solved and written down individually. Making any single line of code or text from your solution electronically available to other students is forbidden. If the code that you have written has a bug and you cannot find it yourself, it is fine to ask help from a more experienced programmer without providing him/her electronic access to your code (screenshot image of a few lines of code is fine, but copy-pasted code is not fine).\n",
    "\n",
    "#### Using standard Python packages\n",
    "\n",
    "You are free to use standard Python packages in your code, unless the particular task is stating otherwise.\n",
    "\n",
    "#### Limitations on using public code\n",
    "\n",
    "We sometimes request to implement an algorithm by yourself without using machine learning libraries such as `sklearn`, because it helps you to understand and remember it.  You then have an option to use some code from public external sources (e.g. Stack Overflow) as part of your code or as source of inspiration, but you must then cite it in the homework and make sure you understand the code. You can receive up to 80% of the maximal points per each subtask where you used public external code. If you use but don't cite a piece of public external code then we consider it to be plagiarism. Use of external code that is not publicly available online is forbidden.\n",
    "\n",
    "NB! As an exception to the above, for visualization purposes (plotting) you may use any public code without citation.\n",
    "\n",
    "#### Plagiarism cases\n",
    "\n",
    "Violation of the above rules is considered plagiarism. If you get caught with a clear case of plagiarism:\n",
    "\n",
    "- If there are no previous problems, depending on the situation, you might get away with just getting 0 points for the task and get a warning from us. Note that the curriculum manager would also be informed.\n",
    "- If the problem appears several times, or we know that you have already warnings from other courses, the dean's office will be informed, and this can lead to expelling."
   ]
  },
  {
   "cell_type": "markdown",
   "metadata": {
    "colab_type": "text",
    "id": "bBEb78wrjjF5"
   },
   "source": [
    "## How to solve the homework?\n",
    "\n",
    "#### Please no deletion of cells, only adding solutions\n",
    "\n",
    "Please do not delete any of the cells that have been given to you in the homework. If you accidentally do so, please add the deleted content back (`Edit -> Undo Deleted Cell` might help). Please only edit the cells where you need to insert your solutions. It is fine to have your solution consisting of many cells, so feel free to add cells if needed. Please make sure that the solution to each subtask is in the dedicated slot, e.g. it is not sufficient to just state that you already answered this question in the previous subtask.\n",
    "\n",
    "These formatting requests are to make our grading simpler. We are using automatic tools to rearrange solutions, e.g. collecting solutions of the same subtask by all students into a single notebook for faster manual grading. If you delete some cells of task description then you risk losing points, although we try to notice and grade manually all such cases.\n",
    "\n",
    "#### No need for code comments (unless stated otherwise)\n",
    "\n",
    "We have no capacity to grade the way that you write code. Thus it is not compulsory to write comments into your code, just write enough to facilitate your coding.\n",
    "\n",
    "#### Please read the tasks and instructions carefully\n",
    "\n",
    "There are different kinds of tasks in homeworks. Some require answering questions or discussing some topic, in this case, your text should be comprehensive and written with full sentences. Some subtasks can have multiple questions, in such case please make sure you address all questions.\n",
    "\n",
    "#### Tracking your time\n",
    "\n",
    "We will appreciate if you track your time spent on solving the homework and report it in the dedicated cells at the end of the homework. This is not compulsory and does not affect your grade in any way. The collected information will be used to improve future homeworks.\n",
    "\n",
    "#### Before submission\n",
    "\n",
    "Please make sure that you do `Kernel -> Restart and Run All` on your Jupyter notebook before submission. This is something that we will do anyways before starting to grade, and by doing it yourself you can ensure that everything works as intended. Please make sure that your code does not throw errors half way through, because then whatever comes after that in the notebook would not be run. If you are not able to fully solve some coding task then at least please leave it at a state where it does not throw errors, commenting out some lines if necessary.\n",
    "\n",
    "#### Submit only .ipynb file\n",
    "\n",
    "Please submit only the .ipynb Jupyter notebook file, unless stated otherwise. We will run the notebook with all the required files (e.g. CSV files with data) in the same folder.\n",
    "\n",
    "#### Deadline\n",
    "\n",
    "The homework deadline is a hard deadline, meaning that you will get zero points for the homework even if you are late for just 1 minute. In case of medical reasons for being late please bring a certificate from the doctor and you can still get full points.\n",
    "\n",
    "#### Questions?\n",
    "\n",
    "Please ask on the forum if you have any questions regarding the above instructions or if you have problems understanding the tasks. We are happy to try to help :-)\n"
   ]
  },
  {
   "cell_type": "markdown",
   "metadata": {
    "colab_type": "text",
    "id": "N8t70tqQjjF6"
   },
   "source": [
    "## Homework format, discussion and feedback\n",
    "\n",
    "Please read carefully the following instructions about homework format, discussion and feedback \n",
    "\n",
    "https://courses.cs.ut.ee/2020/ids/fall/Main/HomeworkFormat"
   ]
  },
  {
   "cell_type": "markdown",
   "metadata": {
    "colab_type": "text",
    "id": "mZ17QyrijjF9"
   },
   "source": [
    "**<font color='red'>Answer:</font>** The most important sentece for me is \"You will not have to be correct or be able to answer everything. You just have to try and think along. Don't be scared to answer incorrectly or be wrong.\" "
   ]
  },
  {
   "cell_type": "markdown",
   "metadata": {
    "colab_type": "text",
    "id": "l22wxf6mjjGC"
   },
   "source": [
    "# 2. Jupyter Notebook tutorial video (0.5 points)"
   ]
  },
  {
   "cell_type": "markdown",
   "metadata": {
    "colab_type": "text",
    "id": "1Oq4poJJjjGE"
   },
   "source": [
    "First, please run the following cell by clicking inside it and typing \"ctrl+enter\", watch the following video \"Jupyter Notebook Tutorial\" that will pop, and answer all the questions below. Please answer the questions by replacing \"Answer goes here\" with your answer. Also, we recommend you to follow the examples in the video and try it out by yourself."
   ]
  },
  {
   "cell_type": "code",
   "execution_count": 1,
   "metadata": {
    "colab": {},
    "colab_type": "code",
    "id": "xP_e8pEujjGG",
    "outputId": "f6a4e8fb-a397-4ec4-d1ae-d3ca2378df73"
   },
   "outputs": [
    {
     "data": {
      "text/html": [
       "<iframe width=\"560\" height=\"315\" src=\"https://www.youtube.com/embed/HW29067qVWk\" frameborder=\"0\" allowfullscreen></iframe>\n"
      ],
      "text/plain": [
       "<IPython.core.display.HTML object>"
      ]
     },
     "metadata": {},
     "output_type": "display_data"
    }
   ],
   "source": [
    "%%HTML \n",
    "<iframe width=\"560\" height=\"315\" src=\"https://www.youtube.com/embed/HW29067qVWk\" frameborder=\"0\" allowfullscreen></iframe>"
   ]
  },
  {
   "cell_type": "markdown",
   "metadata": {
    "colab_type": "text",
    "id": "sOtXhZWXjjGQ"
   },
   "source": [
    " **a. What does the number inside \"In [?]\" mean before each cell?**"
   ]
  },
  {
   "cell_type": "markdown",
   "metadata": {
    "colab_type": "text",
    "id": "NLbXSXeEjjGR"
   },
   "source": [
    "**<font color='red'>Answer:</font>** The \"ln[?]\" is corresponding to the number of cells you executed before this cell. For example, if you have not executed any cells, the first one you will execute will be the \"ln[1]\", and it doesn't matter if it is the first cell in the document.\n",
    "If you run another cell, and then get back to this first cell, it will be now \"ln[3]\"."
   ]
  },
  {
   "cell_type": "markdown",
   "metadata": {
    "colab_type": "text",
    "id": "SaczVYoyjjGS"
   },
   "source": [
    "**b. What are the advantages (or disadvantages) of using Jupyter notebook compared to other programming environments (feel free to compare against any other environments that you have used in the past)?**"
   ]
  },
  {
   "cell_type": "markdown",
   "metadata": {
    "colab_type": "text",
    "id": "FgIbkAT1jjGT"
   },
   "source": [
    "**<font color='red'>Answer:</font>** There is a lot of advantages of using Jupyter notebook, compared to other programming environments. \n",
    "- It is open-source, and free (and this, for a programmer, it's the best)\n",
    "- You can execute cell one by one, so you can easily test your programm\n",
    "- In Data Science, Jupyter's DataFrame are really simple and easy to read\n",
    "- You can switch between programming cells and text cells, in order to make a really understandable document\n",
    "- Finally, it is also easier to share code using Jupyter\n",
    "\n",
    "Of course there is also some disadvantages, like :\n",
    "- If there is too muche code, Jupyter have is own limit\n",
    "- Sometimes, if we're not used to, it can be confusing if we are executing cells in a wrong order"
   ]
  },
  {
   "cell_type": "markdown",
   "metadata": {
    "colab_type": "text",
    "id": "uSVpDJwyjjGU"
   },
   "source": [
    "# 3. Get started with Jupyter Notebook and pandas package  (1 point)"
   ]
  },
  {
   "cell_type": "markdown",
   "metadata": {
    "colab_type": "text",
    "id": "YvIlRCgzjjGV"
   },
   "source": [
    "In this course, we are going to use pandas data structures and data analysis tool. Please make sure that you have gone through the tutorials presented in the second practice session: https://courses.cs.ut.ee/2020/ids/fall/Main/PracticeSessions -> Tutorial for DataFrames and Plotting. After that please answer the following questions below about the abalone dataset. The abalone dataset is included in the IDS2019_HW01.zip container. The same dataset can also be downloaded from __[here as CSV](https://courses.cs.ut.ee/2017/DM/fall/uploads/Main/abalone.csv)__ . Short description of variables is __[here as TXT](https://courses.cs.ut.ee/2017/DM/fall/uploads/Main/abalone_desc_2.txt)__ ."
   ]
  },
  {
   "cell_type": "markdown",
   "metadata": {
    "colab_type": "text",
    "id": "PPavS-XUjjGW"
   },
   "source": [
    "First, let's import pandas package as pd and read data from the CSV file into a pandas DataFrame."
   ]
  },
  {
   "cell_type": "code",
   "execution_count": 4,
   "metadata": {
    "colab": {},
    "colab_type": "code",
    "id": "rxENGTKqjjGY"
   },
   "outputs": [],
   "source": [
    "import pandas as pd\n",
    "data = pd.read_csv(\"abalone.csv\")"
   ]
  },
  {
   "cell_type": "markdown",
   "metadata": {
    "colab_type": "text",
    "id": "l0jBCOtWjjGg"
   },
   "source": [
    "Question 0 is an example of how you should answer the following questions. First, in the #TODO cell you have to write the code representing your solution. And in the answer cell write the answer with your own words. It does not have to be a full sentence."
   ]
  },
  {
   "cell_type": "markdown",
   "metadata": {
    "colab_type": "text",
    "id": "V-970YJ8jjGh"
   },
   "source": [
    " **0. What is overall memory consumption of the data?** (EXAMPLE)"
   ]
  },
  {
   "cell_type": "code",
   "execution_count": 5,
   "metadata": {
    "colab": {},
    "colab_type": "code",
    "id": "UYyY75ELjjGi",
    "outputId": "0520a3a3-6664-43c2-99a5-9aa68a5c874f"
   },
   "outputs": [
    {
     "data": {
      "text/plain": [
       "102128"
      ]
     },
     "execution_count": 5,
     "metadata": {},
     "output_type": "execute_result"
    }
   ],
   "source": [
    "# TODO - here you have to write the code how did you find the answer.\n",
    "data.memory_usage(deep=True).sum()"
   ]
  },
  {
   "cell_type": "markdown",
   "metadata": {
    "colab_type": "text",
    "id": "2uJ470iCjjGr"
   },
   "source": [
    "**<font color='red'>Answer:</font>** The total memory usage is 98128 bytes (98,128 kb)."
   ]
  },
  {
   "cell_type": "markdown",
   "metadata": {
    "colab_type": "text",
    "id": "vo1xsEOvjjGr"
   },
   "source": [
    " **a. What are the column names of the dataset?** "
   ]
  },
  {
   "cell_type": "code",
   "execution_count": 7,
   "metadata": {
    "colab": {},
    "colab_type": "code",
    "id": "vUHodpzjjjGs"
   },
   "outputs": [
    {
     "data": {
      "text/plain": [
       "Index(['Gender', 'Length', 'Diameter', 'Height', 'Weight', 'Rings'], dtype='object')"
      ]
     },
     "execution_count": 7,
     "metadata": {},
     "output_type": "execute_result"
    }
   ],
   "source": [
    "# TODO\n",
    "data.columns"
   ]
  },
  {
   "cell_type": "markdown",
   "metadata": {
    "colab_type": "text",
    "id": "j4qCrPsvjjGw"
   },
   "source": [
    "**<font color='red'>Answer:</font>** The column names are :\n",
    "- Gender\n",
    "- Length\n",
    "- Diameter\n",
    "- Height\n",
    "- Weight\n",
    "- Rings"
   ]
  },
  {
   "cell_type": "markdown",
   "metadata": {
    "colab_type": "text",
    "id": "GMudsYO0jjGz"
   },
   "source": [
    "**b. How many observations (i.e. rows) are in this data frame?**"
   ]
  },
  {
   "cell_type": "code",
   "execution_count": 5,
   "metadata": {
    "colab": {},
    "colab_type": "code",
    "id": "Lmqo2AskjjG1"
   },
   "outputs": [
    {
     "data": {
      "text/plain": [
       "(1000, 6)"
      ]
     },
     "execution_count": 5,
     "metadata": {},
     "output_type": "execute_result"
    }
   ],
   "source": [
    "# TODO\n",
    "data.shape"
   ]
  },
  {
   "cell_type": "markdown",
   "metadata": {
    "colab_type": "text",
    "id": "g-OYKNebjjG7"
   },
   "source": [
    "**<font color='red'>Answer:</font>** In this data frame, there is 1000 rows and 6 columns."
   ]
  },
  {
   "cell_type": "markdown",
   "metadata": {
    "colab_type": "text",
    "id": "qNbrN5i3jjG7"
   },
   "source": [
    "**c. Print the first 5 lines from the dataset. What are the values of feature \"Rings\" of the printed observations?**"
   ]
  },
  {
   "cell_type": "code",
   "execution_count": 6,
   "metadata": {
    "colab": {},
    "colab_type": "code",
    "id": "7ieo-2wUjjG8"
   },
   "outputs": [
    {
     "data": {
      "text/html": [
       "<div>\n",
       "<style scoped>\n",
       "    .dataframe tbody tr th:only-of-type {\n",
       "        vertical-align: middle;\n",
       "    }\n",
       "\n",
       "    .dataframe tbody tr th {\n",
       "        vertical-align: top;\n",
       "    }\n",
       "\n",
       "    .dataframe thead th {\n",
       "        text-align: right;\n",
       "    }\n",
       "</style>\n",
       "<table border=\"1\" class=\"dataframe\">\n",
       "  <thead>\n",
       "    <tr style=\"text-align: right;\">\n",
       "      <th></th>\n",
       "      <th>Gender</th>\n",
       "      <th>Length</th>\n",
       "      <th>Diameter</th>\n",
       "      <th>Height</th>\n",
       "      <th>Weight</th>\n",
       "      <th>Rings</th>\n",
       "    </tr>\n",
       "  </thead>\n",
       "  <tbody>\n",
       "    <tr>\n",
       "      <th>0</th>\n",
       "      <td>F</td>\n",
       "      <td>0.505</td>\n",
       "      <td>0.385</td>\n",
       "      <td>0.135</td>\n",
       "      <td>0.6185</td>\n",
       "      <td>12</td>\n",
       "    </tr>\n",
       "    <tr>\n",
       "      <th>1</th>\n",
       "      <td>F</td>\n",
       "      <td>0.650</td>\n",
       "      <td>0.475</td>\n",
       "      <td>0.165</td>\n",
       "      <td>1.3875</td>\n",
       "      <td>9</td>\n",
       "    </tr>\n",
       "    <tr>\n",
       "      <th>2</th>\n",
       "      <td>I</td>\n",
       "      <td>0.520</td>\n",
       "      <td>0.380</td>\n",
       "      <td>0.135</td>\n",
       "      <td>0.5395</td>\n",
       "      <td>8</td>\n",
       "    </tr>\n",
       "    <tr>\n",
       "      <th>3</th>\n",
       "      <td>F</td>\n",
       "      <td>0.550</td>\n",
       "      <td>0.425</td>\n",
       "      <td>0.140</td>\n",
       "      <td>0.9520</td>\n",
       "      <td>7</td>\n",
       "    </tr>\n",
       "    <tr>\n",
       "      <th>4</th>\n",
       "      <td>M</td>\n",
       "      <td>0.640</td>\n",
       "      <td>0.525</td>\n",
       "      <td>0.180</td>\n",
       "      <td>1.3135</td>\n",
       "      <td>10</td>\n",
       "    </tr>\n",
       "  </tbody>\n",
       "</table>\n",
       "</div>"
      ],
      "text/plain": [
       "  Gender  Length  Diameter  Height  Weight  Rings\n",
       "0      F   0.505     0.385   0.135  0.6185     12\n",
       "1      F   0.650     0.475   0.165  1.3875      9\n",
       "2      I   0.520     0.380   0.135  0.5395      8\n",
       "3      F   0.550     0.425   0.140  0.9520      7\n",
       "4      M   0.640     0.525   0.180  1.3135     10"
      ]
     },
     "execution_count": 6,
     "metadata": {},
     "output_type": "execute_result"
    }
   ],
   "source": [
    "# TODO\n",
    "data.head()"
   ]
  },
  {
   "cell_type": "markdown",
   "metadata": {
    "colab_type": "text",
    "id": "WSLB5OmLjjHB"
   },
   "source": [
    "**<font color='red'>Answer:</font>** The values of feature \"Rings\" are [12,9,8,7,10] for the 5 first lines."
   ]
  },
  {
   "cell_type": "markdown",
   "metadata": {
    "colab_type": "text",
    "id": "NtEwG6vGjjHB"
   },
   "source": [
    "**d. Extract the last 3 rows of the data frame. What is the \"Weight\" of these abalones?**"
   ]
  },
  {
   "cell_type": "code",
   "execution_count": 7,
   "metadata": {
    "colab": {},
    "colab_type": "code",
    "id": "XCEzWVdVjjHC"
   },
   "outputs": [
    {
     "data": {
      "text/html": [
       "<div>\n",
       "<style scoped>\n",
       "    .dataframe tbody tr th:only-of-type {\n",
       "        vertical-align: middle;\n",
       "    }\n",
       "\n",
       "    .dataframe tbody tr th {\n",
       "        vertical-align: top;\n",
       "    }\n",
       "\n",
       "    .dataframe thead th {\n",
       "        text-align: right;\n",
       "    }\n",
       "</style>\n",
       "<table border=\"1\" class=\"dataframe\">\n",
       "  <thead>\n",
       "    <tr style=\"text-align: right;\">\n",
       "      <th></th>\n",
       "      <th>Gender</th>\n",
       "      <th>Length</th>\n",
       "      <th>Diameter</th>\n",
       "      <th>Height</th>\n",
       "      <th>Weight</th>\n",
       "      <th>Rings</th>\n",
       "    </tr>\n",
       "  </thead>\n",
       "  <tbody>\n",
       "    <tr>\n",
       "      <th>997</th>\n",
       "      <td>M</td>\n",
       "      <td>0.660</td>\n",
       "      <td>0.500</td>\n",
       "      <td>0.165</td>\n",
       "      <td>1.3195</td>\n",
       "      <td>9</td>\n",
       "    </tr>\n",
       "    <tr>\n",
       "      <th>998</th>\n",
       "      <td>I</td>\n",
       "      <td>0.525</td>\n",
       "      <td>0.400</td>\n",
       "      <td>0.130</td>\n",
       "      <td>0.6455</td>\n",
       "      <td>8</td>\n",
       "    </tr>\n",
       "    <tr>\n",
       "      <th>999</th>\n",
       "      <td>M</td>\n",
       "      <td>0.515</td>\n",
       "      <td>0.395</td>\n",
       "      <td>0.135</td>\n",
       "      <td>1.0070</td>\n",
       "      <td>8</td>\n",
       "    </tr>\n",
       "  </tbody>\n",
       "</table>\n",
       "</div>"
      ],
      "text/plain": [
       "    Gender  Length  Diameter  Height  Weight  Rings\n",
       "997      M   0.660     0.500   0.165  1.3195      9\n",
       "998      I   0.525     0.400   0.130  0.6455      8\n",
       "999      M   0.515     0.395   0.135  1.0070      8"
      ]
     },
     "execution_count": 7,
     "metadata": {},
     "output_type": "execute_result"
    }
   ],
   "source": [
    "# TODO\n",
    "data.tail(3)"
   ]
  },
  {
   "cell_type": "markdown",
   "metadata": {
    "colab_type": "text",
    "id": "MdEZSq7MjjHH"
   },
   "source": [
    "**<font color='red'>Answer:</font>** The value of \"Weight\" in the 3 last rows are [1.3195,0.6455,1.0070]"
   ]
  },
  {
   "cell_type": "markdown",
   "metadata": {
    "colab_type": "text",
    "id": "6_sV9GSEjjHH"
   },
   "source": [
    "**e. What is the value of diameter in the row 577?**"
   ]
  },
  {
   "cell_type": "code",
   "execution_count": 8,
   "metadata": {
    "colab": {},
    "colab_type": "code",
    "id": "TGxYHEzqjjHJ"
   },
   "outputs": [
    {
     "data": {
      "text/plain": [
       "0.51"
      ]
     },
     "execution_count": 8,
     "metadata": {},
     "output_type": "execute_result"
    }
   ],
   "source": [
    "# TODO\n",
    "#data.head()\n",
    "data.iloc[576, 2]"
   ]
  },
  {
   "cell_type": "markdown",
   "metadata": {
    "colab_type": "text",
    "id": "Lwf4q22ojjHQ"
   },
   "source": [
    "**<font color='red'>Answer:</font>** The value of diameter in the row 577 is 0.42 (we type 578 because the first line is 0)."
   ]
  },
  {
   "cell_type": "markdown",
   "metadata": {
    "colab_type": "text",
    "id": "NPN8y88bjjHQ"
   },
   "source": [
    "**f. What is the mean of the height column?**<br>\n",
    "Hint 1: Use pandas describe() method"
   ]
  },
  {
   "cell_type": "code",
   "execution_count": 9,
   "metadata": {
    "colab": {},
    "colab_type": "code",
    "id": "8otaEA7FjjHR"
   },
   "outputs": [
    {
     "data": {
      "text/html": [
       "<div>\n",
       "<style scoped>\n",
       "    .dataframe tbody tr th:only-of-type {\n",
       "        vertical-align: middle;\n",
       "    }\n",
       "\n",
       "    .dataframe tbody tr th {\n",
       "        vertical-align: top;\n",
       "    }\n",
       "\n",
       "    .dataframe thead th {\n",
       "        text-align: right;\n",
       "    }\n",
       "</style>\n",
       "<table border=\"1\" class=\"dataframe\">\n",
       "  <thead>\n",
       "    <tr style=\"text-align: right;\">\n",
       "      <th></th>\n",
       "      <th>Length</th>\n",
       "      <th>Diameter</th>\n",
       "      <th>Height</th>\n",
       "      <th>Weight</th>\n",
       "      <th>Rings</th>\n",
       "    </tr>\n",
       "  </thead>\n",
       "  <tbody>\n",
       "    <tr>\n",
       "      <th>count</th>\n",
       "      <td>1000.000000</td>\n",
       "      <td>1000.000000</td>\n",
       "      <td>1000.000000</td>\n",
       "      <td>1000.000000</td>\n",
       "      <td>1000.000000</td>\n",
       "    </tr>\n",
       "    <tr>\n",
       "      <th>mean</th>\n",
       "      <td>0.522760</td>\n",
       "      <td>0.405955</td>\n",
       "      <td>0.141100</td>\n",
       "      <td>0.825540</td>\n",
       "      <td>11.318000</td>\n",
       "    </tr>\n",
       "    <tr>\n",
       "      <th>std</th>\n",
       "      <td>0.120064</td>\n",
       "      <td>0.098832</td>\n",
       "      <td>0.057064</td>\n",
       "      <td>0.490380</td>\n",
       "      <td>47.227697</td>\n",
       "    </tr>\n",
       "    <tr>\n",
       "      <th>min</th>\n",
       "      <td>0.075000</td>\n",
       "      <td>0.055000</td>\n",
       "      <td>0.000000</td>\n",
       "      <td>0.002000</td>\n",
       "      <td>1.000000</td>\n",
       "    </tr>\n",
       "    <tr>\n",
       "      <th>25%</th>\n",
       "      <td>0.450000</td>\n",
       "      <td>0.345000</td>\n",
       "      <td>0.115000</td>\n",
       "      <td>0.438875</td>\n",
       "      <td>8.000000</td>\n",
       "    </tr>\n",
       "    <tr>\n",
       "      <th>50%</th>\n",
       "      <td>0.545000</td>\n",
       "      <td>0.420000</td>\n",
       "      <td>0.145000</td>\n",
       "      <td>0.801000</td>\n",
       "      <td>9.000000</td>\n",
       "    </tr>\n",
       "    <tr>\n",
       "      <th>75%</th>\n",
       "      <td>0.615000</td>\n",
       "      <td>0.480000</td>\n",
       "      <td>0.165000</td>\n",
       "      <td>1.146250</td>\n",
       "      <td>11.000000</td>\n",
       "    </tr>\n",
       "    <tr>\n",
       "      <th>max</th>\n",
       "      <td>0.815000</td>\n",
       "      <td>0.650000</td>\n",
       "      <td>1.130000</td>\n",
       "      <td>2.555000</td>\n",
       "      <td>1500.000000</td>\n",
       "    </tr>\n",
       "  </tbody>\n",
       "</table>\n",
       "</div>"
      ],
      "text/plain": [
       "            Length     Diameter       Height       Weight        Rings\n",
       "count  1000.000000  1000.000000  1000.000000  1000.000000  1000.000000\n",
       "mean      0.522760     0.405955     0.141100     0.825540    11.318000\n",
       "std       0.120064     0.098832     0.057064     0.490380    47.227697\n",
       "min       0.075000     0.055000     0.000000     0.002000     1.000000\n",
       "25%       0.450000     0.345000     0.115000     0.438875     8.000000\n",
       "50%       0.545000     0.420000     0.145000     0.801000     9.000000\n",
       "75%       0.615000     0.480000     0.165000     1.146250    11.000000\n",
       "max       0.815000     0.650000     1.130000     2.555000  1500.000000"
      ]
     },
     "execution_count": 9,
     "metadata": {},
     "output_type": "execute_result"
    }
   ],
   "source": [
    "# TODO\n",
    "data.describe()\n",
    "#data.mean()"
   ]
  },
  {
   "cell_type": "markdown",
   "metadata": {
    "colab_type": "text",
    "id": "3NAp50FLjjHV"
   },
   "source": [
    "**<font color='red'>Answer:</font>** The mean of the column \"Height\" is 0.141100"
   ]
  },
  {
   "cell_type": "markdown",
   "metadata": {
    "colab_type": "text",
    "id": "38R-exanjjHV"
   },
   "source": [
    "**g. Extract the subset of rows of the data frame where gender is M and weight values are below 0.75. What is the mean of diameter in this subset?**"
   ]
  },
  {
   "cell_type": "code",
   "execution_count": 10,
   "metadata": {
    "colab": {},
    "colab_type": "code",
    "id": "stivtXgFjjHW"
   },
   "outputs": [
    {
     "data": {
      "text/plain": [
       "0.3426470588235295"
      ]
     },
     "execution_count": 10,
     "metadata": {},
     "output_type": "execute_result"
    }
   ],
   "source": [
    "# TODO\n",
    "data[(data[\"Gender\"] == \"M\") & (data[\"Weight\"] <= 0.75)].Diameter.mean()"
   ]
  },
  {
   "cell_type": "markdown",
   "metadata": {
    "colab_type": "text",
    "id": "2xneZF2ojjHc"
   },
   "source": [
    "**<font color='red'>Answer:</font>** The diameter's mean where gender is M and weight values are below 0.75 is : 0.3426470588235295"
   ]
  },
  {
   "cell_type": "markdown",
   "metadata": {
    "colab_type": "text",
    "id": "k5RdikncjjHc"
   },
   "source": [
    "**h. What is the minimum of length when rings is equal to 18?**"
   ]
  },
  {
   "cell_type": "code",
   "execution_count": 11,
   "metadata": {
    "colab": {},
    "colab_type": "code",
    "id": "tLf8gVRSjjHe"
   },
   "outputs": [
    {
     "data": {
      "text/plain": [
       "0.465"
      ]
     },
     "execution_count": 11,
     "metadata": {},
     "output_type": "execute_result"
    }
   ],
   "source": [
    "# TODO\n",
    "#data[(data[\"Rings\"] == 18)].head()\n",
    "data[(data[\"Rings\"] == 18)].Length.min()"
   ]
  },
  {
   "cell_type": "markdown",
   "metadata": {
    "colab_type": "text",
    "id": "hJMsd02WjjHi"
   },
   "source": [
    "**<font color='red'>Answer:</font>** The minimum of lenght when rings is equal 18 is 0.465"
   ]
  },
  {
   "cell_type": "markdown",
   "metadata": {
    "colab_type": "text",
    "id": "R5_ba2WmjjHj"
   },
   "source": [
    "**i. Is the weight of abalones related to how many rings they have? Please provide evidence and explanatory text with the conclusion?** <br>Hint 1:use groupby and mean()"
   ]
  },
  {
   "cell_type": "code",
   "execution_count": 9,
   "metadata": {
    "colab": {},
    "colab_type": "code",
    "id": "sINatvCljjHj"
   },
   "outputs": [
    {
     "data": {
      "text/plain": [
       "Rings\n",
       "1       0.002000\n",
       "3       0.024500\n",
       "4       0.055036\n",
       "5       0.132586\n",
       "6       0.266913\n",
       "7       0.416463\n",
       "8       0.633463\n",
       "9       0.849236\n",
       "10      1.018775\n",
       "11      1.145120\n",
       "12      1.051500\n",
       "13      1.098090\n",
       "14      1.261604\n",
       "15      1.073864\n",
       "16      1.164417\n",
       "17      1.274455\n",
       "18      1.076625\n",
       "19      1.094750\n",
       "20      1.102278\n",
       "21      1.676000\n",
       "22      1.157000\n",
       "23      1.043250\n",
       "27      1.212500\n",
       "1500    0.802500\n",
       "Name: Weight, dtype: float64"
      ]
     },
     "execution_count": 9,
     "metadata": {},
     "output_type": "execute_result"
    }
   ],
   "source": [
    "# TODO\n",
    "data.groupby(\"Rings\").mean()[\"Weight\"]"
   ]
  },
  {
   "cell_type": "markdown",
   "metadata": {
    "colab_type": "text",
    "id": "o989Cf2ijjHn"
   },
   "source": [
    "**<font color='red'>Answer:</font>** No, rings and weight are not related. If we have 10 rings for a weight's mean of 1.01, we should have for 23 rings a weight's mean of (1.01*23)/10 = 2,32. But, we have for 23 rings a weight's mean equals to 1.04.\n",
    "So, we can conlude that rings and weight are not related."
   ]
  },
  {
   "cell_type": "markdown",
   "metadata": {
    "colab_type": "text",
    "id": "DTVrSnjsjjHn"
   },
   "source": [
    "# 4. TED talks  (1 point)"
   ]
  },
  {
   "cell_type": "markdown",
   "metadata": {
    "colab_type": "text",
    "id": "kQCR0cT1jjHo"
   },
   "source": [
    "Look at https://www.springboard.com/blog/11-must-watch-ted-talks-on-data-science/. Please watch at least 3 of these talks. For each of those three talks answer the following 2 questions (altogether we expect 3x2=6 answers). <b>Please don’t forget to include the titles of the videos</b> that you watched in your answers. Full score will be given only for comprehensive answers. For example, the answers \"I liked the talk\" and \"I liked the talk because it was about data science\" are not good enough."
   ]
  },
  {
   "cell_type": "markdown",
   "metadata": {
    "colab_type": "text",
    "id": "7Y0DzE59jjHo"
   },
   "source": [
    "### How We Found the Worst Place to Park in New York City — Using Big Data"
   ]
  },
  {
   "cell_type": "markdown",
   "metadata": {
    "colab_type": "text",
    "id": "VAPgaMIXjjHq"
   },
   "source": [
    "**a. Was it interesting to you and what did you like or didn’t like about this?**"
   ]
  },
  {
   "cell_type": "markdown",
   "metadata": {
    "colab_type": "text",
    "id": "Pijj1d6HjjHr"
   },
   "source": [
    "**<font color='red'>Answer:</font>** I like it because he talk about the necessity of sharing data, and the power that every citizen have. In the video, because he did some research, he found out a problem in NYC and NYC listen to him. So, maybe not every problem but a lot of problems (especially small ones) who can be solved by research and juste a little action. I also found interesting the fact that we should be able to access data much easier than pdf."
   ]
  },
  {
   "cell_type": "markdown",
   "metadata": {
    "colab_type": "text",
    "id": "GSou_YjkjjHr"
   },
   "source": [
    "**b. What was the key message that you would tell about to your friend?**"
   ]
  },
  {
   "cell_type": "markdown",
   "metadata": {
    "colab_type": "text",
    "id": "QupE46_UjjHs"
   },
   "source": [
    "**<font color='red'>Answer:</font>** The key message is \"Every citizen can share is data, in order to make everyone life better\". You don't have to be part of a tech cumminuty, you can just share and/or see any data and the government needs to make an easy access to these data."
   ]
  },
  {
   "cell_type": "markdown",
   "metadata": {
    "colab_type": "text",
    "id": "yOBlEOGTjjHt"
   },
   "source": [
    "### How I Hacked Online Dating"
   ]
  },
  {
   "cell_type": "markdown",
   "metadata": {
    "colab_type": "text",
    "id": "RCLrjOnGjjHu"
   },
   "source": [
    "**a. Was it interesting to you and what did you like or didn’t like about this?**"
   ]
  },
  {
   "cell_type": "markdown",
   "metadata": {
    "colab_type": "text",
    "id": "njRwOlUDjjHu"
   },
   "source": [
    "**<font color='red'>Answer:</font>** I like a lot the presentation, because it was catchy and really fun. I found really interesting that she made through something we all know, a market research and all the data analysis. She proved that everything could be analyze with data, even dating."
   ]
  },
  {
   "cell_type": "markdown",
   "metadata": {
    "colab_type": "text",
    "id": "PFcZqbIJjjHw"
   },
   "source": [
    "**b. What was the key message that you would tell about to your friend?**"
   ]
  },
  {
   "cell_type": "markdown",
   "metadata": {
    "colab_type": "text",
    "id": "NVuwFbcqjjHw"
   },
   "source": [
    "**<font color='red'>Answer:</font>** The key message is \"Each field, each area can be studied in order to improve this field, by analyzing data. Of course data analysis is working a lot in business, but in fact, we can use it everywhere.\""
   ]
  },
  {
   "cell_type": "markdown",
   "metadata": {
    "colab_type": "text",
    "id": "4NtZHO9SjjHw"
   },
   "source": [
    "### Your Social Media “likes” Expose More than You Think"
   ]
  },
  {
   "cell_type": "markdown",
   "metadata": {
    "colab_type": "text",
    "id": "4a8hFA9DjjHy"
   },
   "source": [
    "**a. Was it interesting to you and what did you like or didn’t like about this?**"
   ]
  },
  {
   "cell_type": "markdown",
   "metadata": {
    "colab_type": "text",
    "id": "iQcxDMp5jjHy"
   },
   "source": [
    "**<font color='red'>Answer:</font>** I was interested on this TedTalk because I'm really concerned about privacy (I'm not even on Facebook, and I know you share a lot of data even if you are not on any social media). The way she talked about privacy, and the fact that it would be great if she's not able to \"steal\" data from people, I think it is very honest. Also, the curly fries's like is a really good example of how data scientist measure your profile."
   ]
  },
  {
   "cell_type": "markdown",
   "metadata": {
    "colab_type": "text",
    "id": "xXEEx1BBjjH0"
   },
   "source": [
    "**b. What was the key message that you would tell about to your friend?**"
   ]
  },
  {
   "cell_type": "markdown",
   "metadata": {
    "colab_type": "text",
    "id": "HYrXvt4UjjH1"
   },
   "source": [
    "**<font color='red'>Answer:</font>** The key message is \"Just being on internet make you give a lot of information about yourself. The problem isn't using social medias but how social medias steal your data, and your not aware of this. So maybe you can be more carefull about what you like, because now you know that it will be used by some data scientist !\""
   ]
  },
  {
   "cell_type": "markdown",
   "metadata": {
    "colab_type": "text",
    "id": "dJt7NRhEjjH2"
   },
   "source": [
    "# 5. Data for your life  (1 point)"
   ]
  },
  {
   "cell_type": "markdown",
   "metadata": {
    "colab_type": "text",
    "id": "qkJzeGaTjjH3"
   },
   "source": [
    "Please think about how you could gather or find data and use or analyse it to improve something in your everyday life, such as related to home, friends, travel, school, work, etc. Alternatively, this idea could improve the life of someone you know personally. Please describe your idea and its potential impact in 100-300 words."
   ]
  },
  {
   "cell_type": "markdown",
   "metadata": {
    "colab_type": "text",
    "id": "VyVSNrHpjjH4"
   },
   "source": [
    "**<font color='red'>Answer:</font>** I'm not a big gamer, but with the two weeks quarantine, I restart to play a little bit in video games, essentially to CS:GO. To resume really quickly, it's a game where 2 teams of 5 are against :\n",
    "- One team is the \"terrorist\" team : to win, they have to kill all the \"anti-terrorist\" team OR plant a bomb and protect her during a certain time\n",
    "- The other team is the \"anti-terrorist\" team : to win, they have to kill all the \"terrorist\" team OR defuse the bomb.\n",
    "\n",
    "First of all, why it will be useful. This videogame is very popular, and there is professional teams and world championship, where more and more of money is engaged. So, if there is money, I think some people should be interested into a Data Science project on this game.\n",
    "\n",
    "Then, it's a videogame, so maybe collecting data can be really easy, because everything is already in a computer. There is also a lot of games around the world, so if we could extract all these data, we can have a large data base. We can track players around the map, famous location, weapons used, time, level of players, ...\n",
    "\n",
    "Finally, all this study can improve a lot the way to play this game, in order to make some strategies. Maybe if we exploit data, we can see a strategy that is never used by professional teams. Also, like it is a videogame, there is maybe some \"bug\" in it that we can exploit ?\n",
    "\n",
    "The difficulty for this project will maybe be that there is a lot of data, and it will be hard to found a right correlation between all of these."
   ]
  },
  {
   "cell_type": "markdown",
   "metadata": {
    "colab_type": "text",
    "id": "YYg34BqqjjH4"
   },
   "source": [
    " ## <font color='red'>This was the last task! Please restart the kernel and run all before submission! (`Kernel -> Restart and Run All`)</font>"
   ]
  },
  {
   "cell_type": "markdown",
   "metadata": {
    "colab_type": "text",
    "id": "4ufaBL_njjH4"
   },
   "source": [
    "## How long did it take you to solve the homework?"
   ]
  },
  {
   "cell_type": "markdown",
   "metadata": {
    "colab_type": "text",
    "id": "42XP9hh5jjH6"
   },
   "source": [
    "Please answer as precisely as you can. It does not affect your points or grade in any way. It is okey, if it took 0.5 hours or 24 hours. Please count in astronomical hours (1 hour = 60 minutes) and not academic hours (1 hour = 45 minutes). The collected information will be used to improve future homeworks.\n",
    "<font color = \"red\"><b> Please replace \"X\" with the amount of hours and don't change the unit \"hours\" or write any other text. </b></font>"
   ]
  },
  {
   "cell_type": "markdown",
   "metadata": {
    "colab_type": "text",
    "id": "KvATxu-XjjH7"
   },
   "source": [
    "**<font color='red'>Task 1 (please change X in the next cell into your estimate)</font>**"
   ]
  },
  {
   "cell_type": "markdown",
   "metadata": {
    "colab_type": "text",
    "id": "wQ0IJT62jjH7"
   },
   "source": [
    "0.1 hour"
   ]
  },
  {
   "cell_type": "markdown",
   "metadata": {
    "colab_type": "text",
    "id": "1hBZW-6CjjH9"
   },
   "source": [
    "**<font color='red'>Task 2 (please change X in the next cell into your estimate)</font>**"
   ]
  },
  {
   "cell_type": "markdown",
   "metadata": {
    "colab_type": "text",
    "id": "haPyc1TFjjH-"
   },
   "source": [
    "0.5 hour"
   ]
  },
  {
   "cell_type": "markdown",
   "metadata": {
    "colab_type": "text",
    "id": "EDucEcs4jjH_"
   },
   "source": [
    "**<font color='red'>Task 3 (please change X in the next cell into your estimate)</font>**"
   ]
  },
  {
   "cell_type": "markdown",
   "metadata": {
    "colab_type": "text",
    "id": "VrXFu1PqjjH_"
   },
   "source": [
    "1 hour"
   ]
  },
  {
   "cell_type": "markdown",
   "metadata": {
    "colab_type": "text",
    "id": "Rfw-mk4KjjIB"
   },
   "source": [
    "**<font color='red'>Task 4 (please change X in the next cell into your estimate)</font>**"
   ]
  },
  {
   "cell_type": "markdown",
   "metadata": {
    "colab_type": "text",
    "id": "-7mxUREojjIB"
   },
   "source": [
    "1 hour"
   ]
  },
  {
   "cell_type": "markdown",
   "metadata": {
    "colab_type": "text",
    "id": "hw_DX1ktjjIC"
   },
   "source": [
    "**<font color='red'>Task 5 (please change X in the next cell into your estimate)</font>**"
   ]
  },
  {
   "cell_type": "markdown",
   "metadata": {
    "colab_type": "text",
    "id": "RlOnzmM3jjIC"
   },
   "source": [
    "0.1 hour"
   ]
  },
  {
   "cell_type": "markdown",
   "metadata": {
    "colab_type": "text",
    "id": "KaYox34wjjID"
   },
   "source": [
    "**<font color='red'>TOTAL (please change X in the next cell into your estimate)</font>**"
   ]
  },
  {
   "cell_type": "markdown",
   "metadata": {
    "colab_type": "text",
    "id": "vj7bxipFjjID"
   },
   "source": [
    "2.7 hours"
   ]
  },
  {
   "cell_type": "markdown",
   "metadata": {
    "colab_type": "text",
    "id": "b4zHbLwkjjIE"
   },
   "source": [
    "**<font color='red'>THANK YOU FOR YOUR EFFORT!</font>**"
   ]
  }
 ],
 "metadata": {
  "colab": {
   "collapsed_sections": [
    "7Y0DzE59jjHo",
    "yOBlEOGTjjHt",
    "4NtZHO9SjjHw",
    "YYg34BqqjjH4",
    "4ufaBL_njjH4"
   ],
   "name": "IDS2020_HW01.ipynb",
   "provenance": []
  },
  "kernelspec": {
   "display_name": "Python 3",
   "language": "python",
   "name": "python3"
  },
  "language_info": {
   "codemirror_mode": {
    "name": "ipython",
    "version": 3
   },
   "file_extension": ".py",
   "mimetype": "text/x-python",
   "name": "python",
   "nbconvert_exporter": "python",
   "pygments_lexer": "ipython3",
   "version": "3.8.3"
  }
 },
 "nbformat": 4,
 "nbformat_minor": 1
}
